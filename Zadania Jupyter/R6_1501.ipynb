{
  "nbformat": 4,
  "nbformat_minor": 0,
  "metadata": {
    "colab": {
      "provenance": [],
      "authorship_tag": "ABX9TyM7CL+03Izjz41bdf8ZoJG6",
      "include_colab_link": true
    },
    "kernelspec": {
      "name": "ir",
      "display_name": "R"
    },
    "language_info": {
      "name": "R"
    }
  },
  "cells": [
    {
      "cell_type": "markdown",
      "metadata": {
        "id": "view-in-github",
        "colab_type": "text"
      },
      "source": [
        "<a href=\"https://colab.research.google.com/github/brzenio/R_study/blob/main/R6_1501.ipynb\" target=\"_parent\"><img src=\"https://colab.research.google.com/assets/colab-badge.svg\" alt=\"Open In Colab\"/></a>"
      ]
    },
    {
      "cell_type": "markdown",
      "source": [
        "Zadanie_1:\n",
        "\n",
        "a) Stworz wektor liczb od 1 do 1000 dodajac do niego wartosci losowe z rozkladu normalnego o sredniej 100 oraz o odchyleniu standardowym 10.\n",
        "\n",
        "b) Podziel powyzszy szerego na 6 rownych odcinkow.\n",
        "\n",
        "c) Stworz za pomoca petli for 6 wykresow liniowy stworzonych w jednym okienku podzielonym na 6 obszarow.\n",
        "\n",
        "d) Kazdy wykres stworzony jest na podstawie odcinkow z pkt b).\n",
        "\n",
        "e) Tytul wykresu powinien zmieniac sie dynamicznie od \"Wykres_1\" do \"Wykres_6\".\n",
        "\n",
        "f) Nazwa osi pionowej to \"temperatura\"."
      ],
      "metadata": {
        "id": "w0ge8CX83TAP"
      }
    },
    {
      "cell_type": "code",
      "source": [
        "set.seed(123) # ustawienie ziarna losowego\n",
        "wektor <- 1:1000 + rnorm(1000, mean = 100, sd = 10) # stworzenie wektora i dodanie wartości losowych\n",
        "\n",
        "odcinek <- length(wektor) / 6\n",
        "\n",
        "for (i in 1:6) {\n",
        "  assign(paste0(\"odcinek_\", i), wektor[(odcinek*(i-1)+1):(odcinek*i)])\n",
        "}\n",
        "\n",
        "# punkt b z zewnetrzna biblioteka\n",
        "library(dplyr)\n",
        "odcinki <- wektor %>% mutate(grupa = cut(wektor, breaks = 6))\n",
        "\n",
        "\n",
        "library(ggplot2)\n",
        "for (i in 1:6){\n",
        "    p <- ggplot(data = odcinki %>% filter(grupa == levels(grupa)[i]), aes(x = wektor)) +\n",
        "    geom_line() +\n",
        "    ggtitle(paste0(\"Wykres_\", i)) +\n",
        "    xlab(\"temperatura\")\n",
        "  print(p)\n",
        "}\n",
        "\n",
        "# d, e i f jest już powyżej"
      ],
      "metadata": {
        "colab": {
          "base_uri": "https://localhost:8080/",
          "height": 409
        },
        "id": "OySmJaPg3b1F",
        "outputId": "2b224851-3d5a-4e2e-e6b6-df4382d00e5c"
      },
      "execution_count": 6,
      "outputs": [
        {
          "output_type": "stream",
          "name": "stderr",
          "text": [
            "\n",
            "Attaching package: ‘dplyr’\n",
            "\n",
            "\n",
            "The following objects are masked from ‘package:stats’:\n",
            "\n",
            "    filter, lag\n",
            "\n",
            "\n",
            "The following objects are masked from ‘package:base’:\n",
            "\n",
            "    intersect, setdiff, setequal, union\n",
            "\n",
            "\n"
          ]
        },
        {
          "output_type": "error",
          "ename": "ERROR",
          "evalue": "ignored",
          "traceback": [
            "Error in UseMethod(\"mutate\"): no applicable method for 'mutate' applied to an object of class \"c('double', 'numeric')\"\nTraceback:\n",
            "1. wektor %>% mutate(grupa = cut(wektor, breaks = 6))",
            "2. mutate(., grupa = cut(wektor, breaks = 6))"
          ]
        }
      ]
    },
    {
      "cell_type": "markdown",
      "source": [
        "Zadanie_2:\n",
        "\n",
        "a) Stworz nowy katalog \"zadanie_2\".\n",
        "\n",
        "b) Ustaw sciezke dostepowa do katologu \"zadanie_2\".\n",
        "\n",
        "c) Stworz w petli 20 plikow tekstowych o nazwach \"plik_1\",...\"plik_20\". \n",
        "   Kazdy plik powinien zawierac jeden wiersz z kolejnymi datami poczawszy od dnia dzisiejszego.\n",
        "\n",
        "d) Za pomoca petli zlacz pliki z punktu \"c)\" w jeden plik \"plik_wszystko\". \n",
        "   Petla powinna iterowac po posortowanych nazwach plikow znajdujacaych sie w katalogu \"zadanie_2\"."
      ],
      "metadata": {
        "id": "Vzc3mUQ13crE"
      }
    },
    {
      "cell_type": "code",
      "source": [
        "dir.create(\"zadanie_2\")\n",
        "\n",
        "setwd(\"zadanie_2\")\n",
        "\n",
        "write.table(data.frame(Sys.Date()), file = paste0(\"plik_\",i,\".txt\"), sep = \"\\t\", row.names = FALSE)\n",
        "\n",
        "list.files(path = \".\", pattern = \"*.txt\", full.names = TRUE)\n",
        "\n",
        "write.table(read.table(file_name), file = \"plik_wszystko\", sep = \"\\t\", row.names = FALSE, col.names = FALSE, append = TRUE)"
      ],
      "metadata": {
        "colab": {
          "base_uri": "https://localhost:8080/",
          "height": 206
        },
        "id": "4jfX0aVC3jiI",
        "outputId": "0d4dc62b-b124-4b8a-d9e0-4a9d690c833d"
      },
      "execution_count": 7,
      "outputs": [
        {
          "output_type": "display_data",
          "data": {
            "text/html": [
              "'./plik_6.txt'"
            ],
            "text/markdown": "'./plik_6.txt'",
            "text/latex": "'./plik\\_6.txt'",
            "text/plain": [
              "[1] \"./plik_6.txt\""
            ]
          },
          "metadata": {}
        },
        {
          "output_type": "error",
          "ename": "ERROR",
          "evalue": "ignored",
          "traceback": [
            "Error in read.table(file_name): object 'file_name' not found\nTraceback:\n",
            "1. write.table(read.table(file_name), file = \"plik_wszystko\", sep = \"\\t\", \n .     row.names = FALSE, col.names = FALSE, append = TRUE)",
            "2. is.data.frame(x)",
            "3. read.table(file_name)"
          ]
        }
      ]
    },
    {
      "cell_type": "markdown",
      "source": [
        "Zadanie_3:\n",
        "\n",
        "a) Stworz obiekt tekstowy \"czas_char\" z wartoscia \"2023-sty-07 20:10:10\".\n",
        "\n",
        "b) Przeksztalc obiekt \"czas_char\" na obiekt \"czas_num\" przedstawiajacy czas numerycznie.\n",
        "\n",
        "c) Stworz sekwencje \"sekwencja\" kolejnych 10 czasow oddzielonych od siebie jednym rokiem.\n",
        "\n",
        "d) Wyeksportuj obiekt \"sekwencja\" do pliku pod nazwa \"zadanie3.txt\". Plik nie powinien zawierac nazw wierszy ani kolumn."
      ],
      "metadata": {
        "id": "ok_C8Zxx3k0M"
      }
    },
    {
      "cell_type": "code",
      "source": [
        "czas_char <- as.character(\"2023-sty-07 20:10:10\")\n",
        "\n",
        "czas_num <- as.POSIXct(czas_char, format = \"%Y-%b-%d %H:%M:%S\")\n",
        "\n",
        "sekwencja <- seq(from = czas_num, by = difftime(1, units = \"years\"), length.out = 10)\n",
        "\n",
        "write.table(sekwencja, file = \"zadanie3.txt\", row.names = FALSE, col.names = FALSE)"
      ],
      "metadata": {
        "colab": {
          "base_uri": "https://localhost:8080/",
          "height": 244
        },
        "id": "KpM_t3aa3r0v",
        "outputId": "e4018dfc-aecc-4965-f3a4-6f3a265f1a3d"
      },
      "execution_count": 8,
      "outputs": [
        {
          "output_type": "error",
          "ename": "ERROR",
          "evalue": "ignored",
          "traceback": [
            "Error in as.POSIXct.numeric(time1): 'origin' must be supplied\nTraceback:\n",
            "1. seq(from = czas_num, by = difftime(1, units = \"years\"), length.out = 10)",
            "2. seq.POSIXt(from = czas_num, by = difftime(1, units = \"years\"), \n .     length.out = 10)",
            "3. difftime(1, units = \"years\")",
            "4. as.POSIXct(time1)",
            "5. as.POSIXct.numeric(time1)",
            "6. stop(\"'origin' must be supplied\")"
          ]
        }
      ]
    },
    {
      "cell_type": "markdown",
      "source": [
        "Zadanie_4:\n",
        "\n",
        "a) Napisz wlasna funkcje \"cumsum\" (zwracajaca wektor, ktorego elementami sa sumy skumulowane).\n",
        "\n",
        "b) Porownaj jej dzialanie z wbudowana funkcja \"cumsum\"."
      ],
      "metadata": {
        "id": "9blyEhRX3sRZ"
      }
    },
    {
      "cell_type": "code",
      "source": [
        "cumsum_custom <- function(x) {\n",
        "  for (i in 2:length(x)) {\n",
        "    x[i] <- x[i] + x[i-1]\n",
        "  }\n",
        "  return(x)\n",
        "}\n",
        "\n",
        "x <- c(1, 2, 3, 4, 5)\n",
        "custom_result <- cumsum_custom(x)\n",
        "builtin_result <- cumsum(x)\n",
        "\n",
        "#Porownanie wyników\n",
        "identical(custom_result, builtin_result)"
      ],
      "metadata": {
        "colab": {
          "base_uri": "https://localhost:8080/",
          "height": 34
        },
        "id": "Q0ZDl7dZ3u5J",
        "outputId": "a07bd34d-7917-4bd5-a7af-8ca48456c61e"
      },
      "execution_count": 9,
      "outputs": [
        {
          "output_type": "display_data",
          "data": {
            "text/html": [
              "TRUE"
            ],
            "text/markdown": "TRUE",
            "text/latex": "TRUE",
            "text/plain": [
              "[1] TRUE"
            ]
          },
          "metadata": {}
        }
      ]
    },
    {
      "cell_type": "markdown",
      "source": [
        "Zadanie_5:\n",
        "\n",
        "a) Napisz funkcje rozwiazujaca rownanie liniowe \"y = ax + b\" dla danych parametrow wejsciowych \"a,x,b\"."
      ],
      "metadata": {
        "id": "QyWoSalk3vFh"
      }
    },
    {
      "cell_type": "code",
      "source": [
        "solveLinearEquation <- function(a, x, b) {\n",
        "  y <- a*x + b\n",
        "  return(y)\n",
        "}\n",
        "\n",
        "solveLinearEquation(2, 3, 1) # zwraca 7\n",
        "solveLinearEquation(a=3, x=5, b=2) # zwraca 17"
      ],
      "metadata": {
        "colab": {
          "base_uri": "https://localhost:8080/",
          "height": 52
        },
        "id": "JMEEBkl-3x9y",
        "outputId": "31649692-5dc0-4c4b-90f9-8fa9e1da088a"
      },
      "execution_count": 10,
      "outputs": [
        {
          "output_type": "display_data",
          "data": {
            "text/html": [
              "7"
            ],
            "text/markdown": "7",
            "text/latex": "7",
            "text/plain": [
              "[1] 7"
            ]
          },
          "metadata": {}
        },
        {
          "output_type": "display_data",
          "data": {
            "text/html": [
              "17"
            ],
            "text/markdown": "17",
            "text/latex": "17",
            "text/plain": [
              "[1] 17"
            ]
          },
          "metadata": {}
        }
      ]
    },
    {
      "cell_type": "markdown",
      "source": [
        "Zadanie_6:\n",
        "\n",
        "a) Napisz wlasna funkcje rownowazna wbudowanej funkcji \"matrix\". Zobacz kod zrodlowy \"matrix\"."
      ],
      "metadata": {
        "id": "ITtOlrNe3yKw"
      }
    },
    {
      "cell_type": "code",
      "source": [
        "moja_matrix <- function(data, nrow, ncol, byrow = FALSE) {\n",
        "    if (byrow) {\n",
        "        dim(data) <- c(nrow, ncol)\n",
        "    } else {\n",
        "        dim(data) <- c(ncol, nrow)\n",
        "    }\n",
        "    return(data)\n",
        "}\n",
        "\n",
        "moja_matrix(c(1:10), 5, 2)"
      ],
      "metadata": {
        "colab": {
          "base_uri": "https://localhost:8080/",
          "height": 114
        },
        "id": "rcdxruI43zv0",
        "outputId": "054f5acf-81a0-489d-af1d-a82abec4771f"
      },
      "execution_count": 13,
      "outputs": [
        {
          "output_type": "display_data",
          "data": {
            "text/html": [
              "<table class=\"dataframe\">\n",
              "<caption>A matrix: 2 × 5 of type int</caption>\n",
              "<tbody>\n",
              "\t<tr><td>1</td><td>3</td><td>5</td><td>7</td><td> 9</td></tr>\n",
              "\t<tr><td>2</td><td>4</td><td>6</td><td>8</td><td>10</td></tr>\n",
              "</tbody>\n",
              "</table>\n"
            ],
            "text/markdown": "\nA matrix: 2 × 5 of type int\n\n| 1 | 3 | 5 | 7 |  9 |\n| 2 | 4 | 6 | 8 | 10 |\n\n",
            "text/latex": "A matrix: 2 × 5 of type int\n\\begin{tabular}{lllll}\n\t 1 & 3 & 5 & 7 &  9\\\\\n\t 2 & 4 & 6 & 8 & 10\\\\\n\\end{tabular}\n",
            "text/plain": [
              "     [,1] [,2] [,3] [,4] [,5]\n",
              "[1,] 1    3    5    7     9  \n",
              "[2,] 2    4    6    8    10  "
            ]
          },
          "metadata": {}
        }
      ]
    }
  ]
}
