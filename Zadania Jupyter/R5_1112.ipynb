{
  "nbformat": 4,
  "nbformat_minor": 0,
  "metadata": {
    "colab": {
      "provenance": [],
      "authorship_tag": "ABX9TyMPHzv8FpvakOgKYXnRh9lD",
      "include_colab_link": true
    },
    "kernelspec": {
      "name": "ir",
      "display_name": "R"
    },
    "language_info": {
      "name": "R"
    }
  },
  "cells": [
    {
      "cell_type": "markdown",
      "metadata": {
        "id": "view-in-github",
        "colab_type": "text"
      },
      "source": [
        "<a href=\"https://colab.research.google.com/github/brzenio/R_study/blob/main/R5_1112.ipynb\" target=\"_parent\"><img src=\"https://colab.research.google.com/assets/colab-badge.svg\" alt=\"Open In Colab\"/></a>"
      ]
    },
    {
      "cell_type": "markdown",
      "source": [
        "adresy <- c(\"Kasztanowa 14, Bielsko Biała\", \"Łąki Zielonej 152, Katowice\", \"Specerowa 8, Elbląg\")\n",
        "\n",
        "produkty <- c(\"TV \", \"laptop\", \" przenośna ładowarka\", \"Bezprzewodowa klawiatura\", \" SłuchaWki \" )\n",
        "\n",
        "dluga_sentencja <- stringr::sentences[1:10]\n",
        "\n",
        "nazwa_pola <- c( \"order_number\", \"order_date\", \"customer_email\", \"product_ title\", \"amount\" )\n",
        "\n",
        "pracownik_umiejetnosci <- c(\"Jan Kowalski (Beginner)\", \"Marta Górska (Pro)\", \"Krzysztof Biały (Pro)\", \"Sarah Machoń (Medium)\")"
      ],
      "metadata": {
        "id": "X6GiGsWGfHIM"
      }
    },
    {
      "cell_type": "code",
      "source": [
        "adresy <- c(\"Kasztanowa 14, Bielsko Biała\", \"Łąki Zielonej 152, Katowice\", \"Specerowa 8, Elbląg\")\n",
        "produkty <- c(\"TV \", \"laptop\", \" przenośna ładowarka\", \"Bezprzewodowa klawiatura\", \" SłuchaWki \" )\n",
        "dluga_sentencja <- stringr::sentences[1:10]\n",
        "nazwa_pola <- c( \"order_number\", \"order_date\", \"customer_email\", \"product_ title\", \"amount\" )\n",
        "pracownik_umiejetnosci <- c(\"Jan Kowalski (Beginner)\", \"Marta Górska (Pro)\", \"Krzysztof Biały (Pro)\", \"Sarah Machoń (Medium)\")"
      ],
      "metadata": {
        "id": "E3H-Y2FGf78U"
      },
      "execution_count": null,
      "outputs": []
    },
    {
      "cell_type": "markdown",
      "source": [
        "Zadanie 1: Normalizuj wektor adresów, zastępując wielkie litery małymi literami."
      ],
      "metadata": {
        "id": "OK5W9va6fHG9"
      }
    },
    {
      "cell_type": "code",
      "source": [
        "adresy\n",
        "adresy <- tolower(adresy)\n",
        "adresy"
      ],
      "metadata": {
        "colab": {
          "base_uri": "https://localhost:8080/",
          "height": 52
        },
        "id": "6ZPa-cAFgJHK",
        "outputId": "d81bed27-097d-47c5-c89f-5c3e2a017f91"
      },
      "execution_count": null,
      "outputs": [
        {
          "output_type": "display_data",
          "data": {
            "text/html": [
              "<style>\n",
              ".list-inline {list-style: none; margin:0; padding: 0}\n",
              ".list-inline>li {display: inline-block}\n",
              ".list-inline>li:not(:last-child)::after {content: \"\\00b7\"; padding: 0 .5ex}\n",
              "</style>\n",
              "<ol class=list-inline><li>'Kasztanowa 14, Bielsko Biała'</li><li>'Łąki Zielonej 152, Katowice'</li><li>'Specerowa 8, Elbląg'</li></ol>\n"
            ],
            "text/markdown": "1. 'Kasztanowa 14, Bielsko Biała'\n2. 'Łąki Zielonej 152, Katowice'\n3. 'Specerowa 8, Elbląg'\n\n\n",
            "text/latex": "\\begin{enumerate*}\n\\item 'Kasztanowa 14, Bielsko Biała'\n\\item 'Łąki Zielonej 152, Katowice'\n\\item 'Specerowa 8, Elbląg'\n\\end{enumerate*}\n",
            "text/plain": [
              "[1] \"Kasztanowa 14, Bielsko Biała\" \"Łąki Zielonej 152, Katowice\" \n",
              "[3] \"Specerowa 8, Elbląg\"         "
            ]
          },
          "metadata": {}
        },
        {
          "output_type": "display_data",
          "data": {
            "text/html": [
              "<style>\n",
              ".list-inline {list-style: none; margin:0; padding: 0}\n",
              ".list-inline>li {display: inline-block}\n",
              ".list-inline>li:not(:last-child)::after {content: \"\\00b7\"; padding: 0 .5ex}\n",
              "</style>\n",
              "<ol class=list-inline><li>'kasztanowa 14, bielsko biała'</li><li>'łąki zielonej 152, katowice'</li><li>'specerowa 8, elbląg'</li></ol>\n"
            ],
            "text/markdown": "1. 'kasztanowa 14, bielsko biała'\n2. 'łąki zielonej 152, katowice'\n3. 'specerowa 8, elbląg'\n\n\n",
            "text/latex": "\\begin{enumerate*}\n\\item 'kasztanowa 14, bielsko biała'\n\\item 'łąki zielonej 152, katowice'\n\\item 'specerowa 8, elbląg'\n\\end{enumerate*}\n",
            "text/plain": [
              "[1] \"kasztanowa 14, bielsko biała\" \"łąki zielonej 152, katowice\" \n",
              "[3] \"specerowa 8, elbląg\"         "
            ]
          },
          "metadata": {}
        }
      ]
    },
    {
      "cell_type": "markdown",
      "source": [
        "Zadanie 2: Wybierz tylko liczbową część wektora adresów."
      ],
      "metadata": {
        "id": "1Z_W9-odfHCZ"
      }
    },
    {
      "cell_type": "code",
      "source": [
        "adresy_liczbowe <- gsub(\"[^0-9]\", \"\", adresy)\n",
        "adresy_liczbowe"
      ],
      "metadata": {
        "colab": {
          "base_uri": "https://localhost:8080/",
          "height": 34
        },
        "id": "WfHhru1BgJbC",
        "outputId": "da065b62-110b-4f15-985a-373655a3f1a8"
      },
      "execution_count": null,
      "outputs": [
        {
          "output_type": "display_data",
          "data": {
            "text/html": [
              "<style>\n",
              ".list-inline {list-style: none; margin:0; padding: 0}\n",
              ".list-inline>li {display: inline-block}\n",
              ".list-inline>li:not(:last-child)::after {content: \"\\00b7\"; padding: 0 .5ex}\n",
              "</style>\n",
              "<ol class=list-inline><li>'14'</li><li>'152'</li><li>'8'</li></ol>\n"
            ],
            "text/markdown": "1. '14'\n2. '152'\n3. '8'\n\n\n",
            "text/latex": "\\begin{enumerate*}\n\\item '14'\n\\item '152'\n\\item '8'\n\\end{enumerate*}\n",
            "text/plain": [
              "[1] \"14\"  \"152\" \"8\"  "
            ]
          },
          "metadata": {}
        }
      ]
    },
    {
      "cell_type": "markdown",
      "source": [
        "Zadanie 3: Podziel wektor adresów na dwie części: adres i miasto. Wynik powinien być macierzą."
      ],
      "metadata": {
        "id": "kr5tf6uRfG34"
      }
    },
    {
      "cell_type": "code",
      "source": [
        "adresy_miasta <- strsplit(adresy, \",\")\n",
        "adresy_miasta <- lapply(adresy_miasta, function(x) c(x[1], x[2]))\n",
        "adresy_miasta\n",
        "adresy_miasta <- do.call(rbind, adresy_miasta)\n",
        "\n",
        "adresy_miasta"
      ],
      "metadata": {
        "colab": {
          "base_uri": "https://localhost:8080/",
          "height": 209
        },
        "id": "TN_ErmCCgJj6",
        "outputId": "b3528fed-8830-49b0-95c1-2b4ec21dce5b"
      },
      "execution_count": null,
      "outputs": [
        {
          "output_type": "display_data",
          "data": {
            "text/html": [
              "<ol>\n",
              "\t<li><style>\n",
              ".list-inline {list-style: none; margin:0; padding: 0}\n",
              ".list-inline>li {display: inline-block}\n",
              ".list-inline>li:not(:last-child)::after {content: \"\\00b7\"; padding: 0 .5ex}\n",
              "</style>\n",
              "<ol class=list-inline><li>'Kasztanowa 14'</li><li>' Bielsko Biała'</li></ol>\n",
              "</li>\n",
              "\t<li><style>\n",
              ".list-inline {list-style: none; margin:0; padding: 0}\n",
              ".list-inline>li {display: inline-block}\n",
              ".list-inline>li:not(:last-child)::after {content: \"\\00b7\"; padding: 0 .5ex}\n",
              "</style>\n",
              "<ol class=list-inline><li>'Łąki Zielonej 152'</li><li>' Katowice'</li></ol>\n",
              "</li>\n",
              "\t<li><style>\n",
              ".list-inline {list-style: none; margin:0; padding: 0}\n",
              ".list-inline>li {display: inline-block}\n",
              ".list-inline>li:not(:last-child)::after {content: \"\\00b7\"; padding: 0 .5ex}\n",
              "</style>\n",
              "<ol class=list-inline><li>'Specerowa 8'</li><li>' Elbląg'</li></ol>\n",
              "</li>\n",
              "</ol>\n"
            ],
            "text/markdown": "1. 1. 'Kasztanowa 14'\n2. ' Bielsko Biała'\n\n\n\n2. 1. 'Łąki Zielonej 152'\n2. ' Katowice'\n\n\n\n3. 1. 'Specerowa 8'\n2. ' Elbląg'\n\n\n\n\n\n",
            "text/latex": "\\begin{enumerate}\n\\item \\begin{enumerate*}\n\\item 'Kasztanowa 14'\n\\item ' Bielsko Biała'\n\\end{enumerate*}\n\n\\item \\begin{enumerate*}\n\\item 'Łąki Zielonej 152'\n\\item ' Katowice'\n\\end{enumerate*}\n\n\\item \\begin{enumerate*}\n\\item 'Specerowa 8'\n\\item ' Elbląg'\n\\end{enumerate*}\n\n\\end{enumerate}\n",
            "text/plain": [
              "[[1]]\n",
              "[1] \"Kasztanowa 14\"  \" Bielsko Biała\"\n",
              "\n",
              "[[2]]\n",
              "[1] \"Łąki Zielonej 152\" \" Katowice\"        \n",
              "\n",
              "[[3]]\n",
              "[1] \"Specerowa 8\" \" Elbląg\"    \n"
            ]
          },
          "metadata": {}
        },
        {
          "output_type": "display_data",
          "data": {
            "text/html": [
              "<table class=\"dataframe\">\n",
              "<caption>A matrix: 3 × 2 of type chr</caption>\n",
              "<tbody>\n",
              "\t<tr><td>Kasztanowa 14    </td><td> Bielsko Biała</td></tr>\n",
              "\t<tr><td>Łąki Zielonej 152</td><td> Katowice     </td></tr>\n",
              "\t<tr><td>Specerowa 8      </td><td> Elbląg       </td></tr>\n",
              "</tbody>\n",
              "</table>\n"
            ],
            "text/markdown": "\nA matrix: 3 × 2 of type chr\n\n| Kasztanowa 14     |  Bielsko Biała |\n| Łąki Zielonej 152 |  Katowice      |\n| Specerowa 8       |  Elbląg        |\n\n",
            "text/latex": "A matrix: 3 × 2 of type chr\n\\begin{tabular}{ll}\n\t Kasztanowa 14     &  Bielsko Biała\\\\\n\t Łąki Zielonej 152 &  Katowice     \\\\\n\t Specerowa 8       &  Elbląg       \\\\\n\\end{tabular}\n",
            "text/plain": [
              "     [,1]              [,2]          \n",
              "[1,] Kasztanowa 14      Bielsko Biała\n",
              "[2,] Łąki Zielonej 152  Katowice     \n",
              "[3,] Specerowa 8        Elbląg       "
            ]
          },
          "metadata": {}
        }
      ]
    },
    {
      "cell_type": "markdown",
      "source": [
        "Zadanie 4: Podziel wektor adresów na trzy części: numer domu, ulicę i miasto. Wynik powinien być macierzą. Podpowiedź: użyj asercji z wyrażeniem w tył regex."
      ],
      "metadata": {
        "id": "Pe22XHYPfG1H"
      }
    },
    {
      "cell_type": "code",
      "source": [
        "adresy <- c(\"ul. Wiejska 12\", \"ul. Krakowska 15\", \"ul. Kościuszki 20\")\n",
        "\n",
        "adresy_podzielone <- strsplit(adresy, \" \")\n",
        "\n",
        "adresy_macierz <- as.data.frame(adresy_podzielone)\n",
        "\n",
        "colnames(adresy_macierz) <- c(\"Ulica\", \"Numer\")\n",
        "adresy_macierz"
      ],
      "metadata": {
        "colab": {
          "base_uri": "https://localhost:8080/",
          "height": 192
        },
        "id": "0yd21VqGzOhe",
        "outputId": "74efea4d-a5ad-4a89-b086-86fda7b93c31"
      },
      "execution_count": null,
      "outputs": [
        {
          "output_type": "display_data",
          "data": {
            "text/html": [
              "<table class=\"dataframe\">\n",
              "<caption>A data.frame: 3 × 3</caption>\n",
              "<thead>\n",
              "\t<tr><th scope=col>Ulica</th><th scope=col>Numer</th><th scope=col>NA</th></tr>\n",
              "\t<tr><th scope=col>&lt;chr&gt;</th><th scope=col>&lt;chr&gt;</th><th scope=col>&lt;chr&gt;</th></tr>\n",
              "</thead>\n",
              "<tbody>\n",
              "\t<tr><td>ul.    </td><td>ul.      </td><td>ul.       </td></tr>\n",
              "\t<tr><td>Wiejska</td><td>Krakowska</td><td>Kościuszki</td></tr>\n",
              "\t<tr><td>12     </td><td>15       </td><td>20        </td></tr>\n",
              "</tbody>\n",
              "</table>\n"
            ],
            "text/markdown": "\nA data.frame: 3 × 3\n\n| Ulica &lt;chr&gt; | Numer &lt;chr&gt; | NA &lt;chr&gt; |\n|---|---|---|\n| ul.     | ul.       | ul.        |\n| Wiejska | Krakowska | Kościuszki |\n| 12      | 15        | 20         |\n\n",
            "text/latex": "A data.frame: 3 × 3\n\\begin{tabular}{lll}\n Ulica & Numer & NA\\\\\n <chr> & <chr> & <chr>\\\\\n\\hline\n\t ul.     & ul.       & ul.       \\\\\n\t Wiejska & Krakowska & Kościuszki\\\\\n\t 12      & 15        & 20        \\\\\n\\end{tabular}\n",
            "text/plain": [
              "  Ulica   Numer     <NA>      \n",
              "1 ul.     ul.       ul.       \n",
              "2 Wiejska Krakowska Kościuszki\n",
              "3 12      15        20        "
            ]
          },
          "metadata": {}
        }
      ]
    },
    {
      "cell_type": "code",
      "source": [
        "# Nie działa podział adresu na ulicę i numer, zapewne trzeba poprawić drugi warunek w strsplit\n",
        "\n",
        "adresy_podzielone <- strsplit(adresy, \" |, \", )\n",
        "adresy_podzielone <- lapply(adresy_podzielone, function(x) c(x[2], x[1], x[3]))\n",
        "adresy_podzielone <- do.call(rbind, adresy_podzielone)\n",
        "\n",
        "adresy_podzielone\n"
      ],
      "metadata": {
        "colab": {
          "base_uri": "https://localhost:8080/",
          "height": 128
        },
        "id": "oTkALBw8j781",
        "outputId": "a0bd9ffb-8f80-431a-99e8-29543bab6ce7"
      },
      "execution_count": null,
      "outputs": [
        {
          "output_type": "display_data",
          "data": {
            "text/html": [
              "<table class=\"dataframe\">\n",
              "<caption>A matrix: 3 × 3 of type chr</caption>\n",
              "<tbody>\n",
              "\t<tr><td>14      </td><td>Kasztanowa</td><td>Bielsko</td></tr>\n",
              "\t<tr><td>Zielonej</td><td>Łąki      </td><td>152    </td></tr>\n",
              "\t<tr><td>8       </td><td>Specerowa </td><td>Elbląg </td></tr>\n",
              "</tbody>\n",
              "</table>\n"
            ],
            "text/markdown": "\nA matrix: 3 × 3 of type chr\n\n| 14       | Kasztanowa | Bielsko |\n| Zielonej | Łąki       | 152     |\n| 8        | Specerowa  | Elbląg  |\n\n",
            "text/latex": "A matrix: 3 × 3 of type chr\n\\begin{tabular}{lll}\n\t 14       & Kasztanowa & Bielsko\\\\\n\t Zielonej & Łąki       & 152    \\\\\n\t 8        & Specerowa  & Elbląg \\\\\n\\end{tabular}\n",
            "text/plain": [
              "     [,1]     [,2]       [,3]   \n",
              "[1,] 14       Kasztanowa Bielsko\n",
              "[2,] Zielonej Łąki       152    \n",
              "[3,] 8        Specerowa  Elbląg "
            ]
          },
          "metadata": {}
        }
      ]
    },
    {
      "cell_type": "markdown",
      "source": [
        "Zadanie 5:\n",
        "\n",
        "W wektorze dluga_sentencja dla zdań zaczynających się na literę „T” lub kończących się na literę „s” pokaż odpowiednio pierwsze lub ostatnie słowo.\n",
        "\n",
        "Jeśli zdanie zarówno zaczyna się na „T”, jak i kończy na „s”, pokaż zarówno pierwsze, jak i ostatnie słowo.\n",
        "\n",
        "Pamiętaj, że faktyczny ostatni znak zdania to zwykle kropka."
      ],
      "metadata": {
        "id": "9vLYiFqEfGzL"
      }
    },
    {
      "cell_type": "code",
      "source": [
        "dluga_sentencja_zmieniona <- sapply(dluga_sentencja, function(x) {\n",
        "  first_word <- strsplit(x, \" \")[[1]][1]\n",
        "  last_word <- strsplit(x, \" \")[[1]][length(strsplit(x, \" \")[[1]])]\n",
        "  if (substr(x, 1, 1) == \"T\" & substr(last_word, nchar(last_word), nchar(last_word)) == \"s\") {\n",
        "    paste(first_word, last_word)\n",
        "  } else if (substr(x, 1, 1) == \"T\") {\n",
        "    first_word\n",
        "  } else if (substr(last_word, nchar(last_word), nchar(last_word)) == \"s\") {\n",
        "    last_word\n",
        "  } else {\n",
        "    x\n",
        "  }\n",
        "})\n",
        "\n",
        "dluga_sentencja_zmieniona"
      ],
      "metadata": {
        "colab": {
          "base_uri": "https://localhost:8080/",
          "height": 69
        },
        "id": "0FcX1DrzgJyq",
        "outputId": "bebbac70-5546-4185-fd80-8cdbceffb6d9"
      },
      "execution_count": null,
      "outputs": [
        {
          "output_type": "display_data",
          "data": {
            "text/html": [
              "<style>\n",
              ".dl-inline {width: auto; margin:0; padding: 0}\n",
              ".dl-inline>dt, .dl-inline>dd {float: none; width: auto; display: inline-block}\n",
              ".dl-inline>dt::after {content: \":\\0020\"; padding-right: .5ex}\n",
              ".dl-inline>dt:not(:first-of-type) {padding-left: .5ex}\n",
              "</style><dl class=dl-inline><dt>The birch canoe slid on the smooth planks.</dt><dd>'The'</dd><dt>Glue the sheet to the dark blue background.</dt><dd>'Glue the sheet to the dark blue background.'</dd><dt>It's easy to tell the depth of a well.</dt><dd>'It\\'s easy to tell the depth of a well.'</dd><dt>These days a chicken leg is a rare dish.</dt><dd>'These'</dd><dt>Rice is often served in round bowls.</dt><dd>'Rice is often served in round bowls.'</dd><dt>The juice of lemons makes fine punch.</dt><dd>'The'</dd><dt>The box was thrown beside the parked truck.</dt><dd>'The'</dd><dt>The hogs were fed chopped corn and garbage.</dt><dd>'The'</dd><dt>Four hours of steady work faced us.</dt><dd>'Four hours of steady work faced us.'</dd><dt>Large size in stockings is hard to sell.</dt><dd>'Large size in stockings is hard to sell.'</dd></dl>\n"
            ],
            "text/markdown": "The birch canoe slid on the smooth planks.\n:   'The'Glue the sheet to the dark blue background.\n:   'Glue the sheet to the dark blue background.'It's easy to tell the depth of a well.\n:   'It\\'s easy to tell the depth of a well.'These days a chicken leg is a rare dish.\n:   'These'Rice is often served in round bowls.\n:   'Rice is often served in round bowls.'The juice of lemons makes fine punch.\n:   'The'The box was thrown beside the parked truck.\n:   'The'The hogs were fed chopped corn and garbage.\n:   'The'Four hours of steady work faced us.\n:   'Four hours of steady work faced us.'Large size in stockings is hard to sell.\n:   'Large size in stockings is hard to sell.'\n\n",
            "text/latex": "\\begin{description*}\n\\item[The birch canoe slid on the smooth planks.] 'The'\n\\item[Glue the sheet to the dark blue background.] 'Glue the sheet to the dark blue background.'\n\\item[It's easy to tell the depth of a well.] 'It\\textbackslash{}'s easy to tell the depth of a well.'\n\\item[These days a chicken leg is a rare dish.] 'These'\n\\item[Rice is often served in round bowls.] 'Rice is often served in round bowls.'\n\\item[The juice of lemons makes fine punch.] 'The'\n\\item[The box was thrown beside the parked truck.] 'The'\n\\item[The hogs were fed chopped corn and garbage.] 'The'\n\\item[Four hours of steady work faced us.] 'Four hours of steady work faced us.'\n\\item[Large size in stockings is hard to sell.] 'Large size in stockings is hard to sell.'\n\\end{description*}\n",
            "text/plain": [
              "   The birch canoe slid on the smooth planks. \n",
              "                                        \"The\" \n",
              "  Glue the sheet to the dark blue background. \n",
              "\"Glue the sheet to the dark blue background.\" \n",
              "       It's easy to tell the depth of a well. \n",
              "     \"It's easy to tell the depth of a well.\" \n",
              "     These days a chicken leg is a rare dish. \n",
              "                                      \"These\" \n",
              "         Rice is often served in round bowls. \n",
              "       \"Rice is often served in round bowls.\" \n",
              "        The juice of lemons makes fine punch. \n",
              "                                        \"The\" \n",
              "  The box was thrown beside the parked truck. \n",
              "                                        \"The\" \n",
              "  The hogs were fed chopped corn and garbage. \n",
              "                                        \"The\" \n",
              "          Four hours of steady work faced us. \n",
              "        \"Four hours of steady work faced us.\" \n",
              "     Large size in stockings is hard to sell. \n",
              "   \"Large size in stockings is hard to sell.\" "
            ]
          },
          "metadata": {}
        }
      ]
    },
    {
      "cell_type": "markdown",
      "source": [
        "Zadanie 6: Pokaż tylko pierwszych 20 znaków wszystkich zdań w wektorze dluga_sentencja Aby wskazać, że usunąłeś niektóre znaki, użyj dwóch kolejnych kropek na końcu każdego zdania."
      ],
      "metadata": {
        "id": "nDSDTVfNfGxK"
      }
    },
    {
      "cell_type": "code",
      "source": [
        "dluga_sentencja_skrocone <- substr(dluga_sentencja, 1, 20)\n",
        "dluga_sentencja_skrocone <- paste0(dluga_sentencja_skrocone, \"..\")\n",
        "\n",
        "dluga_sentencja_skrocone"
      ],
      "metadata": {
        "colab": {
          "base_uri": "https://localhost:8080/",
          "height": 34
        },
        "id": "z3C0asyBgJ6E",
        "outputId": "919803a2-115b-4e68-b733-230e7d0fe423"
      },
      "execution_count": null,
      "outputs": [
        {
          "output_type": "display_data",
          "data": {
            "text/html": [
              "<style>\n",
              ".list-inline {list-style: none; margin:0; padding: 0}\n",
              ".list-inline>li {display: inline-block}\n",
              ".list-inline>li:not(:last-child)::after {content: \"\\00b7\"; padding: 0 .5ex}\n",
              "</style>\n",
              "<ol class=list-inline><li>'The birch canoe slid..'</li><li>'Glue the sheet to th..'</li><li>'It\\'s easy to tell th..'</li><li>'These days a chicken..'</li><li>'Rice is often served..'</li><li>'The juice of lemons ..'</li><li>'The box was thrown b..'</li><li>'The hogs were fed ch..'</li><li>'Four hours of steady..'</li><li>'Large size in stocki..'</li></ol>\n"
            ],
            "text/markdown": "1. 'The birch canoe slid..'\n2. 'Glue the sheet to th..'\n3. 'It\\'s easy to tell th..'\n4. 'These days a chicken..'\n5. 'Rice is often served..'\n6. 'The juice of lemons ..'\n7. 'The box was thrown b..'\n8. 'The hogs were fed ch..'\n9. 'Four hours of steady..'\n10. 'Large size in stocki..'\n\n\n",
            "text/latex": "\\begin{enumerate*}\n\\item 'The birch canoe slid..'\n\\item 'Glue the sheet to th..'\n\\item 'It\\textbackslash{}'s easy to tell th..'\n\\item 'These days a chicken..'\n\\item 'Rice is often served..'\n\\item 'The juice of lemons ..'\n\\item 'The box was thrown b..'\n\\item 'The hogs were fed ch..'\n\\item 'Four hours of steady..'\n\\item 'Large size in stocki..'\n\\end{enumerate*}\n",
            "text/plain": [
              " [1] \"The birch canoe slid..\" \"Glue the sheet to th..\" \"It's easy to tell th..\"\n",
              " [4] \"These days a chicken..\" \"Rice is often served..\" \"The juice of lemons ..\"\n",
              " [7] \"The box was thrown b..\" \"The hogs were fed ch..\" \"Four hours of steady..\"\n",
              "[10] \"Large size in stocki..\""
            ]
          },
          "metadata": {}
        }
      ]
    },
    {
      "cell_type": "markdown",
      "source": [
        "Zadanie 7: Znormalizuj wektor produkty, usuwając wszystkie niepotrzebne spacje (zarówno na początku, na końcu, jak i w środku) oraz używając wielkich liter."
      ],
      "metadata": {
        "id": "FNBNYwRvfGuW"
      }
    },
    {
      "cell_type": "code",
      "source": [
        "produkty <- gsub(\" \", \"\", produkty)\n",
        "produkty <- toupper(produkty)\n",
        "\n",
        "# wersja rozszerzona ???\n",
        "# produkty <- gsub(\"^\\\\s+|\\\\s+$\", \"\", produkty)\n",
        "# produkty <- gsub(\"\\\\s+\", \" \", produkty)\n",
        "\n",
        "\n",
        "produkty"
      ],
      "metadata": {
        "colab": {
          "base_uri": "https://localhost:8080/",
          "height": 34
        },
        "id": "PAqUvqcogKCZ",
        "outputId": "6080142d-e333-43e3-f78a-13b98bda15ed"
      },
      "execution_count": null,
      "outputs": [
        {
          "output_type": "display_data",
          "data": {
            "text/html": [
              "<style>\n",
              ".list-inline {list-style: none; margin:0; padding: 0}\n",
              ".list-inline>li {display: inline-block}\n",
              ".list-inline>li:not(:last-child)::after {content: \"\\00b7\"; padding: 0 .5ex}\n",
              "</style>\n",
              "<ol class=list-inline><li>'TV'</li><li>'LAPTOP'</li><li>'PRZENOŚNAŁADOWARKA'</li><li>'BEZPRZEWODOWAKLAWIATURA'</li><li>'SŁUCHAWKI'</li></ol>\n"
            ],
            "text/markdown": "1. 'TV'\n2. 'LAPTOP'\n3. 'PRZENOŚNAŁADOWARKA'\n4. 'BEZPRZEWODOWAKLAWIATURA'\n5. 'SŁUCHAWKI'\n\n\n",
            "text/latex": "\\begin{enumerate*}\n\\item 'TV'\n\\item 'LAPTOP'\n\\item 'PRZENOŚNAŁADOWARKA'\n\\item 'BEZPRZEWODOWAKLAWIATURA'\n\\item 'SŁUCHAWKI'\n\\end{enumerate*}\n",
            "text/plain": [
              "[1] \"TV\"                      \"LAPTOP\"                 \n",
              "[3] \"PRZENOŚNAŁADOWARKA\"      \"BEZPRZEWODOWAKLAWIATURA\"\n",
              "[5] \"SŁUCHAWKI\"              "
            ]
          },
          "metadata": {}
        }
      ]
    },
    {
      "cell_type": "markdown",
      "source": [
        "Zadanie 8: Przygotuj wektor nazwa_pola, zastępując wszystkie symbole podkreśleń spacjami i konwertując je na wielkie litery."
      ],
      "metadata": {
        "id": "Utehfi2AfGsA"
      }
    },
    {
      "cell_type": "code",
      "source": [
        "nazwa_pola\n",
        "nazwa_pola <- gsub(\"_\", \" \", nazwa_pola)\n",
        "nazwa_pola <- toupper(nazwa_pola)\n",
        "\n",
        "nazwa_pola"
      ],
      "metadata": {
        "colab": {
          "base_uri": "https://localhost:8080/",
          "height": 52
        },
        "id": "4hV51LZ5gKLn",
        "outputId": "4f5e7e7a-d4e4-4161-fc12-834fee65097c"
      },
      "execution_count": null,
      "outputs": [
        {
          "output_type": "display_data",
          "data": {
            "text/html": [
              "<style>\n",
              ".list-inline {list-style: none; margin:0; padding: 0}\n",
              ".list-inline>li {display: inline-block}\n",
              ".list-inline>li:not(:last-child)::after {content: \"\\00b7\"; padding: 0 .5ex}\n",
              "</style>\n",
              "<ol class=list-inline><li>'order_number'</li><li>'order_date'</li><li>'customer_email'</li><li>'product_ title'</li><li>'amount'</li></ol>\n"
            ],
            "text/markdown": "1. 'order_number'\n2. 'order_date'\n3. 'customer_email'\n4. 'product_ title'\n5. 'amount'\n\n\n",
            "text/latex": "\\begin{enumerate*}\n\\item 'order\\_number'\n\\item 'order\\_date'\n\\item 'customer\\_email'\n\\item 'product\\_ title'\n\\item 'amount'\n\\end{enumerate*}\n",
            "text/plain": [
              "[1] \"order_number\"   \"order_date\"     \"customer_email\" \"product_ title\"\n",
              "[5] \"amount\"        "
            ]
          },
          "metadata": {}
        },
        {
          "output_type": "display_data",
          "data": {
            "text/html": [
              "<style>\n",
              ".list-inline {list-style: none; margin:0; padding: 0}\n",
              ".list-inline>li {display: inline-block}\n",
              ".list-inline>li:not(:last-child)::after {content: \"\\00b7\"; padding: 0 .5ex}\n",
              "</style>\n",
              "<ol class=list-inline><li>'ORDER NUMBER'</li><li>'ORDER DATE'</li><li>'CUSTOMER EMAIL'</li><li><span style=white-space:pre-wrap>'PRODUCT  TITLE'</span></li><li>'AMOUNT'</li></ol>\n"
            ],
            "text/markdown": "1. 'ORDER NUMBER'\n2. 'ORDER DATE'\n3. 'CUSTOMER EMAIL'\n4. <span style=white-space:pre-wrap>'PRODUCT  TITLE'</span>\n5. 'AMOUNT'\n\n\n",
            "text/latex": "\\begin{enumerate*}\n\\item 'ORDER NUMBER'\n\\item 'ORDER DATE'\n\\item 'CUSTOMER EMAIL'\n\\item 'PRODUCT  TITLE'\n\\item 'AMOUNT'\n\\end{enumerate*}\n",
            "text/plain": [
              "[1] \"ORDER NUMBER\"   \"ORDER DATE\"     \"CUSTOMER EMAIL\" \"PRODUCT  TITLE\"\n",
              "[5] \"AMOUNT\"        "
            ]
          },
          "metadata": {}
        }
      ]
    },
    {
      "cell_type": "markdown",
      "source": [
        "Zadanie 9: Wyrównaj wszystkie nazwa_pola, aby miały równą długość, dodając spacje na początku odpowiednich ciągów."
      ],
      "metadata": {
        "id": "Crw7KMeUfGpS"
      }
    },
    {
      "cell_type": "code",
      "source": [
        "max_length <- max(nchar(nazwa_pola))\n",
        "max_length\n",
        "\n",
        "# Trzeba coś poprawić w tej funkcji, gdzieś w warunku paste0 lub rep\n",
        "nazwa_pola_rownej_dlugosci <- sapply(nazwa_pola, function(x) paste0(rep(\"-\", max_length - nchar(x)), x))\n",
        "\n",
        "print(nazwa_pola)\n",
        "print(nazwa_pola_rownej_dlugosci)"
      ],
      "metadata": {
        "colab": {
          "base_uri": "https://localhost:8080/",
          "height": 365
        },
        "id": "eWlIcJsSgKTq",
        "outputId": "44eeb3b8-f287-4ab3-9120-a9aa6bd69034"
      },
      "execution_count": null,
      "outputs": [
        {
          "output_type": "display_data",
          "data": {
            "text/html": [
              "14"
            ],
            "text/markdown": "14",
            "text/latex": "14",
            "text/plain": [
              "[1] 14"
            ]
          },
          "metadata": {}
        },
        {
          "output_type": "stream",
          "name": "stdout",
          "text": [
            "[1] \"ORDER NUMBER\"   \"ORDER DATE\"     \"CUSTOMER EMAIL\" \"PRODUCT  TITLE\"\n",
            "[5] \"AMOUNT\"        \n",
            "$`ORDER NUMBER`\n",
            "[1] \"-ORDER NUMBER\" \"-ORDER NUMBER\"\n",
            "\n",
            "$`ORDER DATE`\n",
            "[1] \"-ORDER DATE\" \"-ORDER DATE\" \"-ORDER DATE\" \"-ORDER DATE\"\n",
            "\n",
            "$`CUSTOMER EMAIL`\n",
            "[1] \"CUSTOMER EMAIL\"\n",
            "\n",
            "$`PRODUCT  TITLE`\n",
            "[1] \"PRODUCT  TITLE\"\n",
            "\n",
            "$AMOUNT\n",
            "[1] \"-AMOUNT\" \"-AMOUNT\" \"-AMOUNT\" \"-AMOUNT\" \"-AMOUNT\" \"-AMOUNT\" \"-AMOUNT\"\n",
            "[8] \"-AMOUNT\"\n",
            "\n"
          ]
        }
      ]
    },
    {
      "cell_type": "markdown",
      "source": [
        "Zadanie 10:\n",
        "\n",
        "W wektorze pracownik_umiejetnosci poszukaj pracowników, którzy są zdefiniowani jako „Pro” lub „Medium”.\n",
        "\n",
        "Wynikiem powinna być macierz, która zawiera imię i nazwisko pracownika w pierwszej kolumnie, a poziom umiejętności (bez nawiasów) w drugiej kolumnie.\n",
        "\n",
        "Pracownicy, którzy nie są zakwalifikowani, powinni otrzymać brakujące wartości w obu kolumnach."
      ],
      "metadata": {
        "id": "HpCmT_DffGmo"
      }
    },
    {
      "cell_type": "code",
      "source": [
        "# wyrażenie regularne do wyszukania poziomów \"Pro\" lub \"Medium\"\n",
        "poziom_umiejetnosci <- \"(Pro|Medium)\"\n",
        "\n",
        "# indeksy pracowników spełniających warunek\n",
        "indeksy_pracownikow <- grep(poziom_umiejetnosci, pracownik_umiejetnosci)\n",
        "\n",
        "# wyciągnięcie imion i nazwisk oraz poziomów umiejętności\n",
        "pracownicy_wymagani <- pracownik_umiejetnosci[indeksy_pracownikow]\n",
        "imiona_nazwiska <- gsub(\"\\\\s\\\\(.*\", \"\", pracownicy_wymagani)\n",
        "poziomy_umiejetnosci <- gsub(\".*\\\\(|\\\\)\", \"\", pracownicy_wymagani)\n",
        "\n",
        "# utworzenie macierzy z danymi\n",
        "macierz_pracownicy <- cbind(imiona_nazwiska, poziomy_umiejetnosci)\n",
        "\n",
        "macierz_pracownicy"
      ],
      "metadata": {
        "colab": {
          "base_uri": "https://localhost:8080/",
          "height": 161
        },
        "id": "JgiL6OtbgKbp",
        "outputId": "64329dd2-304b-4c58-d223-cc51eb0b722e"
      },
      "execution_count": null,
      "outputs": [
        {
          "output_type": "display_data",
          "data": {
            "text/html": [
              "<table class=\"dataframe\">\n",
              "<caption>A matrix: 3 × 2 of type chr</caption>\n",
              "<thead>\n",
              "\t<tr><th scope=col>imiona_nazwiska</th><th scope=col>poziomy_umiejetnosci</th></tr>\n",
              "</thead>\n",
              "<tbody>\n",
              "\t<tr><td>Marta Górska   </td><td>Pro   </td></tr>\n",
              "\t<tr><td>Krzysztof Biały</td><td>Pro   </td></tr>\n",
              "\t<tr><td>Sarah Machoń   </td><td>Medium</td></tr>\n",
              "</tbody>\n",
              "</table>\n"
            ],
            "text/markdown": "\nA matrix: 3 × 2 of type chr\n\n| imiona_nazwiska | poziomy_umiejetnosci |\n|---|---|\n| Marta Górska    | Pro    |\n| Krzysztof Biały | Pro    |\n| Sarah Machoń    | Medium |\n\n",
            "text/latex": "A matrix: 3 × 2 of type chr\n\\begin{tabular}{ll}\n imiona\\_nazwiska & poziomy\\_umiejetnosci\\\\\n\\hline\n\t Marta Górska    & Pro   \\\\\n\t Krzysztof Biały & Pro   \\\\\n\t Sarah Machoń    & Medium\\\\\n\\end{tabular}\n",
            "text/plain": [
              "     imiona_nazwiska poziomy_umiejetnosci\n",
              "[1,] Marta Górska    Pro                 \n",
              "[2,] Krzysztof Biały Pro                 \n",
              "[3,] Sarah Machoń    Medium              "
            ]
          },
          "metadata": {}
        }
      ]
    },
    {
      "cell_type": "markdown",
      "source": [
        "Zadanie 11:\n",
        "\n",
        "a) Stworz wektor x zawierajacy wszystkie znaki odpowiadajace wartosciom liczbowym z zakresu 1:128.\n",
        "\n",
        "b) Wyswietl wszystkie znaki z wektora x, ktore odpowiadaja liczbom lub literom malym lub wielkim.\n",
        "\n",
        "c) Wyswietl wszystkie znaki z wektora x, ktore odpowiadaja liczbom lub znakom oddzielajacym tekst tj. spacja, tabulator etc.\n",
        "\n",
        "b) Wyswietl wszystkie znaki z wektora x, ktore nie odpowiadaja liczbom."
      ],
      "metadata": {
        "id": "Z-xAgVY5fGje"
      }
    },
    {
      "cell_type": "code",
      "source": [
        "# x <- chartoRaw(as.character(1:128))\n",
        "x <- as.raw(1:128)\n",
        "x\n",
        "\n",
        "# raczje źle, bo wyświetla zupełnie coś innego\n",
        "x[grep(\"[a-zA-Z0-9]\", x)]\n",
        "rawToChar(x[grep(\"[a-zA-Z0-9]\", x)])\n",
        "x[grep(\"[0-9\\\\s]\", x)]\n",
        "rawToChar(x[grep(\"[0-9\\\\s]\", x)])\n",
        "x[grep(\"[^0-9]\", x)]\n",
        "rawToChar(x[grep(\"[^0-9]\", x)])"
      ],
      "metadata": {
        "colab": {
          "base_uri": "https://localhost:8080/",
          "height": 436
        },
        "id": "TyjpvtUfgKji",
        "outputId": "adbbc660-8871-48cb-d07c-8139bc192ae7"
      },
      "execution_count": null,
      "outputs": [
        {
          "output_type": "display_data",
          "data": {
            "text/plain": [
              "  [1] 01 02 03 04 05 06 07 08 09 0a 0b 0c 0d 0e 0f 10 11 12 13 14 15 16 17 18 19\n",
              " [26] 1a 1b 1c 1d 1e 1f 20 21 22 23 24 25 26 27 28 29 2a 2b 2c 2d 2e 2f 30 31 32\n",
              " [51] 33 34 35 36 37 38 39 3a 3b 3c 3d 3e 3f 40 41 42 43 44 45 46 47 48 49 4a 4b\n",
              " [76] 4c 4d 4e 4f 50 51 52 53 54 55 56 57 58 59 5a 5b 5c 5d 5e 5f 60 61 62 63 64\n",
              "[101] 65 66 67 68 69 6a 6b 6c 6d 6e 6f 70 71 72 73 74 75 76 77 78 79 7a 7b 7c 7d\n",
              "[126] 7e 7f 80"
            ]
          },
          "metadata": {}
        },
        {
          "output_type": "display_data",
          "data": {
            "text/plain": [
              "  [1] 01 02 03 04 05 06 07 08 09 0a 0b 0c 0d 0e 0f 10 11 12 13 14 15 16 17 18 19\n",
              " [26] 1a 1b 1c 1d 1e 1f 20 21 22 23 24 25 26 27 28 29 2a 2b 2c 2d 2e 2f 30 31 32\n",
              " [51] 33 34 35 36 37 38 39 3a 3b 3c 3d 3e 3f 40 41 42 43 44 45 46 47 48 49 4a 4b\n",
              " [76] 4c 4d 4e 4f 50 51 52 53 54 55 56 57 58 59 5a 5b 5c 5d 5e 5f 60 61 62 63 64\n",
              "[101] 65 66 67 68 69 6a 6b 6c 6d 6e 6f 70 71 72 73 74 75 76 77 78 79 7a 7b 7c 7d\n",
              "[126] 7e 7f 80"
            ]
          },
          "metadata": {}
        },
        {
          "output_type": "display_data",
          "data": {
            "text/html": [
              "'\\001\\002\\003\\004\\005\\006\\a\\b\\t\\n\\v\\f\\r\\016\\017\\020\\021\\022\\023\\024\\025\\026\\027\\030\\031\\032\\033\\034\\035\\036\\037 !\"#$%&amp;\\'()*+,-./0123456789:;&lt;=&gt;?@ABCDEFGHIJKLMNOPQRSTUVWXYZ[\\\\]^_`abcdefghijklmnopqrstuvwxyz{|}~\\177\\x80'"
            ],
            "text/markdown": "'\\001\\002\\003\\004\\005\\006\\a\\b\\t\\n\\v\\f\\r\\016\\017\\020\\021\\022\\023\\024\\025\\026\\027\\030\\031\\032\\033\\034\\035\\036\\037 !\"#$%&amp;\\'()*+,-./0123456789:;&lt;=&gt;?@ABCDEFGHIJKLMNOPQRSTUVWXYZ[\\\\]^_`abcdefghijklmnopqrstuvwxyz{|}~\\177\\x80'",
            "text/latex": "'\\textbackslash{}001\\textbackslash{}002\\textbackslash{}003\\textbackslash{}004\\textbackslash{}005\\textbackslash{}006\\textbackslash{}a\\textbackslash{}b\\textbackslash{}t\\textbackslash{}n\\textbackslash{}v\\textbackslash{}f\\textbackslash{}r\\textbackslash{}016\\textbackslash{}017\\textbackslash{}020\\textbackslash{}021\\textbackslash{}022\\textbackslash{}023\\textbackslash{}024\\textbackslash{}025\\textbackslash{}026\\textbackslash{}027\\textbackslash{}030\\textbackslash{}031\\textbackslash{}032\\textbackslash{}033\\textbackslash{}034\\textbackslash{}035\\textbackslash{}036\\textbackslash{}037 !\"\\#\\$\\%\\&\\textbackslash{}'()*+,-./0123456789:;<=>?@ABCDEFGHIJKLMNOPQRSTUVWXYZ{[}\\textbackslash{}\\textbackslash{}{]}\\textasciicircum{}\\_`abcdefghijklmnopqrstuvwxyz\\{\\textbar{}\\}\\textasciitilde{}\\textbackslash{}177\\textbackslash{}x80'",
            "text/plain": [
              "[1] \"\\001\\002\\003\\004\\005\\006\\a\\b\\t\\n\\v\\f\\r\\016\\017\\020\\021\\022\\023\\024\\025\\026\\027\\030\\031\\032\\033\\034\\035\\036\\037 !\\\"#$%&'()*+,-./0123456789:;<=>?@ABCDEFGHIJKLMNOPQRSTUVWXYZ[\\\\]^_`abcdefghijklmnopqrstuvwxyz{|}~\\177\\x80\""
            ]
          },
          "metadata": {}
        },
        {
          "output_type": "display_data",
          "data": {
            "text/plain": [
              "  [1] 01 02 03 04 05 06 07 08 09 0a 0b 0c 0d 0e 0f 10 11 12 13 14 15 16 17 18 19\n",
              " [26] 1a 1b 1c 1d 1e 1f 20 21 22 23 24 25 26 27 28 29 2a 2b 2c 2d 2e 2f 30 31 32\n",
              " [51] 33 34 35 36 37 38 39 3a 3b 3c 3d 3e 3f 40 41 42 43 44 45 46 47 48 49 4a 4b\n",
              " [76] 4c 4d 4e 4f 50 51 52 53 54 55 56 57 58 59 5a 5b 5c 5d 5e 5f 60 61 62 63 64\n",
              "[101] 65 66 67 68 69 6a 6b 6c 6d 6e 6f 70 71 72 73 74 75 76 77 78 79 7a 7b 7c 7d\n",
              "[126] 7e 7f 80"
            ]
          },
          "metadata": {}
        },
        {
          "output_type": "display_data",
          "data": {
            "text/html": [
              "'\\001\\002\\003\\004\\005\\006\\a\\b\\t\\n\\v\\f\\r\\016\\017\\020\\021\\022\\023\\024\\025\\026\\027\\030\\031\\032\\033\\034\\035\\036\\037 !\"#$%&amp;\\'()*+,-./0123456789:;&lt;=&gt;?@ABCDEFGHIJKLMNOPQRSTUVWXYZ[\\\\]^_`abcdefghijklmnopqrstuvwxyz{|}~\\177\\x80'"
            ],
            "text/markdown": "'\\001\\002\\003\\004\\005\\006\\a\\b\\t\\n\\v\\f\\r\\016\\017\\020\\021\\022\\023\\024\\025\\026\\027\\030\\031\\032\\033\\034\\035\\036\\037 !\"#$%&amp;\\'()*+,-./0123456789:;&lt;=&gt;?@ABCDEFGHIJKLMNOPQRSTUVWXYZ[\\\\]^_`abcdefghijklmnopqrstuvwxyz{|}~\\177\\x80'",
            "text/latex": "'\\textbackslash{}001\\textbackslash{}002\\textbackslash{}003\\textbackslash{}004\\textbackslash{}005\\textbackslash{}006\\textbackslash{}a\\textbackslash{}b\\textbackslash{}t\\textbackslash{}n\\textbackslash{}v\\textbackslash{}f\\textbackslash{}r\\textbackslash{}016\\textbackslash{}017\\textbackslash{}020\\textbackslash{}021\\textbackslash{}022\\textbackslash{}023\\textbackslash{}024\\textbackslash{}025\\textbackslash{}026\\textbackslash{}027\\textbackslash{}030\\textbackslash{}031\\textbackslash{}032\\textbackslash{}033\\textbackslash{}034\\textbackslash{}035\\textbackslash{}036\\textbackslash{}037 !\"\\#\\$\\%\\&\\textbackslash{}'()*+,-./0123456789:;<=>?@ABCDEFGHIJKLMNOPQRSTUVWXYZ{[}\\textbackslash{}\\textbackslash{}{]}\\textasciicircum{}\\_`abcdefghijklmnopqrstuvwxyz\\{\\textbar{}\\}\\textasciitilde{}\\textbackslash{}177\\textbackslash{}x80'",
            "text/plain": [
              "[1] \"\\001\\002\\003\\004\\005\\006\\a\\b\\t\\n\\v\\f\\r\\016\\017\\020\\021\\022\\023\\024\\025\\026\\027\\030\\031\\032\\033\\034\\035\\036\\037 !\\\"#$%&'()*+,-./0123456789:;<=>?@ABCDEFGHIJKLMNOPQRSTUVWXYZ[\\\\]^_`abcdefghijklmnopqrstuvwxyz{|}~\\177\\x80\""
            ]
          },
          "metadata": {}
        },
        {
          "output_type": "display_data",
          "data": {
            "text/plain": [
              " [1] 0a 0b 0c 0d 0e 0f 1a 1b 1c 1d 1e 1f 2a 2b 2c 2d 2e 2f 3a 3b 3c 3d 3e 3f 4a\n",
              "[26] 4b 4c 4d 4e 4f 5a 5b 5c 5d 5e 5f 6a 6b 6c 6d 6e 6f 7a 7b 7c 7d 7e 7f"
            ]
          },
          "metadata": {}
        },
        {
          "output_type": "display_data",
          "data": {
            "text/html": [
              "'\\n\\v\\f\\r\\016\\017\\032\\033\\034\\035\\036\\037*+,-./:;&lt;=&gt;?JKLMNOZ[\\\\]^_jklmnoz{|}~\\177'"
            ],
            "text/markdown": "'\\n\\v\\f\\r\\016\\017\\032\\033\\034\\035\\036\\037*+,-./:;&lt;=&gt;?JKLMNOZ[\\\\]^_jklmnoz{|}~\\177'",
            "text/latex": "'\\textbackslash{}n\\textbackslash{}v\\textbackslash{}f\\textbackslash{}r\\textbackslash{}016\\textbackslash{}017\\textbackslash{}032\\textbackslash{}033\\textbackslash{}034\\textbackslash{}035\\textbackslash{}036\\textbackslash{}037*+,-./:;<=>?JKLMNOZ{[}\\textbackslash{}\\textbackslash{}{]}\\textasciicircum{}\\_jklmnoz\\{\\textbar{}\\}\\textasciitilde{}\\textbackslash{}177'",
            "text/plain": [
              "[1] \"\\n\\v\\f\\r\\016\\017\\032\\033\\034\\035\\036\\037*+,-./:;<=>?JKLMNOZ[\\\\]^_jklmnoz{|}~\\177\""
            ]
          },
          "metadata": {}
        }
      ]
    },
    {
      "cell_type": "markdown",
      "source": [
        "Zadanie 12:\n",
        "\n",
        "a) Stworz wektor y zawierajacy nastepujace imiona: (\"Jacek\", \"Kasia\", \"Małgosia\",\"Elżbieta\",\"joasia\").\n",
        "\n",
        "b) Stworz wyrazenie regularne, ktore spowoduje wybranie tylko imion: \"Kasia\",\"joasia\".\n",
        "\n",
        "c) Stworz wyrazenie regularne, ktore spowoduje wybranie tylko imion: \"Jacek\", \"Kasia\"."
      ],
      "metadata": {
        "id": "UZpfbCY8fGUp"
      }
    },
    {
      "cell_type": "code",
      "source": [
        "y <- c(\"Jacek\", \"Kasia\", \"Małgosia\",\"Elżbieta\",\"joasia\")\n",
        "y\n",
        "\n",
        "# Można chyba pominąć \"^\"\n",
        "y[grep(\"^Kasia|^joasia\", y)]\n",
        "y[grep(\"^Jacek|^Kasia\", y)]"
      ],
      "metadata": {
        "colab": {
          "base_uri": "https://localhost:8080/",
          "height": 69
        },
        "id": "iRMCidOOgNAJ",
        "outputId": "101d4d4f-f0ec-4859-c411-4dd0735303ae"
      },
      "execution_count": null,
      "outputs": [
        {
          "output_type": "display_data",
          "data": {
            "text/html": [
              "<style>\n",
              ".list-inline {list-style: none; margin:0; padding: 0}\n",
              ".list-inline>li {display: inline-block}\n",
              ".list-inline>li:not(:last-child)::after {content: \"\\00b7\"; padding: 0 .5ex}\n",
              "</style>\n",
              "<ol class=list-inline><li>'Jacek'</li><li>'Kasia'</li><li>'Małgosia'</li><li>'Elżbieta'</li><li>'joasia'</li></ol>\n"
            ],
            "text/markdown": "1. 'Jacek'\n2. 'Kasia'\n3. 'Małgosia'\n4. 'Elżbieta'\n5. 'joasia'\n\n\n",
            "text/latex": "\\begin{enumerate*}\n\\item 'Jacek'\n\\item 'Kasia'\n\\item 'Małgosia'\n\\item 'Elżbieta'\n\\item 'joasia'\n\\end{enumerate*}\n",
            "text/plain": [
              "[1] \"Jacek\"    \"Kasia\"    \"Małgosia\" \"Elżbieta\" \"joasia\"  "
            ]
          },
          "metadata": {}
        },
        {
          "output_type": "display_data",
          "data": {
            "text/html": [
              "<style>\n",
              ".list-inline {list-style: none; margin:0; padding: 0}\n",
              ".list-inline>li {display: inline-block}\n",
              ".list-inline>li:not(:last-child)::after {content: \"\\00b7\"; padding: 0 .5ex}\n",
              "</style>\n",
              "<ol class=list-inline><li>'Kasia'</li><li>'joasia'</li></ol>\n"
            ],
            "text/markdown": "1. 'Kasia'\n2. 'joasia'\n\n\n",
            "text/latex": "\\begin{enumerate*}\n\\item 'Kasia'\n\\item 'joasia'\n\\end{enumerate*}\n",
            "text/plain": [
              "[1] \"Kasia\"  \"joasia\""
            ]
          },
          "metadata": {}
        },
        {
          "output_type": "display_data",
          "data": {
            "text/html": [
              "<style>\n",
              ".list-inline {list-style: none; margin:0; padding: 0}\n",
              ".list-inline>li {display: inline-block}\n",
              ".list-inline>li:not(:last-child)::after {content: \"\\00b7\"; padding: 0 .5ex}\n",
              "</style>\n",
              "<ol class=list-inline><li>'Jacek'</li><li>'Kasia'</li></ol>\n"
            ],
            "text/markdown": "1. 'Jacek'\n2. 'Kasia'\n\n\n",
            "text/latex": "\\begin{enumerate*}\n\\item 'Jacek'\n\\item 'Kasia'\n\\end{enumerate*}\n",
            "text/plain": [
              "[1] \"Jacek\" \"Kasia\""
            ]
          },
          "metadata": {}
        }
      ]
    },
    {
      "cell_type": "markdown",
      "source": [
        "Zadanie 13:\n",
        "\n",
        "a) Stwotrz obiekt \"dane\" na podstawie nastepujacego wektora: c(\"1\", \"1 2\", \"12a3\", \"1223\", \"122234\", \"212234\",\"1 22 3\").\n",
        "\n",
        "b) Stworz wyrazenie regularne znajdujace elementy wektora \"dane\", konczace sie na \"2\" lub \"3\".\n",
        "\n",
        "c) Stworz wyrazenie regularne znajdujace elementy wektora \"dane\", posiadajace od jedej do trzech \"2\" nie bedacych jednoczesnie poczatkiem ani koncem tekstu.\n",
        "\n",
        "d) Stworz wyrazenie regularne znajdujace elementy wektora \"dane\", posiadajace male litery lub spacje."
      ],
      "metadata": {
        "id": "efWH7wGafs_F"
      }
    },
    {
      "cell_type": "code",
      "source": [
        "dane <- c(\"1\", \"1 2\", \"12a3\", \"1223\", \"122234\", \"212234\",\"1 22 3\")\n",
        "\n",
        "grep(\"[23]$\", dane, value = T)\n",
        "\n",
        "grep(\"^[^2]*2[^2]*2[^2]*2?[^2]*$\", dane, value = T)\n",
        "\n",
        "grep(\"[a-z ]\", dane, value = T)"
      ],
      "metadata": {
        "colab": {
          "base_uri": "https://localhost:8080/",
          "height": 69
        },
        "id": "ilM2vZMVgNUf",
        "outputId": "76f5c838-9525-44f8-e81a-61742c1fb743"
      },
      "execution_count": null,
      "outputs": [
        {
          "output_type": "display_data",
          "data": {
            "text/html": [
              "<style>\n",
              ".list-inline {list-style: none; margin:0; padding: 0}\n",
              ".list-inline>li {display: inline-block}\n",
              ".list-inline>li:not(:last-child)::after {content: \"\\00b7\"; padding: 0 .5ex}\n",
              "</style>\n",
              "<ol class=list-inline><li>'1 2'</li><li>'12a3'</li><li>'1223'</li><li>'1 22 3'</li></ol>\n"
            ],
            "text/markdown": "1. '1 2'\n2. '12a3'\n3. '1223'\n4. '1 22 3'\n\n\n",
            "text/latex": "\\begin{enumerate*}\n\\item '1 2'\n\\item '12a3'\n\\item '1223'\n\\item '1 22 3'\n\\end{enumerate*}\n",
            "text/plain": [
              "[1] \"1 2\"    \"12a3\"   \"1223\"   \"1 22 3\""
            ]
          },
          "metadata": {}
        },
        {
          "output_type": "display_data",
          "data": {
            "text/html": [
              "<style>\n",
              ".list-inline {list-style: none; margin:0; padding: 0}\n",
              ".list-inline>li {display: inline-block}\n",
              ".list-inline>li:not(:last-child)::after {content: \"\\00b7\"; padding: 0 .5ex}\n",
              "</style>\n",
              "<ol class=list-inline><li>'1223'</li><li>'122234'</li><li>'212234'</li><li>'1 22 3'</li></ol>\n"
            ],
            "text/markdown": "1. '1223'\n2. '122234'\n3. '212234'\n4. '1 22 3'\n\n\n",
            "text/latex": "\\begin{enumerate*}\n\\item '1223'\n\\item '122234'\n\\item '212234'\n\\item '1 22 3'\n\\end{enumerate*}\n",
            "text/plain": [
              "[1] \"1223\"   \"122234\" \"212234\" \"1 22 3\""
            ]
          },
          "metadata": {}
        },
        {
          "output_type": "display_data",
          "data": {
            "text/html": [
              "<style>\n",
              ".list-inline {list-style: none; margin:0; padding: 0}\n",
              ".list-inline>li {display: inline-block}\n",
              ".list-inline>li:not(:last-child)::after {content: \"\\00b7\"; padding: 0 .5ex}\n",
              "</style>\n",
              "<ol class=list-inline><li>'1 2'</li><li>'12a3'</li><li>'1 22 3'</li></ol>\n"
            ],
            "text/markdown": "1. '1 2'\n2. '12a3'\n3. '1 22 3'\n\n\n",
            "text/latex": "\\begin{enumerate*}\n\\item '1 2'\n\\item '12a3'\n\\item '1 22 3'\n\\end{enumerate*}\n",
            "text/plain": [
              "[1] \"1 2\"    \"12a3\"   \"1 22 3\""
            ]
          },
          "metadata": {}
        }
      ]
    },
    {
      "cell_type": "markdown",
      "source": [
        "Zadanie_14:\n",
        "\n",
        "a) Stworz macierz rozmiaru \"10X10\" z wartosciami losowymi z rozkladu rownomiernego.\n",
        "\n",
        "b) Stworz funkcje \"Funkcja\" ktora zwracac bedzie do obiektu \"wynik_14\" wartosc srednia dla kazdej kolumny macierzy wejsciowej.\n",
        "\n",
        "c) Stworz \"Funkcja_env\" ktora bedzie \"srodowiskowa\" wersja powyzszej funkcji. Powinna ona nie zwracac zadnego obiektu, lecz umieszczac wynikowy obiekt w srodowisku, ktore bedzie obiektem wejsciowym dla funkcji."
      ],
      "metadata": {
        "id": "sGXX2DbHfwvl"
      }
    },
    {
      "cell_type": "code",
      "source": [
        "matrix <- matrix(runif(100), nrow = 10, ncol = 10)\n",
        "\n",
        "Funkcja <- function(matrix) {\n",
        "  wynik_14 <- apply(matrix, 2, mean)\n",
        "  return(wynik_14)\n",
        "}\n",
        "\n",
        "\n",
        "Funkcja_env <- function(matrix) {\n",
        "  assign(\"wynik_14\", apply(matrix, 2, mean), envir = .GlobalEnv)\n",
        "}\n",
        "\n",
        "Funkcja(matrix)\n",
        "wynik_14\n",
        "Funkcja_env(matrix)\n",
        "wynik_14\n",
        "rm(wynik_14)"
      ],
      "metadata": {
        "colab": {
          "base_uri": "https://localhost:8080/",
          "height": 69
        },
        "id": "9z-I6rdlgNjX",
        "outputId": "abf8f922-336f-4bf5-8835-af51dc6a15af"
      },
      "execution_count": null,
      "outputs": [
        {
          "output_type": "display_data",
          "data": {
            "text/html": [
              "<style>\n",
              ".list-inline {list-style: none; margin:0; padding: 0}\n",
              ".list-inline>li {display: inline-block}\n",
              ".list-inline>li:not(:last-child)::after {content: \"\\00b7\"; padding: 0 .5ex}\n",
              "</style>\n",
              "<ol class=list-inline><li>0.471241005975753</li><li>0.441704814368859</li><li>0.393282020092011</li><li>0.423301455192268</li><li>0.39998196659144</li><li>0.64984664155636</li><li>0.566429451527074</li><li>0.455441468022764</li><li>0.300043857726268</li><li>0.360258918721229</li></ol>\n"
            ],
            "text/markdown": "1. 0.471241005975753\n2. 0.441704814368859\n3. 0.393282020092011\n4. 0.423301455192268\n5. 0.39998196659144\n6. 0.64984664155636\n7. 0.566429451527074\n8. 0.455441468022764\n9. 0.300043857726268\n10. 0.360258918721229\n\n\n",
            "text/latex": "\\begin{enumerate*}\n\\item 0.471241005975753\n\\item 0.441704814368859\n\\item 0.393282020092011\n\\item 0.423301455192268\n\\item 0.39998196659144\n\\item 0.64984664155636\n\\item 0.566429451527074\n\\item 0.455441468022764\n\\item 0.300043857726268\n\\item 0.360258918721229\n\\end{enumerate*}\n",
            "text/plain": [
              " [1] 0.4712410 0.4417048 0.3932820 0.4233015 0.3999820 0.6498466 0.5664295\n",
              " [8] 0.4554415 0.3000439 0.3602589"
            ]
          },
          "metadata": {}
        },
        {
          "output_type": "display_data",
          "data": {
            "text/html": [
              "<style>\n",
              ".list-inline {list-style: none; margin:0; padding: 0}\n",
              ".list-inline>li {display: inline-block}\n",
              ".list-inline>li:not(:last-child)::after {content: \"\\00b7\"; padding: 0 .5ex}\n",
              "</style>\n",
              "<ol class=list-inline><li>0.55614698426798</li><li>0.257179135130718</li><li>0.581424198090099</li><li>0.518334076809697</li><li>0.383526101056486</li><li>0.378121555037796</li><li>0.5100588505622</li><li>0.313111163442954</li><li>0.507652020337991</li><li>0.468836104590446</li></ol>\n"
            ],
            "text/markdown": "1. 0.55614698426798\n2. 0.257179135130718\n3. 0.581424198090099\n4. 0.518334076809697\n5. 0.383526101056486\n6. 0.378121555037796\n7. 0.5100588505622\n8. 0.313111163442954\n9. 0.507652020337991\n10. 0.468836104590446\n\n\n",
            "text/latex": "\\begin{enumerate*}\n\\item 0.55614698426798\n\\item 0.257179135130718\n\\item 0.581424198090099\n\\item 0.518334076809697\n\\item 0.383526101056486\n\\item 0.378121555037796\n\\item 0.5100588505622\n\\item 0.313111163442954\n\\item 0.507652020337991\n\\item 0.468836104590446\n\\end{enumerate*}\n",
            "text/plain": [
              " [1] 0.5561470 0.2571791 0.5814242 0.5183341 0.3835261 0.3781216 0.5100589\n",
              " [8] 0.3131112 0.5076520 0.4688361"
            ]
          },
          "metadata": {}
        },
        {
          "output_type": "display_data",
          "data": {
            "text/html": [
              "<style>\n",
              ".list-inline {list-style: none; margin:0; padding: 0}\n",
              ".list-inline>li {display: inline-block}\n",
              ".list-inline>li:not(:last-child)::after {content: \"\\00b7\"; padding: 0 .5ex}\n",
              "</style>\n",
              "<ol class=list-inline><li>0.471241005975753</li><li>0.441704814368859</li><li>0.393282020092011</li><li>0.423301455192268</li><li>0.39998196659144</li><li>0.64984664155636</li><li>0.566429451527074</li><li>0.455441468022764</li><li>0.300043857726268</li><li>0.360258918721229</li></ol>\n"
            ],
            "text/markdown": "1. 0.471241005975753\n2. 0.441704814368859\n3. 0.393282020092011\n4. 0.423301455192268\n5. 0.39998196659144\n6. 0.64984664155636\n7. 0.566429451527074\n8. 0.455441468022764\n9. 0.300043857726268\n10. 0.360258918721229\n\n\n",
            "text/latex": "\\begin{enumerate*}\n\\item 0.471241005975753\n\\item 0.441704814368859\n\\item 0.393282020092011\n\\item 0.423301455192268\n\\item 0.39998196659144\n\\item 0.64984664155636\n\\item 0.566429451527074\n\\item 0.455441468022764\n\\item 0.300043857726268\n\\item 0.360258918721229\n\\end{enumerate*}\n",
            "text/plain": [
              " [1] 0.4712410 0.4417048 0.3932820 0.4233015 0.3999820 0.6498466 0.5664295\n",
              " [8] 0.4554415 0.3000439 0.3602589"
            ]
          },
          "metadata": {}
        }
      ]
    },
    {
      "cell_type": "markdown",
      "source": [
        "Zadanie_2:\n",
        "\n",
        "a) Stworz srodowisko \"Pierwsze\".\n",
        "\n",
        "b) Umiesc w srodowisku \"Pierwsze\" obiekt \"x\" przyjmujacy wartosc 10.\n",
        "\n",
        "c) Stworz srodowisko \"Drugie\" w srodowisku \"Pierwsze\". (Po wyswietleniu obiektow znajdujacych sie w srodowisku \"Pierwsze\", srodowisko \"Drugie\" powinno byc tam widoczne)\n",
        "\n",
        "d) Umiesc w srodowisku \"Drugie\" obiekt \"y\" przyjmujacy wartosc 20.\n",
        "\n",
        "e) Stworz funkcje zamieniajaca wartosc obiektu \"x\" w srodowisku \"Pierwsze\" na warotsc z obiektu \"y\" ze srodowiska \"Drugie\". Funkcja przyjmuje jako argument srodowisko."
      ],
      "metadata": {
        "id": "7ynrtpMCfz-k"
      }
    },
    {
      "cell_type": "code",
      "source": [
        "# Nie wiem czy to w ogóle działa\n",
        "\n",
        "adresy_miasta_ulica <- gsub(\"(.) (.), (.*)\", \"\\1,\\2,\\3\", adresy)\n",
        "adresy_miasta_ulica <- strsplit(adresy_miasta_ulica, \",\")\n",
        "adresy_miasta_ulica <- lapply(adresy_miasta_ulica, function(x) c(x[1], x[2], x[3]))\n",
        "adresy_miasta_ulica <- do.call(rbind, adresy_miasta_ulica)\n",
        "\n",
        "adresy_miasta_ulica\n"
      ],
      "metadata": {
        "colab": {
          "base_uri": "https://localhost:8080/",
          "height": 128
        },
        "id": "tz-JR1Nbf2x7",
        "outputId": "225a7b60-9afd-45f2-f792-12a13c3e683f"
      },
      "execution_count": null,
      "outputs": [
        {
          "output_type": "display_data",
          "data": {
            "text/html": [
              "<table class=\"dataframe\">\n",
              "<caption>A matrix: 3 × 3 of type chr</caption>\n",
              "<tbody>\n",
              "\t<tr><td>Kasztanowa 14    </td><td> Bielsko Biała</td><td>NA  </td></tr>\n",
              "\t<tr><td>Łąki Zielonej 152</td><td> Katowice     </td><td>NA  </td></tr>\n",
              "\t<tr><td>Specerow\u0001     </td><td>\u0002          </td><td>\u0003</td></tr>\n",
              "</tbody>\n",
              "</table>\n"
            ],
            "text/markdown": "\nA matrix: 3 × 3 of type chr\n\n| Kasztanowa 14     |  Bielsko Biała | NA   |\n| Łąki Zielonej 152 |  Katowice      | NA   |\n| Specerow\u0001      | \u0002           | \u0003 |\n\n",
            "text/latex": "A matrix: 3 × 3 of type chr\n\\begin{tabular}{lll}\n\t Kasztanowa 14     &  Bielsko Biała & NA  \\\\\n\t Łąki Zielonej 152 &  Katowice      & NA  \\\\\n\t Specerow\u0001      & \u0002           & \u0003\\\\\n\\end{tabular}\n",
            "text/plain": [
              "     [,1]              [,2]           [,3]\n",
              "[1,] Kasztanowa 14      Bielsko Biała NA  \n",
              "[2,] Łąki Zielonej 152  Katowice      NA  \n",
              "[3,] Specerow\\001      \\002           \\003"
            ]
          },
          "metadata": {}
        }
      ]
    }
  ]
}
