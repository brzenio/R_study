{
  "nbformat": 4,
  "nbformat_minor": 0,
  "metadata": {
    "colab": {
      "provenance": [],
      "authorship_tag": "ABX9TyPInoj3SkNsQGlTI4YSlJqI",
      "include_colab_link": true
    },
    "kernelspec": {
      "name": "ir",
      "display_name": "R"
    },
    "language_info": {
      "name": "R"
    }
  },
  "cells": [
    {
      "cell_type": "markdown",
      "metadata": {
        "id": "view-in-github",
        "colab_type": "text"
      },
      "source": [
        "<a href=\"https://colab.research.google.com/github/brzenio/R_study/blob/main/R_2711.ipynb\" target=\"_parent\"><img src=\"https://colab.research.google.com/assets/colab-badge.svg\" alt=\"Open In Colab\"/></a>"
      ]
    },
    {
      "cell_type": "markdown",
      "source": [
        "Zadanie 1: Napisz program tworzacy pusta macierz."
      ],
      "metadata": {
        "id": "ofiWolnwokJ9"
      }
    },
    {
      "cell_type": "code",
      "source": [],
      "metadata": {
        "id": "AGamDrezokzb"
      },
      "execution_count": 2,
      "outputs": []
    },
    {
      "cell_type": "markdown",
      "source": [
        "Zadanie 2: Napisz program tworzacy macierz przyjmujac jako dane wejsciowe podany wektor liczb. Wyswietl macierz."
      ],
      "metadata": {
        "id": "ZIp7jjwIo-Lh"
      }
    },
    {
      "cell_type": "code",
      "source": [],
      "metadata": {
        "id": "0weVpMsypBtw"
      },
      "execution_count": null,
      "outputs": []
    },
    {
      "cell_type": "markdown",
      "source": [
        "Zadanie 3: Napisz program, ktory utworzy macierz przyjmujac jako dane wejsciowe podany wektor liczb i zdefiniuje nazwy kolumn i wierszy. WyĹ›wietl macierz."
      ],
      "metadata": {
        "id": "_jIH-8lhpCgR"
      }
    },
    {
      "cell_type": "code",
      "source": [],
      "metadata": {
        "id": "-ZC3WQNapC9e"
      },
      "execution_count": null,
      "outputs": []
    },
    {
      "cell_type": "markdown",
      "source": [
        "Zadanie 4: Napisz program uzyskujacy dostep do elementu w 3 kolumnie i 2 wierszu; tylko 3 wierszu i tylko 4 kolumnie danej macierzy."
      ],
      "metadata": {
        "id": "LQsUd9P2pDkN"
      }
    },
    {
      "cell_type": "code",
      "source": [],
      "metadata": {
        "id": "nwQNQPx_pD9l"
      },
      "execution_count": null,
      "outputs": []
    },
    {
      "cell_type": "markdown",
      "source": [
        "Zadanie 5: Napisz program tworzacy dwie macierze 2x3. Dodawaj, odejmij, pomnoz i podziel macierze."
      ],
      "metadata": {
        "id": "5KaNlscDpEOF"
      }
    },
    {
      "cell_type": "code",
      "source": [],
      "metadata": {
        "id": "D9ptO9yBpEjj"
      },
      "execution_count": null,
      "outputs": []
    },
    {
      "cell_type": "markdown",
      "source": [
        "Zadanie 6: Napisz program tworzacy macierz z listy podanych wektorow."
      ],
      "metadata": {
        "id": "0nrXfcpspEzD"
      }
    },
    {
      "cell_type": "code",
      "source": [],
      "metadata": {
        "id": "eZ48xDIJpFaC"
      },
      "execution_count": null,
      "outputs": []
    },
    {
      "cell_type": "markdown",
      "source": [
        "Zadanie 7: Napisz program, ktory wyodrebni podmacierz, ktorej wiersze maja wartosc kolumny > 7 z danej macierzy."
      ],
      "metadata": {
        "id": "ZYcybah0pFsp"
      }
    },
    {
      "cell_type": "code",
      "source": [],
      "metadata": {
        "id": "wlUlRw0VpGAp"
      },
      "execution_count": 4,
      "outputs": []
    },
    {
      "cell_type": "markdown",
      "source": [
        "Zadanie 8: Napisz program konwertujacy dana macierz do listy wektorow kolumnowych."
      ],
      "metadata": {
        "id": "Zl7emZ6bpGzI"
      }
    },
    {
      "cell_type": "code",
      "source": [],
      "metadata": {
        "id": "nvYJ1XiQpG6X"
      },
      "execution_count": 6,
      "outputs": []
    },
    {
      "cell_type": "markdown",
      "source": [
        "Zadanie 9: Napisz program, ktory znajdzie indeks wierszy i kolumn o wartoĹ›ci maksymalnej i minimalnej w danej macierzy."
      ],
      "metadata": {
        "id": "50QCj9_BpG9X"
      }
    },
    {
      "cell_type": "code",
      "source": [],
      "metadata": {
        "id": "GtS7skF8pHAg"
      },
      "execution_count": 8,
      "outputs": []
    },
    {
      "cell_type": "markdown",
      "source": [
        "Zadanie 10: Napisz program, ktory obraca dana macierz o 90 stopni zgodnie z ruchem wskazowek zegara."
      ],
      "metadata": {
        "id": "LE32LBTApHtW"
      }
    },
    {
      "cell_type": "code",
      "source": [],
      "metadata": {
        "id": "gESe0iR3pHwv"
      },
      "execution_count": 10,
      "outputs": []
    },
    {
      "cell_type": "markdown",
      "source": [
        "Zadanie 11: Napisz program konwertujacy dana macierz na tablice jednowymiarowa."
      ],
      "metadata": {
        "id": "RHAjdUTtpHzt"
      }
    },
    {
      "cell_type": "code",
      "source": [],
      "metadata": {
        "id": "c9GVuohdpH2l"
      },
      "execution_count": 12,
      "outputs": []
    },
    {
      "cell_type": "markdown",
      "source": [
        "Zadanie 12: Napisz program tworzacy trojwymiarowa tablice 24 elementow za pomoca funkcji dim()."
      ],
      "metadata": {
        "id": "pVBPfo29pH5l"
      }
    },
    {
      "cell_type": "code",
      "source": [],
      "metadata": {
        "id": "aPknnQkGpH8t"
      },
      "execution_count": 14,
      "outputs": []
    },
    {
      "cell_type": "markdown",
      "source": [
        "Zadanie 13: Napisz program tworzacy dwuwymiarowa tablice 5x3 sekwencji parzystych liczb calkowitych wiekszych niz 50."
      ],
      "metadata": {
        "id": "KrzjEonTpH_u"
      }
    },
    {
      "cell_type": "code",
      "source": [],
      "metadata": {
        "id": "PY9tC2qSpsTZ"
      },
      "execution_count": 15,
      "outputs": []
    },
    {
      "cell_type": "markdown",
      "source": [
        "Zadanie 14:\n",
        "\n",
        "a) Stworz macierz o rozmiarze \"30x12\".\n",
        "\n",
        "b) Poczatkowa wartosc generatora liczb pseudolosowych powinna zostac ustalona na 222.\n",
        "\n",
        "c) Pierwsza kolumna powinna zawierac 30 unikalnych wartosci losowych z wektora \"1:30\".\n",
        "\n",
        "d) Ostatnia kolumna powinna zawierac 30 nieunikalnych wartosci losowych z wektora \"1:3\".\n",
        "\n",
        "e) Pozostale kolumny powinny zawierac wartosci losowe pochodzace z rozkladu rownomiernego \"runif()\"."
      ],
      "metadata": {
        "id": "THDOqjnKptMp"
      }
    },
    {
      "cell_type": "code",
      "source": [],
      "metadata": {
        "id": "BMVDcNRBpyjp"
      },
      "execution_count": null,
      "outputs": []
    }
  ]
}