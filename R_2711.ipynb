{
  "nbformat": 4,
  "nbformat_minor": 0,
  "metadata": {
    "colab": {
      "provenance": [],
      "authorship_tag": "ABX9TyNox51ZV+pY5X0gMUH2peJV",
      "include_colab_link": true
    },
    "kernelspec": {
      "name": "ir",
      "display_name": "R"
    },
    "language_info": {
      "name": "R"
    }
  },
  "cells": [
    {
      "cell_type": "markdown",
      "metadata": {
        "id": "view-in-github",
        "colab_type": "text"
      },
      "source": [
        "<a href=\"https://colab.research.google.com/github/brzenio/R_study/blob/main/R_2711.ipynb\" target=\"_parent\"><img src=\"https://colab.research.google.com/assets/colab-badge.svg\" alt=\"Open In Colab\"/></a>"
      ]
    },
    {
      "cell_type": "markdown",
      "source": [
        "Książki do R:\n",
        "\n",
        "https://ksiegarnia.pwn.pl/Programowanie-w-jezyku-R,647767533,p.html\n",
        "\n",
        "Na przełaj przez Data Mining z pakietem R\n",
        "\n",
        "http://www.biecek.pl/R/\n",
        "\n",
        "https://github.com/mim-uw/eXplainableMachineLearning-2023\n",
        "\n",
        "https://github.com/mim-uw/MachineLearningSeminar\n",
        "\n"
      ],
      "metadata": {
        "id": "EmbnzPx_uxjE"
      }
    },
    {
      "cell_type": "markdown",
      "source": [
        "Zadanie 1: Napisz program tworzacy pusta macierz."
      ],
      "metadata": {
        "id": "ofiWolnwokJ9"
      }
    },
    {
      "cell_type": "code",
      "source": [
        "mat = matrix(, nrow = 1, ncol = 1)\n",
        "mat"
      ],
      "metadata": {
        "colab": {
          "base_uri": "https://localhost:8080/",
          "height": 153
        },
        "id": "AGamDrezokzb",
        "outputId": "a52f2cf6-790d-4ffa-c34d-320ab488b7cd"
      },
      "execution_count": 17,
      "outputs": [
        {
          "output_type": "display_data",
          "data": {
            "text/html": [
              "<table class=\"dataframe\">\n",
              "<caption>A matrix: 1 × 1 of type lgl</caption>\n",
              "<tbody>\n",
              "\t<tr><td>NA</td></tr>\n",
              "</tbody>\n",
              "</table>\n"
            ],
            "text/markdown": "\nA matrix: 1 × 1 of type lgl\n\n| NA |\n\n",
            "text/latex": "A matrix: 1 × 1 of type lgl\n\\begin{tabular}{l}\n\t NA\\\\\n\\end{tabular}\n",
            "text/plain": [
              "     [,1]\n",
              "[1,] NA  "
            ]
          },
          "metadata": {}
        }
      ]
    },
    {
      "cell_type": "markdown",
      "source": [
        "Zadanie 2: Napisz program tworzacy macierz przyjmujac jako dane wejsciowe podany wektor liczb. Wyswietl macierz."
      ],
      "metadata": {
        "id": "ZIp7jjwIo-Lh"
      }
    },
    {
      "cell_type": "code",
      "source": [
        "m_vec = matrix(c(1, 2, 3, 4), 2, 2)\n",
        "m_vec"
      ],
      "metadata": {
        "colab": {
          "base_uri": "https://localhost:8080/",
          "height": 167
        },
        "id": "0weVpMsypBtw",
        "outputId": "a2a9b5c1-01b7-4558-f670-32b64cb1bbb3"
      },
      "execution_count": 19,
      "outputs": [
        {
          "output_type": "display_data",
          "data": {
            "text/html": [
              "<table class=\"dataframe\">\n",
              "<caption>A matrix: 2 × 2 of type dbl</caption>\n",
              "<tbody>\n",
              "\t<tr><td>1</td><td>3</td></tr>\n",
              "\t<tr><td>2</td><td>4</td></tr>\n",
              "</tbody>\n",
              "</table>\n"
            ],
            "text/markdown": "\nA matrix: 2 × 2 of type dbl\n\n| 1 | 3 |\n| 2 | 4 |\n\n",
            "text/latex": "A matrix: 2 × 2 of type dbl\n\\begin{tabular}{ll}\n\t 1 & 3\\\\\n\t 2 & 4\\\\\n\\end{tabular}\n",
            "text/plain": [
              "     [,1] [,2]\n",
              "[1,] 1    3   \n",
              "[2,] 2    4   "
            ]
          },
          "metadata": {}
        }
      ]
    },
    {
      "cell_type": "markdown",
      "source": [
        "Zadanie 3: Napisz program, ktory utworzy macierz przyjmujac jako dane wejsciowe podany wektor liczb i zdefiniuje nazwy kolumn i wierszy. Wyświetl macierz."
      ],
      "metadata": {
        "id": "_jIH-8lhpCgR"
      }
    },
    {
      "cell_type": "code",
      "source": [
        "rownames(m_vec) <- c(\"Wiersz 1\", \"Wiersz 2\")\n",
        "m_vec"
      ],
      "metadata": {
        "colab": {
          "base_uri": "https://localhost:8080/",
          "height": 114
        },
        "id": "-ZC3WQNapC9e",
        "outputId": "86d4c9d2-7467-44ab-a5d6-1af37a79dbae"
      },
      "execution_count": 23,
      "outputs": [
        {
          "output_type": "display_data",
          "data": {
            "text/html": [
              "<table class=\"dataframe\">\n",
              "<caption>A matrix: 2 × 2 of type dbl</caption>\n",
              "<tbody>\n",
              "\t<tr><th scope=row>Wiersz 1</th><td>1</td><td>3</td></tr>\n",
              "\t<tr><th scope=row>Wiersz 2</th><td>2</td><td>4</td></tr>\n",
              "</tbody>\n",
              "</table>\n"
            ],
            "text/markdown": "\nA matrix: 2 × 2 of type dbl\n\n| Wiersz 1 | 1 | 3 |\n| Wiersz 2 | 2 | 4 |\n\n",
            "text/latex": "A matrix: 2 × 2 of type dbl\n\\begin{tabular}{r|ll}\n\tWiersz 1 & 1 & 3\\\\\n\tWiersz 2 & 2 & 4\\\\\n\\end{tabular}\n",
            "text/plain": [
              "         [,1] [,2]\n",
              "Wiersz 1 1    3   \n",
              "Wiersz 2 2    4   "
            ]
          },
          "metadata": {}
        }
      ]
    },
    {
      "cell_type": "markdown",
      "source": [
        "Zadanie 4: Napisz program uzyskujacy dostep do elementu w 3 kolumnie i 2 wierszu; tylko 3 wierszu i tylko 4 kolumnie danej macierzy."
      ],
      "metadata": {
        "id": "LQsUd9P2pDkN"
      }
    },
    {
      "cell_type": "code",
      "source": [],
      "metadata": {
        "id": "nwQNQPx_pD9l"
      },
      "execution_count": null,
      "outputs": []
    },
    {
      "cell_type": "markdown",
      "source": [
        "Zadanie 5: Napisz program tworzacy dwie macierze 2x3. Dodawaj, odejmij, pomnoz i podziel macierze."
      ],
      "metadata": {
        "id": "5KaNlscDpEOF"
      }
    },
    {
      "cell_type": "code",
      "source": [],
      "metadata": {
        "id": "D9ptO9yBpEjj"
      },
      "execution_count": null,
      "outputs": []
    },
    {
      "cell_type": "markdown",
      "source": [
        "Zadanie 6: Napisz program tworzacy macierz z listy podanych wektorow."
      ],
      "metadata": {
        "id": "0nrXfcpspEzD"
      }
    },
    {
      "cell_type": "code",
      "source": [],
      "metadata": {
        "id": "eZ48xDIJpFaC"
      },
      "execution_count": null,
      "outputs": []
    },
    {
      "cell_type": "markdown",
      "source": [
        "Zadanie 7: Napisz program, ktory wyodrebni podmacierz, ktorej wiersze maja wartosc kolumny > 7 z danej macierzy."
      ],
      "metadata": {
        "id": "ZYcybah0pFsp"
      }
    },
    {
      "cell_type": "code",
      "source": [],
      "metadata": {
        "id": "wlUlRw0VpGAp"
      },
      "execution_count": 4,
      "outputs": []
    },
    {
      "cell_type": "markdown",
      "source": [
        "Zadanie 8: Napisz program konwertujacy dana macierz do listy wektorow kolumnowych."
      ],
      "metadata": {
        "id": "Zl7emZ6bpGzI"
      }
    },
    {
      "cell_type": "code",
      "source": [],
      "metadata": {
        "id": "nvYJ1XiQpG6X"
      },
      "execution_count": 6,
      "outputs": []
    },
    {
      "cell_type": "markdown",
      "source": [
        "Zadanie 9: Napisz program, ktory znajdzie indeks wierszy i kolumn o wartoĹ›ci maksymalnej i minimalnej w danej macierzy."
      ],
      "metadata": {
        "id": "50QCj9_BpG9X"
      }
    },
    {
      "cell_type": "code",
      "source": [],
      "metadata": {
        "id": "GtS7skF8pHAg"
      },
      "execution_count": 8,
      "outputs": []
    },
    {
      "cell_type": "markdown",
      "source": [
        "Zadanie 10: Napisz program, ktory obraca dana macierz o 90 stopni zgodnie z ruchem wskazowek zegara."
      ],
      "metadata": {
        "id": "LE32LBTApHtW"
      }
    },
    {
      "cell_type": "code",
      "source": [],
      "metadata": {
        "id": "gESe0iR3pHwv"
      },
      "execution_count": 10,
      "outputs": []
    },
    {
      "cell_type": "markdown",
      "source": [
        "Zadanie 11: Napisz program konwertujacy dana macierz na tablice jednowymiarowa."
      ],
      "metadata": {
        "id": "RHAjdUTtpHzt"
      }
    },
    {
      "cell_type": "code",
      "source": [],
      "metadata": {
        "id": "c9GVuohdpH2l"
      },
      "execution_count": 12,
      "outputs": []
    },
    {
      "cell_type": "markdown",
      "source": [
        "Zadanie 12: Napisz program tworzacy trojwymiarowa tablice 24 elementow za pomoca funkcji dim()."
      ],
      "metadata": {
        "id": "pVBPfo29pH5l"
      }
    },
    {
      "cell_type": "code",
      "source": [],
      "metadata": {
        "id": "aPknnQkGpH8t"
      },
      "execution_count": 14,
      "outputs": []
    },
    {
      "cell_type": "markdown",
      "source": [
        "Zadanie 13: Napisz program tworzacy dwuwymiarowa tablice 5x3 sekwencji parzystych liczb calkowitych wiekszych niz 50."
      ],
      "metadata": {
        "id": "KrzjEonTpH_u"
      }
    },
    {
      "cell_type": "code",
      "source": [],
      "metadata": {
        "id": "PY9tC2qSpsTZ"
      },
      "execution_count": 15,
      "outputs": []
    },
    {
      "cell_type": "markdown",
      "source": [
        "Zadanie 14:\n",
        "\n",
        "a) Stworz macierz o rozmiarze \"30x12\".\n",
        "\n",
        "b) Poczatkowa wartosc generatora liczb pseudolosowych powinna zostac ustalona na 222.\n",
        "\n",
        "c) Pierwsza kolumna powinna zawierac 30 unikalnych wartosci losowych z wektora \"1:30\".\n",
        "\n",
        "d) Ostatnia kolumna powinna zawierac 30 nieunikalnych wartosci losowych z wektora \"1:3\".\n",
        "\n",
        "e) Pozostale kolumny powinny zawierac wartosci losowe pochodzace z rozkladu rownomiernego \"runif()\"."
      ],
      "metadata": {
        "id": "THDOqjnKptMp"
      }
    },
    {
      "cell_type": "code",
      "source": [],
      "metadata": {
        "id": "BMVDcNRBpyjp"
      },
      "execution_count": null,
      "outputs": []
    }
  ]
}