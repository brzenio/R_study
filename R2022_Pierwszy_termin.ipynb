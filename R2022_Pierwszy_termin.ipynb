{
  "nbformat": 4,
  "nbformat_minor": 0,
  "metadata": {
    "colab": {
      "provenance": [],
      "authorship_tag": "ABX9TyMv9+Qs1KqDBrHvrnBJpUhO",
      "include_colab_link": true
    },
    "kernelspec": {
      "name": "ir",
      "display_name": "R"
    },
    "language_info": {
      "name": "R"
    }
  },
  "cells": [
    {
      "cell_type": "markdown",
      "metadata": {
        "id": "view-in-github",
        "colab_type": "text"
      },
      "source": [
        "<a href=\"https://colab.research.google.com/github/brzenio/R_study/blob/main/R2022_Pierwszy_termin.ipynb\" target=\"_parent\"><img src=\"https://colab.research.google.com/assets/colab-badge.svg\" alt=\"Open In Colab\"/></a>"
      ]
    },
    {
      "cell_type": "markdown",
      "source": [
        "Zadanie_1\n",
        "\n",
        "A)swórz wektor x zawierający znaki odpowiadające liczbą od 1 do 128\n",
        "\n",
        "B)swtórz wektor zawierający następujące elementy :\"Kasia\", \"MaĹ‚gosia\", \"ElĹĽbieta\", \"joasia\", \"acccb\", \"ab 100\"\n",
        "\n",
        "C) wyświetl wszystkie znaki z wektora x które odpowiadają cyfrą lub literą dużym / małym\n",
        "\n",
        "d) jak wyżej odpowiadające znaką specjalnym\n",
        "\n",
        "e) jak wyżej nie odpowiadające cyfrą\n",
        "\n",
        "f) stwórz wyrażenie regularne które spowoduje wybranie tylko imion Kasia i \n",
        "joasia\n",
        "\n",
        "g) stwórz wyrażenie regularne które spowoduje wybranie elementów \"ab 100\" lub \"accccb\"\n"
      ],
      "metadata": {
        "id": "FHae-ic8E8Gv"
      }
    },
    {
      "cell_type": "code",
      "source": [
        "x <- as.character(1:128)\n",
        "\n",
        "wektor <- c(\"Kasia\", \"Małgosia\", \"Elżbieta\", \"joasia\", \"acccb\", \"ab 100\")\n",
        "\n",
        "x[grep(\"[[:alnum:]]\", x)]\n",
        "\n",
        "x[grep(\"[[:punct:]]\", x)]\n",
        "\n",
        "x[grep(\"[^[:digit:]]\", x)]\n",
        "\n",
        "wektor[grep(\"Kasia|joasia\", wektor)]\n",
        "\n",
        "wektor[grep(\"ab 100|acccb\", wektor)]"
      ],
      "metadata": {
        "colab": {
          "base_uri": "https://localhost:8080/",
          "height": 104
        },
        "id": "20KFiNvFFBC-",
        "outputId": "9143e7ab-4662-4e8a-d271-e5e390e3f5c0"
      },
      "execution_count": 1,
      "outputs": [
        {
          "output_type": "display_data",
          "data": {
            "text/html": [
              "<style>\n",
              ".list-inline {list-style: none; margin:0; padding: 0}\n",
              ".list-inline>li {display: inline-block}\n",
              ".list-inline>li:not(:last-child)::after {content: \"\\00b7\"; padding: 0 .5ex}\n",
              "</style>\n",
              "<ol class=list-inline><li>'1'</li><li>'2'</li><li>'3'</li><li>'4'</li><li>'5'</li><li>'6'</li><li>'7'</li><li>'8'</li><li>'9'</li><li>'10'</li><li>'11'</li><li>'12'</li><li>'13'</li><li>'14'</li><li>'15'</li><li>'16'</li><li>'17'</li><li>'18'</li><li>'19'</li><li>'20'</li><li>'21'</li><li>'22'</li><li>'23'</li><li>'24'</li><li>'25'</li><li>'26'</li><li>'27'</li><li>'28'</li><li>'29'</li><li>'30'</li><li>'31'</li><li>'32'</li><li>'33'</li><li>'34'</li><li>'35'</li><li>'36'</li><li>'37'</li><li>'38'</li><li>'39'</li><li>'40'</li><li>'41'</li><li>'42'</li><li>'43'</li><li>'44'</li><li>'45'</li><li>'46'</li><li>'47'</li><li>'48'</li><li>'49'</li><li>'50'</li><li>'51'</li><li>'52'</li><li>'53'</li><li>'54'</li><li>'55'</li><li>'56'</li><li>'57'</li><li>'58'</li><li>'59'</li><li>'60'</li><li>'61'</li><li>'62'</li><li>'63'</li><li>'64'</li><li>'65'</li><li>'66'</li><li>'67'</li><li>'68'</li><li>'69'</li><li>'70'</li><li>'71'</li><li>'72'</li><li>'73'</li><li>'74'</li><li>'75'</li><li>'76'</li><li>'77'</li><li>'78'</li><li>'79'</li><li>'80'</li><li>'81'</li><li>'82'</li><li>'83'</li><li>'84'</li><li>'85'</li><li>'86'</li><li>'87'</li><li>'88'</li><li>'89'</li><li>'90'</li><li>'91'</li><li>'92'</li><li>'93'</li><li>'94'</li><li>'95'</li><li>'96'</li><li>'97'</li><li>'98'</li><li>'99'</li><li>'100'</li><li>'101'</li><li>'102'</li><li>'103'</li><li>'104'</li><li>'105'</li><li>'106'</li><li>'107'</li><li>'108'</li><li>'109'</li><li>'110'</li><li>'111'</li><li>'112'</li><li>'113'</li><li>'114'</li><li>'115'</li><li>'116'</li><li>'117'</li><li>'118'</li><li>'119'</li><li>'120'</li><li>'121'</li><li>'122'</li><li>'123'</li><li>'124'</li><li>'125'</li><li>'126'</li><li>'127'</li><li>'128'</li></ol>\n"
            ],
            "text/markdown": "1. '1'\n2. '2'\n3. '3'\n4. '4'\n5. '5'\n6. '6'\n7. '7'\n8. '8'\n9. '9'\n10. '10'\n11. '11'\n12. '12'\n13. '13'\n14. '14'\n15. '15'\n16. '16'\n17. '17'\n18. '18'\n19. '19'\n20. '20'\n21. '21'\n22. '22'\n23. '23'\n24. '24'\n25. '25'\n26. '26'\n27. '27'\n28. '28'\n29. '29'\n30. '30'\n31. '31'\n32. '32'\n33. '33'\n34. '34'\n35. '35'\n36. '36'\n37. '37'\n38. '38'\n39. '39'\n40. '40'\n41. '41'\n42. '42'\n43. '43'\n44. '44'\n45. '45'\n46. '46'\n47. '47'\n48. '48'\n49. '49'\n50. '50'\n51. '51'\n52. '52'\n53. '53'\n54. '54'\n55. '55'\n56. '56'\n57. '57'\n58. '58'\n59. '59'\n60. '60'\n61. '61'\n62. '62'\n63. '63'\n64. '64'\n65. '65'\n66. '66'\n67. '67'\n68. '68'\n69. '69'\n70. '70'\n71. '71'\n72. '72'\n73. '73'\n74. '74'\n75. '75'\n76. '76'\n77. '77'\n78. '78'\n79. '79'\n80. '80'\n81. '81'\n82. '82'\n83. '83'\n84. '84'\n85. '85'\n86. '86'\n87. '87'\n88. '88'\n89. '89'\n90. '90'\n91. '91'\n92. '92'\n93. '93'\n94. '94'\n95. '95'\n96. '96'\n97. '97'\n98. '98'\n99. '99'\n100. '100'\n101. '101'\n102. '102'\n103. '103'\n104. '104'\n105. '105'\n106. '106'\n107. '107'\n108. '108'\n109. '109'\n110. '110'\n111. '111'\n112. '112'\n113. '113'\n114. '114'\n115. '115'\n116. '116'\n117. '117'\n118. '118'\n119. '119'\n120. '120'\n121. '121'\n122. '122'\n123. '123'\n124. '124'\n125. '125'\n126. '126'\n127. '127'\n128. '128'\n\n\n",
            "text/latex": "\\begin{enumerate*}\n\\item '1'\n\\item '2'\n\\item '3'\n\\item '4'\n\\item '5'\n\\item '6'\n\\item '7'\n\\item '8'\n\\item '9'\n\\item '10'\n\\item '11'\n\\item '12'\n\\item '13'\n\\item '14'\n\\item '15'\n\\item '16'\n\\item '17'\n\\item '18'\n\\item '19'\n\\item '20'\n\\item '21'\n\\item '22'\n\\item '23'\n\\item '24'\n\\item '25'\n\\item '26'\n\\item '27'\n\\item '28'\n\\item '29'\n\\item '30'\n\\item '31'\n\\item '32'\n\\item '33'\n\\item '34'\n\\item '35'\n\\item '36'\n\\item '37'\n\\item '38'\n\\item '39'\n\\item '40'\n\\item '41'\n\\item '42'\n\\item '43'\n\\item '44'\n\\item '45'\n\\item '46'\n\\item '47'\n\\item '48'\n\\item '49'\n\\item '50'\n\\item '51'\n\\item '52'\n\\item '53'\n\\item '54'\n\\item '55'\n\\item '56'\n\\item '57'\n\\item '58'\n\\item '59'\n\\item '60'\n\\item '61'\n\\item '62'\n\\item '63'\n\\item '64'\n\\item '65'\n\\item '66'\n\\item '67'\n\\item '68'\n\\item '69'\n\\item '70'\n\\item '71'\n\\item '72'\n\\item '73'\n\\item '74'\n\\item '75'\n\\item '76'\n\\item '77'\n\\item '78'\n\\item '79'\n\\item '80'\n\\item '81'\n\\item '82'\n\\item '83'\n\\item '84'\n\\item '85'\n\\item '86'\n\\item '87'\n\\item '88'\n\\item '89'\n\\item '90'\n\\item '91'\n\\item '92'\n\\item '93'\n\\item '94'\n\\item '95'\n\\item '96'\n\\item '97'\n\\item '98'\n\\item '99'\n\\item '100'\n\\item '101'\n\\item '102'\n\\item '103'\n\\item '104'\n\\item '105'\n\\item '106'\n\\item '107'\n\\item '108'\n\\item '109'\n\\item '110'\n\\item '111'\n\\item '112'\n\\item '113'\n\\item '114'\n\\item '115'\n\\item '116'\n\\item '117'\n\\item '118'\n\\item '119'\n\\item '120'\n\\item '121'\n\\item '122'\n\\item '123'\n\\item '124'\n\\item '125'\n\\item '126'\n\\item '127'\n\\item '128'\n\\end{enumerate*}\n",
            "text/plain": [
              "  [1] \"1\"   \"2\"   \"3\"   \"4\"   \"5\"   \"6\"   \"7\"   \"8\"   \"9\"   \"10\"  \"11\"  \"12\" \n",
              " [13] \"13\"  \"14\"  \"15\"  \"16\"  \"17\"  \"18\"  \"19\"  \"20\"  \"21\"  \"22\"  \"23\"  \"24\" \n",
              " [25] \"25\"  \"26\"  \"27\"  \"28\"  \"29\"  \"30\"  \"31\"  \"32\"  \"33\"  \"34\"  \"35\"  \"36\" \n",
              " [37] \"37\"  \"38\"  \"39\"  \"40\"  \"41\"  \"42\"  \"43\"  \"44\"  \"45\"  \"46\"  \"47\"  \"48\" \n",
              " [49] \"49\"  \"50\"  \"51\"  \"52\"  \"53\"  \"54\"  \"55\"  \"56\"  \"57\"  \"58\"  \"59\"  \"60\" \n",
              " [61] \"61\"  \"62\"  \"63\"  \"64\"  \"65\"  \"66\"  \"67\"  \"68\"  \"69\"  \"70\"  \"71\"  \"72\" \n",
              " [73] \"73\"  \"74\"  \"75\"  \"76\"  \"77\"  \"78\"  \"79\"  \"80\"  \"81\"  \"82\"  \"83\"  \"84\" \n",
              " [85] \"85\"  \"86\"  \"87\"  \"88\"  \"89\"  \"90\"  \"91\"  \"92\"  \"93\"  \"94\"  \"95\"  \"96\" \n",
              " [97] \"97\"  \"98\"  \"99\"  \"100\" \"101\" \"102\" \"103\" \"104\" \"105\" \"106\" \"107\" \"108\"\n",
              "[109] \"109\" \"110\" \"111\" \"112\" \"113\" \"114\" \"115\" \"116\" \"117\" \"118\" \"119\" \"120\"\n",
              "[121] \"121\" \"122\" \"123\" \"124\" \"125\" \"126\" \"127\" \"128\""
            ]
          },
          "metadata": {}
        },
        {
          "output_type": "display_data",
          "data": {
            "text/html": [],
            "text/markdown": "",
            "text/latex": "",
            "text/plain": [
              "character(0)"
            ]
          },
          "metadata": {}
        },
        {
          "output_type": "display_data",
          "data": {
            "text/html": [],
            "text/markdown": "",
            "text/latex": "",
            "text/plain": [
              "character(0)"
            ]
          },
          "metadata": {}
        },
        {
          "output_type": "display_data",
          "data": {
            "text/html": [
              "<style>\n",
              ".list-inline {list-style: none; margin:0; padding: 0}\n",
              ".list-inline>li {display: inline-block}\n",
              ".list-inline>li:not(:last-child)::after {content: \"\\00b7\"; padding: 0 .5ex}\n",
              "</style>\n",
              "<ol class=list-inline><li>'Kasia'</li><li>'joasia'</li></ol>\n"
            ],
            "text/markdown": "1. 'Kasia'\n2. 'joasia'\n\n\n",
            "text/latex": "\\begin{enumerate*}\n\\item 'Kasia'\n\\item 'joasia'\n\\end{enumerate*}\n",
            "text/plain": [
              "[1] \"Kasia\"  \"joasia\""
            ]
          },
          "metadata": {}
        },
        {
          "output_type": "display_data",
          "data": {
            "text/html": [
              "<style>\n",
              ".list-inline {list-style: none; margin:0; padding: 0}\n",
              ".list-inline>li {display: inline-block}\n",
              ".list-inline>li:not(:last-child)::after {content: \"\\00b7\"; padding: 0 .5ex}\n",
              "</style>\n",
              "<ol class=list-inline><li>'acccb'</li><li>'ab 100'</li></ol>\n"
            ],
            "text/markdown": "1. 'acccb'\n2. 'ab 100'\n\n\n",
            "text/latex": "\\begin{enumerate*}\n\\item 'acccb'\n\\item 'ab 100'\n\\end{enumerate*}\n",
            "text/plain": [
              "[1] \"acccb\"  \"ab 100\""
            ]
          },
          "metadata": {}
        }
      ]
    },
    {
      "cell_type": "markdown",
      "source": [
        "Zadanie 2\n",
        "\n",
        "a)wysymuluj 50 liczb całkowitych z przediału od 1 do 20 do wektóra \" wektor_2 \",\n",
        "początkowa wartość generatora liczb pseudolosowych powinna zostać ustalona na 123.\n",
        "\n",
        "b)zaimportuj plik \"zadanie_2\" do obiektu \"nazwa\" kolumny powinny być zaimportowane jako tekst\n",
        "\n",
        "c)nadaj nazwy kolejnym elementom wektora \"wektor_2\" na podstawie wektora \"nazwa\".\n",
        "\n",
        "d)wyznacz sumy elementów należących do każdej grupy (zakresu), nie wykorzystując pętli\n",
        "\n",
        "e)wyznacz liczbę elementów należących do każdej grupy (zakresu), nie wykorzystując pętli"
      ],
      "metadata": {
        "id": "yadXPGHmFLrO"
      }
    },
    {
      "cell_type": "code",
      "source": [
        "set.seed(123)\n",
        "wektor_2 <- sample(1:20, 50, replace = TRUE)\n",
        "\n",
        "nazwa <- read.table(\"zadanie_2.txt\", header = FALSE, col.names = \"nazwa\")\n",
        "\n",
        "names(wektor_2) <- nazwa$nazwa\n",
        "\n",
        "suma <- tapply(wektor_2, cut(wektor_2, breaks = c(0, 5, 10, 15, 20)), sum)\n",
        "\n",
        "liczba <- tapply(wektor_2, cut(wektor_2, breaks = c(0, 5, 10, 15, 20)), length)"
      ],
      "metadata": {
        "colab": {
          "base_uri": "https://localhost:8080/",
          "height": 189
        },
        "id": "NK8BHUv7FXR-",
        "outputId": "60370715-3fb4-4e9a-8ac6-274ed37d906a"
      },
      "execution_count": 3,
      "outputs": [
        {
          "output_type": "stream",
          "name": "stderr",
          "text": [
            "Warning message in file(file, \"rt\"):\n",
            "“cannot open file 'zadanie_2.txt': No such file or directory”\n"
          ]
        },
        {
          "output_type": "error",
          "ename": "ERROR",
          "evalue": "ignored",
          "traceback": [
            "Error in file(file, \"rt\"): cannot open the connection\nTraceback:\n",
            "1. read.table(\"zadanie_2.txt\", header = FALSE, col.names = \"nazwa\")",
            "2. file(file, \"rt\")"
          ]
        }
      ]
    },
    {
      "cell_type": "markdown",
      "source": [
        "Zadanie 3\n",
        "\n",
        "A) stwórz funkcje (bez pętli) przyjmującą jako argument wejściowy obiekt x\n",
        "\n",
        "  a)nadająca nazwy kolumn lub elementom, począwszy od x_1 do x_n \n",
        "\n",
        "  b) wyznacz sume elementów w każdej kolumnie lub sume elementów wektora\n",
        "\n",
        "  c) zwraca obiekt wejściowy oraz obiekt stworzony w punkcie b).\n",
        "\n",
        "B) przetestuj działanie funkcji dla\n",
        "\n",
        " b) wektorem o długości 100 o nazwie wektor (ziarno = 666) wypełnionych wartościami losowymi z rozkładu rownomiernego\n",
        "\n",
        "a)macierzy rozmiaru 20x20 o nazwie macierz (ziarno = 666)wypełnionych wartościami losowymi z rozkładu rownomiernego"
      ],
      "metadata": {
        "id": "KI_4SycyFoF8"
      }
    },
    {
      "cell_type": "code",
      "source": [
        "nazwij_sumuj <- function(x) {\n",
        "  \n",
        "  # Nadaj nazwy kolumnom lub elementom\n",
        "  nazwy <- paste0(\"x_\", 1:length(x))\n",
        "  \n",
        "  # Wyznacz sumę elementów w każdej kolumnie (dla macierzy)\n",
        "  # lub sumę elementów wektora (dla wektora)\n",
        "  if (is.matrix(x)) {\n",
        "    suma <- colSums(x)\n",
        "  } else {\n",
        "    suma <- sum(x)\n",
        "  }\n",
        "  \n",
        "  # Zwróć obiekt wejściowy oraz obiekt z sumą\n",
        "  list(x=x, suma=suma)\n",
        "}\n",
        "\n",
        "set.seed(666)\n",
        "wektor <- runif(100)\n",
        "nazwij_sumuj(wektor)\n",
        "\n",
        "set.seed(666)\n",
        "macierz <- matrix(runif(400), nrow=20, ncol=20)\n",
        "nazwij_sumuj(macierz)"
      ],
      "metadata": {
        "id": "KL4H7kVfF6qC"
      },
      "execution_count": null,
      "outputs": []
    },
    {
      "cell_type": "markdown",
      "source": [
        "Zadanie 4 (potrzebujÄ™ pliku Zadanie_4)\n",
        "\n",
        "A) zaimportuj plik \"zadanie_4\" do obiektu \"obiekt_4\"\n",
        "\n",
        "B) Dodaj do obiektu nową kolumne \"nowa\" poprzez przetestowanie czy liczba w kolumnie \"losowe\"\n",
        "jest mniejsza od 0,8,jeśli tak do nowa kolumna przyjmuje wartośc \"mało\" w przeciwnym \"duzo\"\n",
        "\n",
        "C) stwórz listyę \"lista_4\" poprzez podział obiektu \"obiekt_4\" ze względu na kolumne \"nowa\"\n",
        "\n",
        "D) Wykorzystując zwektorowana funkcje przejdz do każdego elementu listy i wyznacz do wszystkich\n",
        "mozliwych kolumn sume elementów należących do grupy wyznaczonej przez kolumne \"przemienne\""
      ],
      "metadata": {
        "id": "0hex4UkHGY6e"
      }
    },
    {
      "cell_type": "code",
      "source": [
        "obiekt_4 <- read.table(\"zadanie_4.txt\", header = FALSE, col.names = \"nazwa\")\n",
        "\n",
        "obiekt_4$nowa <- ifelse(obiekt_4$losowe < 0.8, \"mało\", \"dużo\")\n",
        "\n",
        "lista_4 <- split(obiekt_4, obiekt_4$nowa)\n",
        "\n",
        "lapply(lista_4, function(x) colSums(x[, c(\"kolumna_1\", \"kolumna_2\", \"kolumna_3\")]))"
      ],
      "metadata": {
        "colab": {
          "base_uri": "https://localhost:8080/",
          "height": 189
        },
        "id": "tfgAw9syGbfE",
        "outputId": "6773179e-ecd0-47e9-ed89-48ec1890a55d"
      },
      "execution_count": 9,
      "outputs": [
        {
          "output_type": "stream",
          "name": "stderr",
          "text": [
            "Warning message in file(file, \"rt\"):\n",
            "“cannot open file 'zadanie_4.txt': No such file or directory”\n"
          ]
        },
        {
          "output_type": "error",
          "ename": "ERROR",
          "evalue": "ignored",
          "traceback": [
            "Error in file(file, \"rt\"): cannot open the connection\nTraceback:\n",
            "1. read.table(\"zadanie_4.txt\", header = FALSE, col.names = \"nazwa\")",
            "2. file(file, \"rt\")"
          ]
        }
      ]
    },
    {
      "cell_type": "markdown",
      "source": [
        "Zadanie 2\n",
        "\n",
        "A) stwórz wektor koleejnych liczb od 1 do 100.\n",
        "\n",
        "B) Stworz macierz o wymiarze 50x10 Nazwij kolumny macierzy w następujący sposób : piersza = Y a każda następna od x_1 do x_n\n",
        "\n",
        "c) Do kolumny pierwszej wstaw podzbiór elementów wektora z pkt a z indeksów od 21 do 70 za pomocą pętli wstaw do kolejnych kolumn i wierszy opóźnienia wektora z pkt. a, tak że x_1 jest opóźnione o jeden okres \n",
        "a x_1 o 10 okresów."
      ],
      "metadata": {
        "id": "3-Y1eYVpGtzy"
      }
    },
    {
      "cell_type": "code",
      "source": [
        "vector <- 1:100\n",
        "\n",
        "matrix <- matrix(0, nrow = 50, ncol = 10)\n",
        "colnames(matrix) <- c(\"Y\", paste(\"x\", 1:9, sep = \"_\"))\n",
        "\n",
        "matrix[,1] <- vector[21:70]\n",
        "\n",
        "for (i in 2:ncol(matrix)) {\n",
        "  matrix[,i] <- vector[21:70 - (i - 1) * 10]\n",
        "}"
      ],
      "metadata": {
        "colab": {
          "base_uri": "https://localhost:8080/",
          "height": 97
        },
        "id": "lyi-wkQgGy3r",
        "outputId": "cddade65-c6c3-4b3c-ec79-fcc87bd22f49"
      },
      "execution_count": 10,
      "outputs": [
        {
          "output_type": "error",
          "ename": "ERROR",
          "evalue": "ignored",
          "traceback": [
            "Error in vector[21:70 - (i - 1) * 10]: only 0's may be mixed with negative subscripts\nTraceback:\n"
          ]
        }
      ]
    },
    {
      "cell_type": "markdown",
      "source": [
        "Zadanie 3\n",
        "\n",
        "a)Wysymuluj 30 liczb całkowitych z przedziału od 10 do 20 (ziarno = 444)\n",
        "\n",
        "b) stwórz następnie poprzez prealokacje wektor liczb całkowitych o wartościach domyślinych o długości\n",
        "wektora wyżej\n",
        "\n",
        "c) za pomocą pętli for wstaw następnie elementy wektora losowaego z pkt a do wektora z pkt b"
      ],
      "metadata": {
        "id": "V2QVAz4HGzhh"
      }
    },
    {
      "cell_type": "code",
      "source": [
        "set.seed(444)\n",
        "random_vector <- sample(10:20, 30, replace = TRUE)\n",
        "\n",
        "default_vector <- numeric(length(random_vector))\n",
        "\n",
        "default_vector\n",
        "\n",
        "for(i in 1:length(random_vector)) {\n",
        "  default_vector[i] <- random_vector[i]\n",
        "}\n",
        "\n",
        "random_vector\n",
        "default_vector"
      ],
      "metadata": {
        "colab": {
          "base_uri": "https://localhost:8080/",
          "height": 69
        },
        "id": "gqPCo0dbHB3B",
        "outputId": "b968115d-fea6-4f90-99a5-f7f912ddff61"
      },
      "execution_count": 13,
      "outputs": [
        {
          "output_type": "display_data",
          "data": {
            "text/html": [
              "<style>\n",
              ".list-inline {list-style: none; margin:0; padding: 0}\n",
              ".list-inline>li {display: inline-block}\n",
              ".list-inline>li:not(:last-child)::after {content: \"\\00b7\"; padding: 0 .5ex}\n",
              "</style>\n",
              "<ol class=list-inline><li>0</li><li>0</li><li>0</li><li>0</li><li>0</li><li>0</li><li>0</li><li>0</li><li>0</li><li>0</li><li>0</li><li>0</li><li>0</li><li>0</li><li>0</li><li>0</li><li>0</li><li>0</li><li>0</li><li>0</li><li>0</li><li>0</li><li>0</li><li>0</li><li>0</li><li>0</li><li>0</li><li>0</li><li>0</li><li>0</li></ol>\n"
            ],
            "text/markdown": "1. 0\n2. 0\n3. 0\n4. 0\n5. 0\n6. 0\n7. 0\n8. 0\n9. 0\n10. 0\n11. 0\n12. 0\n13. 0\n14. 0\n15. 0\n16. 0\n17. 0\n18. 0\n19. 0\n20. 0\n21. 0\n22. 0\n23. 0\n24. 0\n25. 0\n26. 0\n27. 0\n28. 0\n29. 0\n30. 0\n\n\n",
            "text/latex": "\\begin{enumerate*}\n\\item 0\n\\item 0\n\\item 0\n\\item 0\n\\item 0\n\\item 0\n\\item 0\n\\item 0\n\\item 0\n\\item 0\n\\item 0\n\\item 0\n\\item 0\n\\item 0\n\\item 0\n\\item 0\n\\item 0\n\\item 0\n\\item 0\n\\item 0\n\\item 0\n\\item 0\n\\item 0\n\\item 0\n\\item 0\n\\item 0\n\\item 0\n\\item 0\n\\item 0\n\\item 0\n\\end{enumerate*}\n",
            "text/plain": [
              " [1] 0 0 0 0 0 0 0 0 0 0 0 0 0 0 0 0 0 0 0 0 0 0 0 0 0 0 0 0 0 0"
            ]
          },
          "metadata": {}
        },
        {
          "output_type": "display_data",
          "data": {
            "text/html": [
              "<style>\n",
              ".list-inline {list-style: none; margin:0; padding: 0}\n",
              ".list-inline>li {display: inline-block}\n",
              ".list-inline>li:not(:last-child)::after {content: \"\\00b7\"; padding: 0 .5ex}\n",
              "</style>\n",
              "<ol class=list-inline><li>15</li><li>12</li><li>12</li><li>10</li><li>12</li><li>19</li><li>17</li><li>17</li><li>20</li><li>17</li><li>10</li><li>16</li><li>10</li><li>20</li><li>19</li><li>17</li><li>19</li><li>12</li><li>16</li><li>16</li><li>12</li><li>20</li><li>17</li><li>19</li><li>19</li><li>18</li><li>13</li><li>13</li><li>15</li><li>11</li></ol>\n"
            ],
            "text/markdown": "1. 15\n2. 12\n3. 12\n4. 10\n5. 12\n6. 19\n7. 17\n8. 17\n9. 20\n10. 17\n11. 10\n12. 16\n13. 10\n14. 20\n15. 19\n16. 17\n17. 19\n18. 12\n19. 16\n20. 16\n21. 12\n22. 20\n23. 17\n24. 19\n25. 19\n26. 18\n27. 13\n28. 13\n29. 15\n30. 11\n\n\n",
            "text/latex": "\\begin{enumerate*}\n\\item 15\n\\item 12\n\\item 12\n\\item 10\n\\item 12\n\\item 19\n\\item 17\n\\item 17\n\\item 20\n\\item 17\n\\item 10\n\\item 16\n\\item 10\n\\item 20\n\\item 19\n\\item 17\n\\item 19\n\\item 12\n\\item 16\n\\item 16\n\\item 12\n\\item 20\n\\item 17\n\\item 19\n\\item 19\n\\item 18\n\\item 13\n\\item 13\n\\item 15\n\\item 11\n\\end{enumerate*}\n",
            "text/plain": [
              " [1] 15 12 12 10 12 19 17 17 20 17 10 16 10 20 19 17 19 12 16 16 12 20 17 19 19\n",
              "[26] 18 13 13 15 11"
            ]
          },
          "metadata": {}
        },
        {
          "output_type": "display_data",
          "data": {
            "text/html": [
              "<style>\n",
              ".list-inline {list-style: none; margin:0; padding: 0}\n",
              ".list-inline>li {display: inline-block}\n",
              ".list-inline>li:not(:last-child)::after {content: \"\\00b7\"; padding: 0 .5ex}\n",
              "</style>\n",
              "<ol class=list-inline><li>15</li><li>12</li><li>12</li><li>10</li><li>12</li><li>19</li><li>17</li><li>17</li><li>20</li><li>17</li><li>10</li><li>16</li><li>10</li><li>20</li><li>19</li><li>17</li><li>19</li><li>12</li><li>16</li><li>16</li><li>12</li><li>20</li><li>17</li><li>19</li><li>19</li><li>18</li><li>13</li><li>13</li><li>15</li><li>11</li></ol>\n"
            ],
            "text/markdown": "1. 15\n2. 12\n3. 12\n4. 10\n5. 12\n6. 19\n7. 17\n8. 17\n9. 20\n10. 17\n11. 10\n12. 16\n13. 10\n14. 20\n15. 19\n16. 17\n17. 19\n18. 12\n19. 16\n20. 16\n21. 12\n22. 20\n23. 17\n24. 19\n25. 19\n26. 18\n27. 13\n28. 13\n29. 15\n30. 11\n\n\n",
            "text/latex": "\\begin{enumerate*}\n\\item 15\n\\item 12\n\\item 12\n\\item 10\n\\item 12\n\\item 19\n\\item 17\n\\item 17\n\\item 20\n\\item 17\n\\item 10\n\\item 16\n\\item 10\n\\item 20\n\\item 19\n\\item 17\n\\item 19\n\\item 12\n\\item 16\n\\item 16\n\\item 12\n\\item 20\n\\item 17\n\\item 19\n\\item 19\n\\item 18\n\\item 13\n\\item 13\n\\item 15\n\\item 11\n\\end{enumerate*}\n",
            "text/plain": [
              " [1] 15 12 12 10 12 19 17 17 20 17 10 16 10 20 19 17 19 12 16 16 12 20 17 19 19\n",
              "[26] 18 13 13 15 11"
            ]
          },
          "metadata": {}
        }
      ]
    },
    {
      "cell_type": "markdown",
      "source": [
        "Zadanie 4\n",
        "\n",
        "a) stwórz listę od długości 5 i wartościach domyślnych\n",
        "\n",
        "b) stworz wektor poprzez wylosowanie licz od 1 do 10 5 razy bez powtórek (ziarno= 123)\n",
        "\n",
        "c) wykorzystując funkcje bez pętli wstaw do kolejnych elementów listy wektor powtarzający konkrętną liczbę \n",
        "z wektora tyle razy jaka liczba jest zawarta w danym indeksie."
      ],
      "metadata": {
        "id": "edw_f1FgHCuu"
      }
    },
    {
      "cell_type": "code",
      "source": [
        "lista_4 <- list(vector(mode = \"numeric\", length = 5),\n",
        "                 vector(mode = \"numeric\", length = 5),\n",
        "                 vector(mode = \"numeric\", length = 5),\n",
        "                 vector(mode = \"numeric\", length = 5),\n",
        "                 vector(mode = \"numeric\", length = 5))\n",
        "lista_4\n",
        "\n",
        "set.seed(123)\n",
        "wektor_b <- sample(1:10, 5, replace = FALSE)\n",
        "wektor_b\n",
        "\n",
        "lista_4 <- Map(function(x, y) rep(y, x), 1:5, wektor_b)\n",
        "lista_4\n"
      ],
      "metadata": {
        "colab": {
          "base_uri": "https://localhost:8080/",
          "height": 264
        },
        "id": "Hr-Ha_lcHFyg",
        "outputId": "3c160eb6-0ffb-4be8-f845-1e4cedffcfc4"
      },
      "execution_count": 15,
      "outputs": [
        {
          "output_type": "display_data",
          "data": {
            "text/html": [
              "<ol>\n",
              "\t<li><style>\n",
              ".list-inline {list-style: none; margin:0; padding: 0}\n",
              ".list-inline>li {display: inline-block}\n",
              ".list-inline>li:not(:last-child)::after {content: \"\\00b7\"; padding: 0 .5ex}\n",
              "</style>\n",
              "<ol class=list-inline><li>0</li><li>0</li><li>0</li><li>0</li><li>0</li></ol>\n",
              "</li>\n",
              "\t<li><style>\n",
              ".list-inline {list-style: none; margin:0; padding: 0}\n",
              ".list-inline>li {display: inline-block}\n",
              ".list-inline>li:not(:last-child)::after {content: \"\\00b7\"; padding: 0 .5ex}\n",
              "</style>\n",
              "<ol class=list-inline><li>0</li><li>0</li><li>0</li><li>0</li><li>0</li></ol>\n",
              "</li>\n",
              "\t<li><style>\n",
              ".list-inline {list-style: none; margin:0; padding: 0}\n",
              ".list-inline>li {display: inline-block}\n",
              ".list-inline>li:not(:last-child)::after {content: \"\\00b7\"; padding: 0 .5ex}\n",
              "</style>\n",
              "<ol class=list-inline><li>0</li><li>0</li><li>0</li><li>0</li><li>0</li></ol>\n",
              "</li>\n",
              "\t<li><style>\n",
              ".list-inline {list-style: none; margin:0; padding: 0}\n",
              ".list-inline>li {display: inline-block}\n",
              ".list-inline>li:not(:last-child)::after {content: \"\\00b7\"; padding: 0 .5ex}\n",
              "</style>\n",
              "<ol class=list-inline><li>0</li><li>0</li><li>0</li><li>0</li><li>0</li></ol>\n",
              "</li>\n",
              "\t<li><style>\n",
              ".list-inline {list-style: none; margin:0; padding: 0}\n",
              ".list-inline>li {display: inline-block}\n",
              ".list-inline>li:not(:last-child)::after {content: \"\\00b7\"; padding: 0 .5ex}\n",
              "</style>\n",
              "<ol class=list-inline><li>0</li><li>0</li><li>0</li><li>0</li><li>0</li></ol>\n",
              "</li>\n",
              "</ol>\n"
            ],
            "text/markdown": "1. 1. 0\n2. 0\n3. 0\n4. 0\n5. 0\n\n\n\n2. 1. 0\n2. 0\n3. 0\n4. 0\n5. 0\n\n\n\n3. 1. 0\n2. 0\n3. 0\n4. 0\n5. 0\n\n\n\n4. 1. 0\n2. 0\n3. 0\n4. 0\n5. 0\n\n\n\n5. 1. 0\n2. 0\n3. 0\n4. 0\n5. 0\n\n\n\n\n\n",
            "text/latex": "\\begin{enumerate}\n\\item \\begin{enumerate*}\n\\item 0\n\\item 0\n\\item 0\n\\item 0\n\\item 0\n\\end{enumerate*}\n\n\\item \\begin{enumerate*}\n\\item 0\n\\item 0\n\\item 0\n\\item 0\n\\item 0\n\\end{enumerate*}\n\n\\item \\begin{enumerate*}\n\\item 0\n\\item 0\n\\item 0\n\\item 0\n\\item 0\n\\end{enumerate*}\n\n\\item \\begin{enumerate*}\n\\item 0\n\\item 0\n\\item 0\n\\item 0\n\\item 0\n\\end{enumerate*}\n\n\\item \\begin{enumerate*}\n\\item 0\n\\item 0\n\\item 0\n\\item 0\n\\item 0\n\\end{enumerate*}\n\n\\end{enumerate}\n",
            "text/plain": [
              "[[1]]\n",
              "[1] 0 0 0 0 0\n",
              "\n",
              "[[2]]\n",
              "[1] 0 0 0 0 0\n",
              "\n",
              "[[3]]\n",
              "[1] 0 0 0 0 0\n",
              "\n",
              "[[4]]\n",
              "[1] 0 0 0 0 0\n",
              "\n",
              "[[5]]\n",
              "[1] 0 0 0 0 0\n"
            ]
          },
          "metadata": {}
        },
        {
          "output_type": "display_data",
          "data": {
            "text/html": [
              "<style>\n",
              ".list-inline {list-style: none; margin:0; padding: 0}\n",
              ".list-inline>li {display: inline-block}\n",
              ".list-inline>li:not(:last-child)::after {content: \"\\00b7\"; padding: 0 .5ex}\n",
              "</style>\n",
              "<ol class=list-inline><li>3</li><li>10</li><li>2</li><li>8</li><li>6</li></ol>\n"
            ],
            "text/markdown": "1. 3\n2. 10\n3. 2\n4. 8\n5. 6\n\n\n",
            "text/latex": "\\begin{enumerate*}\n\\item 3\n\\item 10\n\\item 2\n\\item 8\n\\item 6\n\\end{enumerate*}\n",
            "text/plain": [
              "[1]  3 10  2  8  6"
            ]
          },
          "metadata": {}
        },
        {
          "output_type": "display_data",
          "data": {
            "text/html": [
              "<ol>\n",
              "\t<li>3</li>\n",
              "\t<li><style>\n",
              ".list-inline {list-style: none; margin:0; padding: 0}\n",
              ".list-inline>li {display: inline-block}\n",
              ".list-inline>li:not(:last-child)::after {content: \"\\00b7\"; padding: 0 .5ex}\n",
              "</style>\n",
              "<ol class=list-inline><li>10</li><li>10</li></ol>\n",
              "</li>\n",
              "\t<li><style>\n",
              ".list-inline {list-style: none; margin:0; padding: 0}\n",
              ".list-inline>li {display: inline-block}\n",
              ".list-inline>li:not(:last-child)::after {content: \"\\00b7\"; padding: 0 .5ex}\n",
              "</style>\n",
              "<ol class=list-inline><li>2</li><li>2</li><li>2</li></ol>\n",
              "</li>\n",
              "\t<li><style>\n",
              ".list-inline {list-style: none; margin:0; padding: 0}\n",
              ".list-inline>li {display: inline-block}\n",
              ".list-inline>li:not(:last-child)::after {content: \"\\00b7\"; padding: 0 .5ex}\n",
              "</style>\n",
              "<ol class=list-inline><li>8</li><li>8</li><li>8</li><li>8</li></ol>\n",
              "</li>\n",
              "\t<li><style>\n",
              ".list-inline {list-style: none; margin:0; padding: 0}\n",
              ".list-inline>li {display: inline-block}\n",
              ".list-inline>li:not(:last-child)::after {content: \"\\00b7\"; padding: 0 .5ex}\n",
              "</style>\n",
              "<ol class=list-inline><li>6</li><li>6</li><li>6</li><li>6</li><li>6</li></ol>\n",
              "</li>\n",
              "</ol>\n"
            ],
            "text/markdown": "1. 3\n2. 1. 10\n2. 10\n\n\n\n3. 1. 2\n2. 2\n3. 2\n\n\n\n4. 1. 8\n2. 8\n3. 8\n4. 8\n\n\n\n5. 1. 6\n2. 6\n3. 6\n4. 6\n5. 6\n\n\n\n\n\n",
            "text/latex": "\\begin{enumerate}\n\\item 3\n\\item \\begin{enumerate*}\n\\item 10\n\\item 10\n\\end{enumerate*}\n\n\\item \\begin{enumerate*}\n\\item 2\n\\item 2\n\\item 2\n\\end{enumerate*}\n\n\\item \\begin{enumerate*}\n\\item 8\n\\item 8\n\\item 8\n\\item 8\n\\end{enumerate*}\n\n\\item \\begin{enumerate*}\n\\item 6\n\\item 6\n\\item 6\n\\item 6\n\\item 6\n\\end{enumerate*}\n\n\\end{enumerate}\n",
            "text/plain": [
              "[[1]]\n",
              "[1] 3\n",
              "\n",
              "[[2]]\n",
              "[1] 10 10\n",
              "\n",
              "[[3]]\n",
              "[1] 2 2 2\n",
              "\n",
              "[[4]]\n",
              "[1] 8 8 8 8\n",
              "\n",
              "[[5]]\n",
              "[1] 6 6 6 6 6\n"
            ]
          },
          "metadata": {}
        }
      ]
    }
  ]
}