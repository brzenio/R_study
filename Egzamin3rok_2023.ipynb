{
  "nbformat": 4,
  "nbformat_minor": 0,
  "metadata": {
    "colab": {
      "provenance": [],
      "authorship_tag": "ABX9TyOF/UltNwAH0oD7zn9Xf7xA",
      "include_colab_link": true
    },
    "kernelspec": {
      "name": "ir",
      "display_name": "R"
    },
    "language_info": {
      "name": "R"
    }
  },
  "cells": [
    {
      "cell_type": "markdown",
      "metadata": {
        "id": "view-in-github",
        "colab_type": "text"
      },
      "source": [
        "<a href=\"https://colab.research.google.com/github/brzenio/R_study/blob/main/Egzamin3rok_2023.ipynb\" target=\"_parent\"><img src=\"https://colab.research.google.com/assets/colab-badge.svg\" alt=\"Open In Colab\"/></a>"
      ]
    },
    {
      "cell_type": "markdown",
      "source": [
        "Zadanie 1:\n",
        "\n",
        "  a) Stworz funkcje (nie wykorzystujac petli) przyjmujaca jako argument wejsciowy obiekt \"x\" oraz:\n",
        "\n",
        "  - nadajaca nazwy kolumnom (dla tablic) lub elementom (dla wektorow), poczawszy od \"x_1\" az do \"x_n\"\n",
        "       (\"n\" jest liczba kolumn lub dlugoscia wektora).\n",
        "\n",
        "  - wyznaczacjaca sume elementow w kazdej kolumnie (dla tablic) lub sume elementow wektora.\n",
        "\n",
        "    - zwracajaca obiekt wejsciowy oraz obiekt stworzony w punkcie z podpunktu powyzej.\n",
        "\n",
        "b) Przetestuj dzialenie funkcji dla:\n",
        "  - macierzy rozmiaru \"20x20\" (ziarno = 666).\n",
        "  - wektora dlugosci \"100\" (ziarno = 666).\n",
        "     wypelnionych wartosciami losowymi z rozkladu rownomiernego."
      ],
      "metadata": {
        "id": "qwG252Pih4qB"
      }
    },
    {
      "cell_type": "code",
      "source": [
        "# Do przetestowania ten kod\n",
        "# get_info <- function(x) {\n",
        "#   names(x) <- paste0(\"x_\", seq_along(x))\n",
        "#   sum_x <- sum(x)\n",
        "#   list(input = x, summary = c(sum_of_elements = sum_x))\n",
        "# }\n",
        "\n",
        "name_and_sum <- function(x) {\n",
        "  n <- if (is.matrix(x)) ncol(x) else length(x)\n",
        "  names(x) <- paste0(\"x_\", 1:n)\n",
        "  sums <- if (is.matrix(x)) colSums(x) else sum(x)\n",
        "  list(x = x, sums = sums)\n",
        "}\n",
        "\n",
        "\n",
        "set.seed(666)\n",
        "mat <- matrix(runif(400), ncol = 20)\n",
        "result_mat <- name_and_sum(mat)\n",
        "\n",
        "set.seed(666)\n",
        "vec <- runif(100)\n",
        "result_vec <- name_and_sum(vec)\n",
        "\n",
        "result_mat\n",
        "result_vec"
      ],
      "metadata": {
        "id": "RvOcaOOmiA-1"
      },
      "execution_count": null,
      "outputs": []
    },
    {
      "cell_type": "markdown",
      "source": [
        "Zadanie 2:\n",
        "\n",
        "  a) Stworz wektor zawierajacy liczby od 1 do 9.\n",
        "\n",
        "  b) Stworz dwie listy o dlugosci odpowiadajacej dlugosci wektora z pkt. a.\n",
        "\n",
        "  c) Nadaj obu listom nazwy elementow od \"l1\" do \"l9\". Uzyj operacji zwektoryzowanych tworzacych powyzsze nazwy.\n",
        "\n",
        "  d) Za pomoca petli while iterujacej w ramch wartosci zawartych w wektorze z pkt. a, wstaw w kolejne elementy pierwszej listy podzbiór wektora z pkt a, tak aby pierwszy element listy zawieral pierwszy element, drugi element listy zawieral pierwszy oraz drugi element,..., dziewiaty element listy zawieral wszystkie elementy. Stworzy sie swojego rodzaju piramida.\n",
        "  \n",
        "  e) W trakcie dzialania petli z pkt. c. usun dany (i-ty) element drugiej listy. W kazdym kroku druga lista powninna byc coraz mniejsza."
      ],
      "metadata": {
        "id": "Rr4OHJObiPsG"
      }
    },
    {
      "cell_type": "code",
      "source": [
        "vec <- 1:9\n",
        "\n",
        "list1 <- vector(\"list\", length(vec))\n",
        "list2 <- vector(\"list\", length(vec))\n",
        "\n",
        "names(list1) <- paste0(\"l\", vec)\n",
        "names(list2) <- paste0(\"l\", vec)\n",
        "\n",
        "i <- 1\n",
        "while (i <= length(vec)) {\n",
        "  list1[[i]] <- vec[1:i]\n",
        "  i <- i + 1\n",
        "}\n",
        "\n",
        "i <- 1\n",
        "while (i <= length(vec)) {\n",
        "  list1[[i]] <- vec[1:i]\n",
        "  list2[[i]] <- NULL\n",
        "  i <- i + 1\n",
        "}"
      ],
      "metadata": {
        "id": "aV_8KisciXB8"
      },
      "execution_count": 4,
      "outputs": []
    },
    {
      "cell_type": "markdown",
      "source": [
        "Zadanie 3:\n",
        "\n",
        "  a) Wczytaj dwa pliki kolumnowe \"Zadanie_3a.txt\" oraz \"Zadanie_3b.txt\".\n",
        "\n",
        "  b) Dokonaj zlaczenia tabel z pkt a) poprzez klucze podstawowe \"klucz\" oraz \"key\".\n",
        "     Tabela wynikowa powinna zawierac wszystkie wiersze z obydwu plikow (suma zbiorow).\n",
        "\n",
        "  c) Posortuj tabele wynikowa z pkt b) wzgledem klucza podstawowego malejaco.\n",
        "\n",
        "  d) Nie wykorzystujac petli, zastap braki danych w tabeli z pkt c) liczba 666."
      ],
      "metadata": {
        "id": "jvnzcLuNiXdi"
      }
    },
    {
      "cell_type": "code",
      "source": [
        "data_a <- read.table(\"Zadanie_3a.txt\", header = TRUE)\n",
        "data_b <- read.table(\"Zadanie_3b.txt\", header = TRUE)\n",
        "\n",
        "merged_data <- merge(data_a, data_b, by.x = \"klucz\", by.y = \"key\", all = TRUE)\n",
        "\n",
        "sorted_data[is.na(sorted_data)] <- 666"
      ],
      "metadata": {
        "colab": {
          "base_uri": "https://localhost:8080/",
          "height": 189
        },
        "id": "Hzr6-czPicpN",
        "outputId": "857b5d33-fa3b-4fe2-e407-298823f2cf29"
      },
      "execution_count": 5,
      "outputs": [
        {
          "output_type": "stream",
          "name": "stderr",
          "text": [
            "Warning message in file(file, \"rt\"):\n",
            "“cannot open file 'Zadanie_3a.txt': No such file or directory”\n"
          ]
        },
        {
          "output_type": "error",
          "ename": "ERROR",
          "evalue": "ignored",
          "traceback": [
            "Error in file(file, \"rt\"): cannot open the connection\nTraceback:\n",
            "1. read.table(\"Zadanie_3a.txt\", header = TRUE)",
            "2. file(file, \"rt\")"
          ]
        }
      ]
    },
    {
      "cell_type": "markdown",
      "source": [
        "Zadanie 4:\n",
        "\n",
        "a) Napisz program, ktory znajdzie indeks wierszy i kolumn o wartości maksymalnej i minimalnej w danej macierzy.\n",
        "\n",
        "b) Przetestuj dzialanie programu na dowolnej macierzy."
      ],
      "metadata": {
        "id": "97yrg84qic7-"
      }
    },
    {
      "cell_type": "code",
      "source": [
        "findMinMaxIndices <- function(mat) {\n",
        "  max_index <- which(mat == max(mat), arr.ind = TRUE)\n",
        "  min_index <- which(mat == min(mat), arr.ind = TRUE)\n",
        "  list(max_index = max_index, min_index = min_index)\n",
        "}\n",
        "\n",
        "# Example usage:\n",
        "mat <- matrix(1:9, ncol = 3)\n",
        "mat\n",
        "result <- findMinMaxIndices(mat)\n",
        "print(result$max_index) # Output: [1,3] (row, column indices of max value)\n",
        "print(result$min_index) # Output: [3,1] (row, column indices of min value)\n"
      ],
      "metadata": {
        "colab": {
          "base_uri": "https://localhost:8080/",
          "height": 237
        },
        "id": "CGJbpCNcihAc",
        "outputId": "47153ea7-e919-4ad2-abdb-5ae5f3e75c5e"
      },
      "execution_count": 7,
      "outputs": [
        {
          "output_type": "display_data",
          "data": {
            "text/html": [
              "<table class=\"dataframe\">\n",
              "<caption>A matrix: 3 × 3 of type int</caption>\n",
              "<tbody>\n",
              "\t<tr><td>1</td><td>4</td><td>7</td></tr>\n",
              "\t<tr><td>2</td><td>5</td><td>8</td></tr>\n",
              "\t<tr><td>3</td><td>6</td><td>9</td></tr>\n",
              "</tbody>\n",
              "</table>\n"
            ],
            "text/markdown": "\nA matrix: 3 × 3 of type int\n\n| 1 | 4 | 7 |\n| 2 | 5 | 8 |\n| 3 | 6 | 9 |\n\n",
            "text/latex": "A matrix: 3 × 3 of type int\n\\begin{tabular}{lll}\n\t 1 & 4 & 7\\\\\n\t 2 & 5 & 8\\\\\n\t 3 & 6 & 9\\\\\n\\end{tabular}\n",
            "text/plain": [
              "     [,1] [,2] [,3]\n",
              "[1,] 1    4    7   \n",
              "[2,] 2    5    8   \n",
              "[3,] 3    6    9   "
            ]
          },
          "metadata": {}
        },
        {
          "output_type": "stream",
          "name": "stdout",
          "text": [
            "     row col\n",
            "[1,]   3   3\n",
            "     row col\n",
            "[1,]   1   1\n"
          ]
        }
      ]
    }
  ]
}