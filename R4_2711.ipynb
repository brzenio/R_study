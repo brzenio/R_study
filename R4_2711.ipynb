{
  "nbformat": 4,
  "nbformat_minor": 0,
  "metadata": {
    "colab": {
      "provenance": [],
      "authorship_tag": "ABX9TyPGixcMyXLOYTEM/Y1QkhxI",
      "include_colab_link": true
    },
    "kernelspec": {
      "name": "ir",
      "display_name": "R"
    },
    "language_info": {
      "name": "R"
    }
  },
  "cells": [
    {
      "cell_type": "markdown",
      "metadata": {
        "id": "view-in-github",
        "colab_type": "text"
      },
      "source": [
        "<a href=\"https://colab.research.google.com/github/brzenio/R_study/blob/main/R4_2711.ipynb\" target=\"_parent\"><img src=\"https://colab.research.google.com/assets/colab-badge.svg\" alt=\"Open In Colab\"/></a>"
      ]
    },
    {
      "cell_type": "markdown",
      "source": [
        "Książki do R:\n",
        "\n",
        "https://ksiegarnia.pwn.pl/Programowanie-w-jezyku-R,647767533,p.html\n",
        "\n",
        "Na przełaj przez Data Mining z pakietem R\n",
        "\n",
        "http://www.biecek.pl/R/\n",
        "\n",
        "https://github.com/mim-uw/eXplainableMachineLearning-2023\n",
        "\n",
        "https://github.com/mim-uw/MachineLearningSeminar\n",
        "\n"
      ],
      "metadata": {
        "id": "EmbnzPx_uxjE"
      }
    },
    {
      "cell_type": "markdown",
      "source": [
        "Zadanie 1: Napisz program tworzacy pusta macierz."
      ],
      "metadata": {
        "id": "ofiWolnwokJ9"
      }
    },
    {
      "cell_type": "code",
      "source": [
        "mat = matrix(, nrow = 1, ncol = 1)\n",
        "mat"
      ],
      "metadata": {
        "colab": {
          "base_uri": "https://localhost:8080/",
          "height": 153
        },
        "id": "AGamDrezokzb",
        "outputId": "a52f2cf6-790d-4ffa-c34d-320ab488b7cd"
      },
      "execution_count": null,
      "outputs": [
        {
          "output_type": "display_data",
          "data": {
            "text/html": [
              "<table class=\"dataframe\">\n",
              "<caption>A matrix: 1 × 1 of type lgl</caption>\n",
              "<tbody>\n",
              "\t<tr><td>NA</td></tr>\n",
              "</tbody>\n",
              "</table>\n"
            ],
            "text/markdown": "\nA matrix: 1 × 1 of type lgl\n\n| NA |\n\n",
            "text/latex": "A matrix: 1 × 1 of type lgl\n\\begin{tabular}{l}\n\t NA\\\\\n\\end{tabular}\n",
            "text/plain": [
              "     [,1]\n",
              "[1,] NA  "
            ]
          },
          "metadata": {}
        }
      ]
    },
    {
      "cell_type": "markdown",
      "source": [
        "Zadanie 2: Napisz program tworzacy macierz przyjmujac jako dane wejsciowe podany wektor liczb. Wyswietl macierz."
      ],
      "metadata": {
        "id": "ZIp7jjwIo-Lh"
      }
    },
    {
      "cell_type": "code",
      "source": [
        "m_vec = matrix(c(1, 2, 3, 4), 2, 2)\n",
        "m_vec"
      ],
      "metadata": {
        "colab": {
          "base_uri": "https://localhost:8080/",
          "height": 167
        },
        "id": "0weVpMsypBtw",
        "outputId": "c65aaf2d-ddb1-433b-85e4-27e6f34ac569"
      },
      "execution_count": 6,
      "outputs": [
        {
          "output_type": "display_data",
          "data": {
            "text/html": [
              "<table class=\"dataframe\">\n",
              "<caption>A matrix: 2 × 2 of type dbl</caption>\n",
              "<tbody>\n",
              "\t<tr><td>1</td><td>3</td></tr>\n",
              "\t<tr><td>2</td><td>4</td></tr>\n",
              "</tbody>\n",
              "</table>\n"
            ],
            "text/markdown": "\nA matrix: 2 × 2 of type dbl\n\n| 1 | 3 |\n| 2 | 4 |\n\n",
            "text/latex": "A matrix: 2 × 2 of type dbl\n\\begin{tabular}{ll}\n\t 1 & 3\\\\\n\t 2 & 4\\\\\n\\end{tabular}\n",
            "text/plain": [
              "     [,1] [,2]\n",
              "[1,] 1    3   \n",
              "[2,] 2    4   "
            ]
          },
          "metadata": {}
        }
      ]
    },
    {
      "cell_type": "markdown",
      "source": [
        "Zadanie 3: Napisz program, ktory utworzy macierz przyjmujac jako dane wejsciowe podany wektor liczb i zdefiniuje nazwy kolumn i wierszy. Wyświetl macierz."
      ],
      "metadata": {
        "id": "_jIH-8lhpCgR"
      }
    },
    {
      "cell_type": "code",
      "source": [
        "colnames(m_vec) <- c(\"Kolumna 1\", \"Kolumna 2\")\n",
        "rownames(m_vec) <- c(\"Wiersz 1\", \"Wiersz 2\")\n",
        "m_vec"
      ],
      "metadata": {
        "colab": {
          "base_uri": "https://localhost:8080/",
          "height": 129
        },
        "id": "-ZC3WQNapC9e",
        "outputId": "c0bd70dc-2565-4516-b4bf-57f44c0d4a8a"
      },
      "execution_count": 8,
      "outputs": [
        {
          "output_type": "display_data",
          "data": {
            "text/html": [
              "<table class=\"dataframe\">\n",
              "<caption>A matrix: 2 × 2 of type dbl</caption>\n",
              "<thead>\n",
              "\t<tr><th></th><th scope=col>Kolumna 1</th><th scope=col>Kolumna 2</th></tr>\n",
              "</thead>\n",
              "<tbody>\n",
              "\t<tr><th scope=row>Wiersz 1</th><td>1</td><td>3</td></tr>\n",
              "\t<tr><th scope=row>Wiersz 2</th><td>2</td><td>4</td></tr>\n",
              "</tbody>\n",
              "</table>\n"
            ],
            "text/markdown": "\nA matrix: 2 × 2 of type dbl\n\n| <!--/--> | Kolumna 1 | Kolumna 2 |\n|---|---|---|\n| Wiersz 1 | 1 | 3 |\n| Wiersz 2 | 2 | 4 |\n\n",
            "text/latex": "A matrix: 2 × 2 of type dbl\n\\begin{tabular}{r|ll}\n  & Kolumna 1 & Kolumna 2\\\\\n\\hline\n\tWiersz 1 & 1 & 3\\\\\n\tWiersz 2 & 2 & 4\\\\\n\\end{tabular}\n",
            "text/plain": [
              "         Kolumna 1 Kolumna 2\n",
              "Wiersz 1 1         3        \n",
              "Wiersz 2 2         4        "
            ]
          },
          "metadata": {}
        }
      ]
    },
    {
      "cell_type": "markdown",
      "source": [
        "Zadanie 4: Napisz program uzyskujacy dostep do elementu w 3 kolumnie i 2 wierszu; tylko 3 wierszu i tylko 4 kolumnie danej macierzy."
      ],
      "metadata": {
        "id": "LQsUd9P2pDkN"
      }
    },
    {
      "cell_type": "code",
      "source": [
        "m <- matrix(1:12, nrow = 3, ncol = 4)\n",
        "colnames(m) <- c(\"col1\", \"col2\", \"col3\", \"col4\")\n",
        "rownames(m) <- c(\"row1\", \"row2\", \"row3\")\n",
        "\n",
        "# Dostęp do elementu w 3 kolumnie i 2 wierszu\n",
        "m[2,3]\n",
        "\n",
        "# Dostęp tylko do 3 wierszy i 4 kolumn\n",
        "m[3,4]"
      ],
      "metadata": {
        "id": "nwQNQPx_pD9l",
        "colab": {
          "base_uri": "https://localhost:8080/",
          "height": 52
        },
        "outputId": "adcabdc3-8afd-40da-bf25-799ab11776a4"
      },
      "execution_count": 14,
      "outputs": [
        {
          "output_type": "display_data",
          "data": {
            "text/html": [
              "8"
            ],
            "text/markdown": "8",
            "text/latex": "8",
            "text/plain": [
              "[1] 8"
            ]
          },
          "metadata": {}
        },
        {
          "output_type": "display_data",
          "data": {
            "text/html": [
              "12"
            ],
            "text/markdown": "12",
            "text/latex": "12",
            "text/plain": [
              "[1] 12"
            ]
          },
          "metadata": {}
        }
      ]
    },
    {
      "cell_type": "markdown",
      "source": [
        "Zadanie 5: Napisz program tworzacy dwie macierze 2x3. Dodawaj, odejmij, pomnoz i podziel macierze."
      ],
      "metadata": {
        "id": "5KaNlscDpEOF"
      }
    },
    {
      "cell_type": "code",
      "source": [
        "mat1 <- matrix(1:6, nrow = 2, ncol = 3)\n",
        "\n",
        "mat2 <- matrix(7:12, nrow = 2, ncol = 3)\n",
        "\n",
        "mat1\n",
        "mat2\n",
        "\n",
        "# Dodawanie macierzy\n",
        "mat_sum <- mat1 + mat2\n",
        "\n",
        "# Odejmowanie macierzy\n",
        "mat_diff <- mat1 - mat2\n",
        "\n",
        "# Mnozenie macierzy\n",
        "mat_prod <- mat1 * mat2\n",
        "\n",
        "# Dzielenie macierzy\n",
        "mat_quot <- mat1 / mat2\n",
        "\n",
        "# Wyswietlanie wyniku\n",
        "mat_sum\n",
        "mat_diff\n",
        "mat_prod\n",
        "mat_quot"
      ],
      "metadata": {
        "id": "D9ptO9yBpEjj",
        "colab": {
          "base_uri": "https://localhost:8080/",
          "height": 602
        },
        "outputId": "0f594d0a-5a70-4125-8319-52d8ca3e8afb"
      },
      "execution_count": 17,
      "outputs": [
        {
          "output_type": "display_data",
          "data": {
            "text/html": [
              "<table class=\"dataframe\">\n",
              "<caption>A matrix: 2 × 3 of type int</caption>\n",
              "<tbody>\n",
              "\t<tr><td>1</td><td>3</td><td>5</td></tr>\n",
              "\t<tr><td>2</td><td>4</td><td>6</td></tr>\n",
              "</tbody>\n",
              "</table>\n"
            ],
            "text/markdown": "\nA matrix: 2 × 3 of type int\n\n| 1 | 3 | 5 |\n| 2 | 4 | 6 |\n\n",
            "text/latex": "A matrix: 2 × 3 of type int\n\\begin{tabular}{lll}\n\t 1 & 3 & 5\\\\\n\t 2 & 4 & 6\\\\\n\\end{tabular}\n",
            "text/plain": [
              "     [,1] [,2] [,3]\n",
              "[1,] 1    3    5   \n",
              "[2,] 2    4    6   "
            ]
          },
          "metadata": {}
        },
        {
          "output_type": "display_data",
          "data": {
            "text/html": [
              "<table class=\"dataframe\">\n",
              "<caption>A matrix: 2 × 3 of type int</caption>\n",
              "<tbody>\n",
              "\t<tr><td>7</td><td> 9</td><td>11</td></tr>\n",
              "\t<tr><td>8</td><td>10</td><td>12</td></tr>\n",
              "</tbody>\n",
              "</table>\n"
            ],
            "text/markdown": "\nA matrix: 2 × 3 of type int\n\n| 7 |  9 | 11 |\n| 8 | 10 | 12 |\n\n",
            "text/latex": "A matrix: 2 × 3 of type int\n\\begin{tabular}{lll}\n\t 7 &  9 & 11\\\\\n\t 8 & 10 & 12\\\\\n\\end{tabular}\n",
            "text/plain": [
              "     [,1] [,2] [,3]\n",
              "[1,] 7     9   11  \n",
              "[2,] 8    10   12  "
            ]
          },
          "metadata": {}
        },
        {
          "output_type": "display_data",
          "data": {
            "text/html": [
              "<table class=\"dataframe\">\n",
              "<caption>A matrix: 2 × 3 of type int</caption>\n",
              "<tbody>\n",
              "\t<tr><td> 8</td><td>12</td><td>16</td></tr>\n",
              "\t<tr><td>10</td><td>14</td><td>18</td></tr>\n",
              "</tbody>\n",
              "</table>\n"
            ],
            "text/markdown": "\nA matrix: 2 × 3 of type int\n\n|  8 | 12 | 16 |\n| 10 | 14 | 18 |\n\n",
            "text/latex": "A matrix: 2 × 3 of type int\n\\begin{tabular}{lll}\n\t  8 & 12 & 16\\\\\n\t 10 & 14 & 18\\\\\n\\end{tabular}\n",
            "text/plain": [
              "     [,1] [,2] [,3]\n",
              "[1,]  8   12   16  \n",
              "[2,] 10   14   18  "
            ]
          },
          "metadata": {}
        },
        {
          "output_type": "display_data",
          "data": {
            "text/html": [
              "<table class=\"dataframe\">\n",
              "<caption>A matrix: 2 × 3 of type int</caption>\n",
              "<tbody>\n",
              "\t<tr><td>-6</td><td>-6</td><td>-6</td></tr>\n",
              "\t<tr><td>-6</td><td>-6</td><td>-6</td></tr>\n",
              "</tbody>\n",
              "</table>\n"
            ],
            "text/markdown": "\nA matrix: 2 × 3 of type int\n\n| -6 | -6 | -6 |\n| -6 | -6 | -6 |\n\n",
            "text/latex": "A matrix: 2 × 3 of type int\n\\begin{tabular}{lll}\n\t -6 & -6 & -6\\\\\n\t -6 & -6 & -6\\\\\n\\end{tabular}\n",
            "text/plain": [
              "     [,1] [,2] [,3]\n",
              "[1,] -6   -6   -6  \n",
              "[2,] -6   -6   -6  "
            ]
          },
          "metadata": {}
        },
        {
          "output_type": "display_data",
          "data": {
            "text/html": [
              "<table class=\"dataframe\">\n",
              "<caption>A matrix: 2 × 3 of type int</caption>\n",
              "<tbody>\n",
              "\t<tr><td> 7</td><td>27</td><td>55</td></tr>\n",
              "\t<tr><td>16</td><td>40</td><td>72</td></tr>\n",
              "</tbody>\n",
              "</table>\n"
            ],
            "text/markdown": "\nA matrix: 2 × 3 of type int\n\n|  7 | 27 | 55 |\n| 16 | 40 | 72 |\n\n",
            "text/latex": "A matrix: 2 × 3 of type int\n\\begin{tabular}{lll}\n\t  7 & 27 & 55\\\\\n\t 16 & 40 & 72\\\\\n\\end{tabular}\n",
            "text/plain": [
              "     [,1] [,2] [,3]\n",
              "[1,]  7   27   55  \n",
              "[2,] 16   40   72  "
            ]
          },
          "metadata": {}
        },
        {
          "output_type": "display_data",
          "data": {
            "text/html": [
              "<table class=\"dataframe\">\n",
              "<caption>A matrix: 2 × 3 of type dbl</caption>\n",
              "<tbody>\n",
              "\t<tr><td>0.1428571</td><td>0.3333333</td><td>0.4545455</td></tr>\n",
              "\t<tr><td>0.2500000</td><td>0.4000000</td><td>0.5000000</td></tr>\n",
              "</tbody>\n",
              "</table>\n"
            ],
            "text/markdown": "\nA matrix: 2 × 3 of type dbl\n\n| 0.1428571 | 0.3333333 | 0.4545455 |\n| 0.2500000 | 0.4000000 | 0.5000000 |\n\n",
            "text/latex": "A matrix: 2 × 3 of type dbl\n\\begin{tabular}{lll}\n\t 0.1428571 & 0.3333333 & 0.4545455\\\\\n\t 0.2500000 & 0.4000000 & 0.5000000\\\\\n\\end{tabular}\n",
            "text/plain": [
              "     [,1]      [,2]      [,3]     \n",
              "[1,] 0.1428571 0.3333333 0.4545455\n",
              "[2,] 0.2500000 0.4000000 0.5000000"
            ]
          },
          "metadata": {}
        }
      ]
    },
    {
      "cell_type": "markdown",
      "source": [
        "Zadanie 6: Napisz program tworzacy macierz z listy podanych wektorow."
      ],
      "metadata": {
        "id": "0nrXfcpspEzD"
      }
    },
    {
      "cell_type": "code",
      "source": [
        "vectors <- list(c(1, 2, 3), c(4, 5, 6), c(7, 8, 9))\n",
        "matrix_from_vectors <- matrix(unlist(vectors), ncol = 3, byrow = TRUE)\n",
        "\n",
        "matrix_from_vectors"
      ],
      "metadata": {
        "id": "eZ48xDIJpFaC",
        "colab": {
          "base_uri": "https://localhost:8080/",
          "height": 163
        },
        "outputId": "ad39ca82-53f9-4a2b-be72-fbf1a1538d88"
      },
      "execution_count": 19,
      "outputs": [
        {
          "output_type": "display_data",
          "data": {
            "text/html": [
              "<table class=\"dataframe\">\n",
              "<caption>A matrix: 3 × 3 of type dbl</caption>\n",
              "<tbody>\n",
              "\t<tr><td>1</td><td>2</td><td>3</td></tr>\n",
              "\t<tr><td>4</td><td>5</td><td>6</td></tr>\n",
              "\t<tr><td>7</td><td>8</td><td>9</td></tr>\n",
              "</tbody>\n",
              "</table>\n"
            ],
            "text/markdown": "\nA matrix: 3 × 3 of type dbl\n\n| 1 | 2 | 3 |\n| 4 | 5 | 6 |\n| 7 | 8 | 9 |\n\n",
            "text/latex": "A matrix: 3 × 3 of type dbl\n\\begin{tabular}{lll}\n\t 1 & 2 & 3\\\\\n\t 4 & 5 & 6\\\\\n\t 7 & 8 & 9\\\\\n\\end{tabular}\n",
            "text/plain": [
              "     [,1] [,2] [,3]\n",
              "[1,] 1    2    3   \n",
              "[2,] 4    5    6   \n",
              "[3,] 7    8    9   "
            ]
          },
          "metadata": {}
        }
      ]
    },
    {
      "cell_type": "markdown",
      "source": [
        "Zadanie 7: Napisz program, ktory wyodrebni podmacierz, ktorej wiersze maja wartosc kolumny > 7 z danej macierzy."
      ],
      "metadata": {
        "id": "ZYcybah0pFsp"
      }
    },
    {
      "cell_type": "code",
      "source": [
        "# Do poprawy, bo nie działa\n",
        "m <- matrix(1:12, 4, 3)\n",
        "print (m)\n",
        "\n",
        "submatrix <- m[m[, 1] > 7, ]\n",
        "\n",
        "print(submatrix)"
      ],
      "metadata": {
        "id": "wlUlRw0VpGAp",
        "colab": {
          "base_uri": "https://localhost:8080/"
        },
        "outputId": "ea1bd4e5-c6f9-4bc4-8548-d03cac3d01e1"
      },
      "execution_count": 35,
      "outputs": [
        {
          "output_type": "stream",
          "name": "stdout",
          "text": [
            "     [,1] [,2] [,3]\n",
            "[1,]    1    5    9\n",
            "[2,]    2    6   10\n",
            "[3,]    3    7   11\n",
            "[4,]    4    8   12\n",
            "     [,1] [,2] [,3]\n"
          ]
        }
      ]
    },
    {
      "cell_type": "markdown",
      "source": [
        "Zadanie 8: Napisz program konwertujacy dana macierz do listy wektorow kolumnowych."
      ],
      "metadata": {
        "id": "Zl7emZ6bpGzI"
      }
    },
    {
      "cell_type": "code",
      "source": [
        "m <- matrix(1:12, 4, 3)\n",
        "column_vectors <- as.list(apply(m, 2, as.vector))\n",
        "\n",
        "column_vectors"
      ],
      "metadata": {
        "id": "nvYJ1XiQpG6X",
        "colab": {
          "base_uri": "https://localhost:8080/",
          "height": 253
        },
        "outputId": "6f1a24a9-73a2-4f82-924f-a4486dded6c6"
      },
      "execution_count": 36,
      "outputs": [
        {
          "output_type": "display_data",
          "data": {
            "text/html": [
              "<ol>\n",
              "\t<li>1</li>\n",
              "\t<li>2</li>\n",
              "\t<li>3</li>\n",
              "\t<li>4</li>\n",
              "\t<li>5</li>\n",
              "\t<li>6</li>\n",
              "\t<li>7</li>\n",
              "\t<li>8</li>\n",
              "\t<li>9</li>\n",
              "\t<li>10</li>\n",
              "\t<li>11</li>\n",
              "\t<li>12</li>\n",
              "</ol>\n"
            ],
            "text/markdown": "1. 1\n2. 2\n3. 3\n4. 4\n5. 5\n6. 6\n7. 7\n8. 8\n9. 9\n10. 10\n11. 11\n12. 12\n\n\n",
            "text/latex": "\\begin{enumerate}\n\\item 1\n\\item 2\n\\item 3\n\\item 4\n\\item 5\n\\item 6\n\\item 7\n\\item 8\n\\item 9\n\\item 10\n\\item 11\n\\item 12\n\\end{enumerate}\n",
            "text/plain": [
              "[[1]]\n",
              "[1] 1\n",
              "\n",
              "[[2]]\n",
              "[1] 2\n",
              "\n",
              "[[3]]\n",
              "[1] 3\n",
              "\n",
              "[[4]]\n",
              "[1] 4\n",
              "\n",
              "[[5]]\n",
              "[1] 5\n",
              "\n",
              "[[6]]\n",
              "[1] 6\n",
              "\n",
              "[[7]]\n",
              "[1] 7\n",
              "\n",
              "[[8]]\n",
              "[1] 8\n",
              "\n",
              "[[9]]\n",
              "[1] 9\n",
              "\n",
              "[[10]]\n",
              "[1] 10\n",
              "\n",
              "[[11]]\n",
              "[1] 11\n",
              "\n",
              "[[12]]\n",
              "[1] 12\n"
            ]
          },
          "metadata": {}
        }
      ]
    },
    {
      "cell_type": "markdown",
      "source": [
        "Zadanie 9: Napisz program, ktory znajdzie indeks wierszy i kolumn o wartoĹ›ci maksymalnej i minimalnej w danej macierzy."
      ],
      "metadata": {
        "id": "50QCj9_BpG9X"
      }
    },
    {
      "cell_type": "code",
      "source": [
        "m <- matrix(1:12, 4, 3)\n",
        "min_index <- which(m == min(m), arr.ind = TRUE)\n",
        "max_index <- which(m == max(m), arr.ind = TRUE)\n",
        "\n",
        "min_index\n",
        "max_index"
      ],
      "metadata": {
        "id": "GtS7skF8pHAg",
        "colab": {
          "base_uri": "https://localhost:8080/",
          "height": 249
        },
        "outputId": "a299017b-5d59-454b-d517-c9606db6de21"
      },
      "execution_count": 39,
      "outputs": [
        {
          "output_type": "display_data",
          "data": {
            "text/html": [
              "<table class=\"dataframe\">\n",
              "<caption>A matrix: 1 × 2 of type int</caption>\n",
              "<thead>\n",
              "\t<tr><th scope=col>row</th><th scope=col>col</th></tr>\n",
              "</thead>\n",
              "<tbody>\n",
              "\t<tr><td>1</td><td>1</td></tr>\n",
              "</tbody>\n",
              "</table>\n"
            ],
            "text/markdown": "\nA matrix: 1 × 2 of type int\n\n| row | col |\n|---|---|\n| 1 | 1 |\n\n",
            "text/latex": "A matrix: 1 × 2 of type int\n\\begin{tabular}{ll}\n row & col\\\\\n\\hline\n\t 1 & 1\\\\\n\\end{tabular}\n",
            "text/plain": [
              "     row col\n",
              "[1,] 1   1  "
            ]
          },
          "metadata": {}
        },
        {
          "output_type": "display_data",
          "data": {
            "text/html": [
              "<table class=\"dataframe\">\n",
              "<caption>A matrix: 1 × 2 of type int</caption>\n",
              "<thead>\n",
              "\t<tr><th scope=col>row</th><th scope=col>col</th></tr>\n",
              "</thead>\n",
              "<tbody>\n",
              "\t<tr><td>4</td><td>3</td></tr>\n",
              "</tbody>\n",
              "</table>\n"
            ],
            "text/markdown": "\nA matrix: 1 × 2 of type int\n\n| row | col |\n|---|---|\n| 4 | 3 |\n\n",
            "text/latex": "A matrix: 1 × 2 of type int\n\\begin{tabular}{ll}\n row & col\\\\\n\\hline\n\t 4 & 3\\\\\n\\end{tabular}\n",
            "text/plain": [
              "     row col\n",
              "[1,] 4   3  "
            ]
          },
          "metadata": {}
        }
      ]
    },
    {
      "cell_type": "markdown",
      "source": [
        "Zadanie 10: Napisz program, ktory obraca dana macierz o 90 stopni zgodnie z ruchem wskazowek zegara."
      ],
      "metadata": {
        "id": "LE32LBTApHtW"
      }
    },
    {
      "cell_type": "code",
      "source": [
        "m <- matrix(1:12, 4, 3)\n",
        "rotated_matrix <- t(apply(m, 2, rev))\n",
        "\n",
        "m\n",
        "rotated_matrix"
      ],
      "metadata": {
        "id": "gESe0iR3pHwv",
        "colab": {
          "base_uri": "https://localhost:8080/",
          "height": 323
        },
        "outputId": "56fba90a-97a2-40df-fece-79f86c001641"
      },
      "execution_count": 42,
      "outputs": [
        {
          "output_type": "display_data",
          "data": {
            "text/html": [
              "<table class=\"dataframe\">\n",
              "<caption>A matrix: 4 × 3 of type int</caption>\n",
              "<tbody>\n",
              "\t<tr><td>1</td><td>5</td><td> 9</td></tr>\n",
              "\t<tr><td>2</td><td>6</td><td>10</td></tr>\n",
              "\t<tr><td>3</td><td>7</td><td>11</td></tr>\n",
              "\t<tr><td>4</td><td>8</td><td>12</td></tr>\n",
              "</tbody>\n",
              "</table>\n"
            ],
            "text/markdown": "\nA matrix: 4 × 3 of type int\n\n| 1 | 5 |  9 |\n| 2 | 6 | 10 |\n| 3 | 7 | 11 |\n| 4 | 8 | 12 |\n\n",
            "text/latex": "A matrix: 4 × 3 of type int\n\\begin{tabular}{lll}\n\t 1 & 5 &  9\\\\\n\t 2 & 6 & 10\\\\\n\t 3 & 7 & 11\\\\\n\t 4 & 8 & 12\\\\\n\\end{tabular}\n",
            "text/plain": [
              "     [,1] [,2] [,3]\n",
              "[1,] 1    5     9  \n",
              "[2,] 2    6    10  \n",
              "[3,] 3    7    11  \n",
              "[4,] 4    8    12  "
            ]
          },
          "metadata": {}
        },
        {
          "output_type": "display_data",
          "data": {
            "text/html": [
              "<table class=\"dataframe\">\n",
              "<caption>A matrix: 3 × 4 of type int</caption>\n",
              "<tbody>\n",
              "\t<tr><td> 4</td><td> 3</td><td> 2</td><td>1</td></tr>\n",
              "\t<tr><td> 8</td><td> 7</td><td> 6</td><td>5</td></tr>\n",
              "\t<tr><td>12</td><td>11</td><td>10</td><td>9</td></tr>\n",
              "</tbody>\n",
              "</table>\n"
            ],
            "text/markdown": "\nA matrix: 3 × 4 of type int\n\n|  4 |  3 |  2 | 1 |\n|  8 |  7 |  6 | 5 |\n| 12 | 11 | 10 | 9 |\n\n",
            "text/latex": "A matrix: 3 × 4 of type int\n\\begin{tabular}{llll}\n\t  4 &  3 &  2 & 1\\\\\n\t  8 &  7 &  6 & 5\\\\\n\t 12 & 11 & 10 & 9\\\\\n\\end{tabular}\n",
            "text/plain": [
              "     [,1] [,2] [,3] [,4]\n",
              "[1,]  4    3    2   1   \n",
              "[2,]  8    7    6   5   \n",
              "[3,] 12   11   10   9   "
            ]
          },
          "metadata": {}
        }
      ]
    },
    {
      "cell_type": "markdown",
      "source": [
        "Zadanie 11: Napisz program konwertujacy dana macierz na tablice jednowymiarowa."
      ],
      "metadata": {
        "id": "RHAjdUTtpHzt"
      }
    },
    {
      "cell_type": "code",
      "source": [
        "m <- matrix(1:12, 4, 3)\n",
        "arr <- as.vector(m)\n",
        "\n",
        "arr"
      ],
      "metadata": {
        "id": "c9GVuohdpH2l",
        "colab": {
          "base_uri": "https://localhost:8080/",
          "height": 34
        },
        "outputId": "d5a81c51-8a17-4206-eb30-3cbe67b7a873"
      },
      "execution_count": 45,
      "outputs": [
        {
          "output_type": "display_data",
          "data": {
            "text/html": [
              "<style>\n",
              ".list-inline {list-style: none; margin:0; padding: 0}\n",
              ".list-inline>li {display: inline-block}\n",
              ".list-inline>li:not(:last-child)::after {content: \"\\00b7\"; padding: 0 .5ex}\n",
              "</style>\n",
              "<ol class=list-inline><li>1</li><li>2</li><li>3</li><li>4</li><li>5</li><li>6</li><li>7</li><li>8</li><li>9</li><li>10</li><li>11</li><li>12</li></ol>\n"
            ],
            "text/markdown": "1. 1\n2. 2\n3. 3\n4. 4\n5. 5\n6. 6\n7. 7\n8. 8\n9. 9\n10. 10\n11. 11\n12. 12\n\n\n",
            "text/latex": "\\begin{enumerate*}\n\\item 1\n\\item 2\n\\item 3\n\\item 4\n\\item 5\n\\item 6\n\\item 7\n\\item 8\n\\item 9\n\\item 10\n\\item 11\n\\item 12\n\\end{enumerate*}\n",
            "text/plain": [
              " [1]  1  2  3  4  5  6  7  8  9 10 11 12"
            ]
          },
          "metadata": {}
        }
      ]
    },
    {
      "cell_type": "markdown",
      "source": [
        "Zadanie 12: Napisz program tworzacy trojwymiarowa tablice 24 elementow za pomoca funkcji dim()."
      ],
      "metadata": {
        "id": "pVBPfo29pH5l"
      }
    },
    {
      "cell_type": "code",
      "source": [
        "dim_tab <- array(1:24, dim = c(2, 3, 4))\n",
        "\n",
        "# bez printu daje tylko ciąg znaków\n",
        "print(dim_tab)"
      ],
      "metadata": {
        "id": "aPknnQkGpH8t",
        "colab": {
          "base_uri": "https://localhost:8080/"
        },
        "outputId": "bbea7149-fc7d-4e25-bcc8-5e73c6436539"
      },
      "execution_count": 55,
      "outputs": [
        {
          "output_type": "stream",
          "name": "stdout",
          "text": [
            ", , 1\n",
            "\n",
            "     [,1] [,2] [,3]\n",
            "[1,]    1    3    5\n",
            "[2,]    2    4    6\n",
            "\n",
            ", , 2\n",
            "\n",
            "     [,1] [,2] [,3]\n",
            "[1,]    7    9   11\n",
            "[2,]    8   10   12\n",
            "\n",
            ", , 3\n",
            "\n",
            "     [,1] [,2] [,3]\n",
            "[1,]   13   15   17\n",
            "[2,]   14   16   18\n",
            "\n",
            ", , 4\n",
            "\n",
            "     [,1] [,2] [,3]\n",
            "[1,]   19   21   23\n",
            "[2,]   20   22   24\n",
            "\n"
          ]
        }
      ]
    },
    {
      "cell_type": "markdown",
      "source": [
        "Zadanie 13: Napisz program tworzacy dwuwymiarowa tablice 5x3 sekwencji parzystych liczb calkowitych wiekszych niz 50."
      ],
      "metadata": {
        "id": "KrzjEonTpH_u"
      }
    },
    {
      "cell_type": "code",
      "source": [
        "even_num <- seq(52, by = 2, length.out = 15)\n",
        "two_dim <- matrix(even_num, 5, 3)\n",
        "\n",
        "two_dim"
      ],
      "metadata": {
        "id": "PY9tC2qSpsTZ",
        "colab": {
          "base_uri": "https://localhost:8080/",
          "height": 209
        },
        "outputId": "6f754816-41fa-4eae-f50e-fc07c8d87fc0"
      },
      "execution_count": 58,
      "outputs": [
        {
          "output_type": "display_data",
          "data": {
            "text/html": [
              "<table class=\"dataframe\">\n",
              "<caption>A matrix: 5 × 3 of type dbl</caption>\n",
              "<tbody>\n",
              "\t<tr><td>52</td><td>62</td><td>72</td></tr>\n",
              "\t<tr><td>54</td><td>64</td><td>74</td></tr>\n",
              "\t<tr><td>56</td><td>66</td><td>76</td></tr>\n",
              "\t<tr><td>58</td><td>68</td><td>78</td></tr>\n",
              "\t<tr><td>60</td><td>70</td><td>80</td></tr>\n",
              "</tbody>\n",
              "</table>\n"
            ],
            "text/markdown": "\nA matrix: 5 × 3 of type dbl\n\n| 52 | 62 | 72 |\n| 54 | 64 | 74 |\n| 56 | 66 | 76 |\n| 58 | 68 | 78 |\n| 60 | 70 | 80 |\n\n",
            "text/latex": "A matrix: 5 × 3 of type dbl\n\\begin{tabular}{lll}\n\t 52 & 62 & 72\\\\\n\t 54 & 64 & 74\\\\\n\t 56 & 66 & 76\\\\\n\t 58 & 68 & 78\\\\\n\t 60 & 70 & 80\\\\\n\\end{tabular}\n",
            "text/plain": [
              "     [,1] [,2] [,3]\n",
              "[1,] 52   62   72  \n",
              "[2,] 54   64   74  \n",
              "[3,] 56   66   76  \n",
              "[4,] 58   68   78  \n",
              "[5,] 60   70   80  "
            ]
          },
          "metadata": {}
        }
      ]
    },
    {
      "cell_type": "markdown",
      "source": [
        "Zadanie 14:\n",
        "\n",
        "a) Stworz macierz o rozmiarze \"30x12\".\n",
        "\n",
        "b) Poczatkowa wartosc generatora liczb pseudolosowych powinna zostac ustalona na 222.\n",
        "\n",
        "c) Pierwsza kolumna powinna zawierac 30 unikalnych wartosci losowych z wektora \"1:30\".\n",
        "\n",
        "d) Ostatnia kolumna powinna zawierac 30 nieunikalnych wartosci losowych z wektora \"1:3\".\n",
        "\n",
        "e) Pozostale kolumny powinny zawierac wartosci losowe pochodzace z rozkladu rownomiernego \"runif()\"."
      ],
      "metadata": {
        "id": "THDOqjnKptMp"
      }
    },
    {
      "cell_type": "code",
      "source": [
        "set.seed(222)\n",
        "matrix_a <- matrix(nrow = 30, ncol = 12)\n",
        "\n",
        "# Wypełnienie pierwszej kolumny unikalnymi wartościami z wektora 1:30\n",
        "matrix_a[, 1] <- sample(1:30, 30, replace = FALSE)\n",
        "\n",
        "# Wypełnienie ostatniej kolumny nieunikalnymi wartościami z wektora 1:3\n",
        "matrix_a[, 12] <- sample(1:3, 30, replace = TRUE)\n",
        "\n",
        "# Wypełnienie pozostałych kolumn wartościami losowymi z rozkładu rownomiernego\n",
        "for (i in 2:(ncol(matrix_a)-1)) {\n",
        "  matrix_a[, i] <- runif(30)\n",
        "}\n",
        "\n",
        "matrix_a"
      ],
      "metadata": {
        "id": "BMVDcNRBpyjp",
        "colab": {
          "base_uri": "https://localhost:8080/",
          "height": 975
        },
        "outputId": "48b2bfff-f1ea-4fd3-d330-346916066676"
      },
      "execution_count": 62,
      "outputs": [
        {
          "output_type": "display_data",
          "data": {
            "text/html": [
              "<table class=\"dataframe\">\n",
              "<caption>A matrix: 30 × 12 of type dbl</caption>\n",
              "<tbody>\n",
              "\t<tr><td>29</td><td>0.007386262</td><td>0.5200866</td><td>0.466012557</td><td>0.11764201</td><td>0.01204664</td><td>0.34430962</td><td>0.19938141</td><td>0.05642366</td><td>0.169486679</td><td>0.66863372</td><td>1</td></tr>\n",
              "\t<tr><td>15</td><td>0.827934417</td><td>0.4197993</td><td>0.002764619</td><td>0.07253714</td><td>0.52098024</td><td>0.39318973</td><td>0.35553358</td><td>0.65075027</td><td>0.614641651</td><td>0.19584498</td><td>2</td></tr>\n",
              "\t<tr><td>18</td><td>0.508350033</td><td>0.7894482</td><td>0.066187902</td><td>0.84222002</td><td>0.82595176</td><td>0.07396162</td><td>0.82311571</td><td>0.95426854</td><td>0.178001672</td><td>0.71325784</td><td>2</td></tr>\n",
              "\t<tr><td>23</td><td>0.580192872</td><td>0.8552275</td><td>0.522523874</td><td>0.44996045</td><td>0.41329303</td><td>0.65990270</td><td>0.01147872</td><td>0.95220542</td><td>0.810782351</td><td>0.40871553</td><td>3</td></tr>\n",
              "\t<tr><td>24</td><td>0.761216660</td><td>0.6014042</td><td>0.274776342</td><td>0.41647060</td><td>0.84044814</td><td>0.72999920</td><td>0.42245355</td><td>0.28136551</td><td>0.790953138</td><td>0.14646424</td><td>2</td></tr>\n",
              "\t<tr><td>22</td><td>0.689735584</td><td>0.6486873</td><td>0.475531986</td><td>0.70685066</td><td>0.63421046</td><td>0.13358783</td><td>0.45514697</td><td>0.95188715</td><td>0.350933912</td><td>0.30704497</td><td>1</td></tr>\n",
              "\t<tr><td>20</td><td>0.569643423</td><td>0.8951410</td><td>0.516183041</td><td>0.59637592</td><td>0.39861887</td><td>0.75755543</td><td>0.60282333</td><td>0.38923318</td><td>0.720670067</td><td>0.17967689</td><td>3</td></tr>\n",
              "\t<tr><td> 9</td><td>0.284557480</td><td>0.8924557</td><td>0.118609249</td><td>0.76449309</td><td>0.70857120</td><td>0.26442632</td><td>0.73008884</td><td>0.79121032</td><td>0.703591940</td><td>0.32819625</td><td>1</td></tr>\n",
              "\t<tr><td>10</td><td>0.845238734</td><td>0.1724698</td><td>0.955461593</td><td>0.67221471</td><td>0.14811799</td><td>0.93623392</td><td>0.13798617</td><td>0.84702703</td><td>0.601097035</td><td>0.86780449</td><td>3</td></tr>\n",
              "\t<tr><td>27</td><td>0.868492735</td><td>0.6242937</td><td>0.005716680</td><td>0.05806926</td><td>0.60143831</td><td>0.63660994</td><td>0.53082166</td><td>0.03723371</td><td>0.276599883</td><td>0.53656755</td><td>3</td></tr>\n",
              "\t<tr><td>28</td><td>0.862767064</td><td>0.6835176</td><td>0.963441837</td><td>0.66468886</td><td>0.49874447</td><td>0.22656102</td><td>0.24516891</td><td>0.40745784</td><td>0.226195880</td><td>0.04500740</td><td>1</td></tr>\n",
              "\t<tr><td> 1</td><td>0.986415393</td><td>0.1483866</td><td>0.792056287</td><td>0.86373868</td><td>0.65047215</td><td>0.32177458</td><td>0.71612803</td><td>0.74459224</td><td>0.822514484</td><td>0.18298461</td><td>2</td></tr>\n",
              "\t<tr><td>14</td><td>0.455446823</td><td>0.5734342</td><td>0.572336961</td><td>0.37812071</td><td>0.05625480</td><td>0.07166112</td><td>0.53609815</td><td>0.76235437</td><td>0.124217526</td><td>0.16713496</td><td>3</td></tr>\n",
              "\t<tr><td> 7</td><td>0.624447462</td><td>0.1254356</td><td>0.603489239</td><td>0.36976969</td><td>0.33432253</td><td>0.99683724</td><td>0.54646098</td><td>0.19895982</td><td>0.998309704</td><td>0.69003935</td><td>2</td></tr>\n",
              "\t<tr><td>21</td><td>0.860962112</td><td>0.3921239</td><td>0.575777713</td><td>0.27246998</td><td>0.60457539</td><td>0.52430580</td><td>0.36934522</td><td>0.59556458</td><td>0.384662044</td><td>0.59666063</td><td>2</td></tr>\n",
              "\t<tr><td>12</td><td>0.174817597</td><td>0.8908656</td><td>0.475080052</td><td>0.73118252</td><td>0.78839182</td><td>0.50980380</td><td>0.16932084</td><td>0.30607939</td><td>0.119606072</td><td>0.84408420</td><td>3</td></tr>\n",
              "\t<tr><td>13</td><td>0.350584868</td><td>0.5710436</td><td>0.153008437</td><td>0.02354180</td><td>0.59142367</td><td>0.15756866</td><td>0.53797077</td><td>0.43728909</td><td>0.004445296</td><td>0.65294481</td><td>3</td></tr>\n",
              "\t<tr><td>25</td><td>0.792080680</td><td>0.7850070</td><td>0.749123883</td><td>0.69455333</td><td>0.35697656</td><td>0.62473777</td><td>0.02871101</td><td>0.02851020</td><td>0.132673358</td><td>0.87778469</td><td>2</td></tr>\n",
              "\t<tr><td> 5</td><td>0.402059959</td><td>0.3991554</td><td>0.862364277</td><td>0.72468212</td><td>0.06981060</td><td>0.70623899</td><td>0.43468814</td><td>0.77804949</td><td>0.248589275</td><td>0.10393390</td><td>2</td></tr>\n",
              "\t<tr><td>16</td><td>0.353694417</td><td>0.7730247</td><td>0.510840248</td><td>0.95415550</td><td>0.99962093</td><td>0.47320799</td><td>0.06814882</td><td>0.91987497</td><td>0.235018448</td><td>0.08889945</td><td>3</td></tr>\n",
              "\t<tr><td>19</td><td>0.774520554</td><td>0.6213252</td><td>0.396335447</td><td>0.21563253</td><td>0.36487561</td><td>0.74992428</td><td>0.66568606</td><td>0.94932258</td><td>0.671616249</td><td>0.93887313</td><td>2</td></tr>\n",
              "\t<tr><td>30</td><td>0.630470521</td><td>0.5229172</td><td>0.703883436</td><td>0.64785919</td><td>0.35988858</td><td>0.23636324</td><td>0.71200675</td><td>0.65934871</td><td>0.438218101</td><td>0.87203173</td><td>2</td></tr>\n",
              "\t<tr><td> 6</td><td>0.427033795</td><td>0.8850669</td><td>0.503464754</td><td>0.79474517</td><td>0.70150033</td><td>0.58008925</td><td>0.38895289</td><td>0.31856816</td><td>0.503319245</td><td>0.87952665</td><td>2</td></tr>\n",
              "\t<tr><td>26</td><td>0.723882672</td><td>0.8003719</td><td>0.754760859</td><td>0.59307847</td><td>0.46600366</td><td>0.36345565</td><td>0.91159086</td><td>0.37388845</td><td>0.824515120</td><td>0.78933620</td><td>1</td></tr>\n",
              "\t<tr><td> 3</td><td>0.086897224</td><td>0.7869521</td><td>0.850064185</td><td>0.87023766</td><td>0.74659112</td><td>0.94710433</td><td>0.03291829</td><td>0.52993601</td><td>0.456119393</td><td>0.44642673</td><td>2</td></tr>\n",
              "\t<tr><td>17</td><td>0.698770502</td><td>0.5792046</td><td>0.115238809</td><td>0.66457737</td><td>0.26060012</td><td>0.59694372</td><td>0.78368939</td><td>0.01424721</td><td>0.116968193</td><td>0.70729039</td><td>3</td></tr>\n",
              "\t<tr><td> 4</td><td>0.526063273</td><td>0.7144496</td><td>0.774336503</td><td>0.33977732</td><td>0.22012720</td><td>0.03455435</td><td>0.11852882</td><td>0.23969809</td><td>0.447843172</td><td>0.56183340</td><td>2</td></tr>\n",
              "\t<tr><td>11</td><td>0.170537435</td><td>0.9266339</td><td>0.107644005</td><td>0.11802133</td><td>0.16966878</td><td>0.72653283</td><td>0.64443831</td><td>0.60839908</td><td>0.090453519</td><td>0.46003514</td><td>1</td></tr>\n",
              "\t<tr><td> 2</td><td>0.083912129</td><td>0.1813995</td><td>0.003391463</td><td>0.04456505</td><td>0.51491163</td><td>0.36062352</td><td>0.78790988</td><td>0.90425642</td><td>0.199962694</td><td>0.41983450</td><td>1</td></tr>\n",
              "\t<tr><td> 8</td><td>0.109782589</td><td>0.3227007</td><td>0.584409045</td><td>0.25991415</td><td>0.15917449</td><td>0.35298221</td><td>0.82451477</td><td>0.71663117</td><td>0.592423744</td><td>0.72298653</td><td>3</td></tr>\n",
              "</tbody>\n",
              "</table>\n"
            ],
            "text/markdown": "\nA matrix: 30 × 12 of type dbl\n\n| 29 | 0.007386262 | 0.5200866 | 0.466012557 | 0.11764201 | 0.01204664 | 0.34430962 | 0.19938141 | 0.05642366 | 0.169486679 | 0.66863372 | 1 |\n| 15 | 0.827934417 | 0.4197993 | 0.002764619 | 0.07253714 | 0.52098024 | 0.39318973 | 0.35553358 | 0.65075027 | 0.614641651 | 0.19584498 | 2 |\n| 18 | 0.508350033 | 0.7894482 | 0.066187902 | 0.84222002 | 0.82595176 | 0.07396162 | 0.82311571 | 0.95426854 | 0.178001672 | 0.71325784 | 2 |\n| 23 | 0.580192872 | 0.8552275 | 0.522523874 | 0.44996045 | 0.41329303 | 0.65990270 | 0.01147872 | 0.95220542 | 0.810782351 | 0.40871553 | 3 |\n| 24 | 0.761216660 | 0.6014042 | 0.274776342 | 0.41647060 | 0.84044814 | 0.72999920 | 0.42245355 | 0.28136551 | 0.790953138 | 0.14646424 | 2 |\n| 22 | 0.689735584 | 0.6486873 | 0.475531986 | 0.70685066 | 0.63421046 | 0.13358783 | 0.45514697 | 0.95188715 | 0.350933912 | 0.30704497 | 1 |\n| 20 | 0.569643423 | 0.8951410 | 0.516183041 | 0.59637592 | 0.39861887 | 0.75755543 | 0.60282333 | 0.38923318 | 0.720670067 | 0.17967689 | 3 |\n|  9 | 0.284557480 | 0.8924557 | 0.118609249 | 0.76449309 | 0.70857120 | 0.26442632 | 0.73008884 | 0.79121032 | 0.703591940 | 0.32819625 | 1 |\n| 10 | 0.845238734 | 0.1724698 | 0.955461593 | 0.67221471 | 0.14811799 | 0.93623392 | 0.13798617 | 0.84702703 | 0.601097035 | 0.86780449 | 3 |\n| 27 | 0.868492735 | 0.6242937 | 0.005716680 | 0.05806926 | 0.60143831 | 0.63660994 | 0.53082166 | 0.03723371 | 0.276599883 | 0.53656755 | 3 |\n| 28 | 0.862767064 | 0.6835176 | 0.963441837 | 0.66468886 | 0.49874447 | 0.22656102 | 0.24516891 | 0.40745784 | 0.226195880 | 0.04500740 | 1 |\n|  1 | 0.986415393 | 0.1483866 | 0.792056287 | 0.86373868 | 0.65047215 | 0.32177458 | 0.71612803 | 0.74459224 | 0.822514484 | 0.18298461 | 2 |\n| 14 | 0.455446823 | 0.5734342 | 0.572336961 | 0.37812071 | 0.05625480 | 0.07166112 | 0.53609815 | 0.76235437 | 0.124217526 | 0.16713496 | 3 |\n|  7 | 0.624447462 | 0.1254356 | 0.603489239 | 0.36976969 | 0.33432253 | 0.99683724 | 0.54646098 | 0.19895982 | 0.998309704 | 0.69003935 | 2 |\n| 21 | 0.860962112 | 0.3921239 | 0.575777713 | 0.27246998 | 0.60457539 | 0.52430580 | 0.36934522 | 0.59556458 | 0.384662044 | 0.59666063 | 2 |\n| 12 | 0.174817597 | 0.8908656 | 0.475080052 | 0.73118252 | 0.78839182 | 0.50980380 | 0.16932084 | 0.30607939 | 0.119606072 | 0.84408420 | 3 |\n| 13 | 0.350584868 | 0.5710436 | 0.153008437 | 0.02354180 | 0.59142367 | 0.15756866 | 0.53797077 | 0.43728909 | 0.004445296 | 0.65294481 | 3 |\n| 25 | 0.792080680 | 0.7850070 | 0.749123883 | 0.69455333 | 0.35697656 | 0.62473777 | 0.02871101 | 0.02851020 | 0.132673358 | 0.87778469 | 2 |\n|  5 | 0.402059959 | 0.3991554 | 0.862364277 | 0.72468212 | 0.06981060 | 0.70623899 | 0.43468814 | 0.77804949 | 0.248589275 | 0.10393390 | 2 |\n| 16 | 0.353694417 | 0.7730247 | 0.510840248 | 0.95415550 | 0.99962093 | 0.47320799 | 0.06814882 | 0.91987497 | 0.235018448 | 0.08889945 | 3 |\n| 19 | 0.774520554 | 0.6213252 | 0.396335447 | 0.21563253 | 0.36487561 | 0.74992428 | 0.66568606 | 0.94932258 | 0.671616249 | 0.93887313 | 2 |\n| 30 | 0.630470521 | 0.5229172 | 0.703883436 | 0.64785919 | 0.35988858 | 0.23636324 | 0.71200675 | 0.65934871 | 0.438218101 | 0.87203173 | 2 |\n|  6 | 0.427033795 | 0.8850669 | 0.503464754 | 0.79474517 | 0.70150033 | 0.58008925 | 0.38895289 | 0.31856816 | 0.503319245 | 0.87952665 | 2 |\n| 26 | 0.723882672 | 0.8003719 | 0.754760859 | 0.59307847 | 0.46600366 | 0.36345565 | 0.91159086 | 0.37388845 | 0.824515120 | 0.78933620 | 1 |\n|  3 | 0.086897224 | 0.7869521 | 0.850064185 | 0.87023766 | 0.74659112 | 0.94710433 | 0.03291829 | 0.52993601 | 0.456119393 | 0.44642673 | 2 |\n| 17 | 0.698770502 | 0.5792046 | 0.115238809 | 0.66457737 | 0.26060012 | 0.59694372 | 0.78368939 | 0.01424721 | 0.116968193 | 0.70729039 | 3 |\n|  4 | 0.526063273 | 0.7144496 | 0.774336503 | 0.33977732 | 0.22012720 | 0.03455435 | 0.11852882 | 0.23969809 | 0.447843172 | 0.56183340 | 2 |\n| 11 | 0.170537435 | 0.9266339 | 0.107644005 | 0.11802133 | 0.16966878 | 0.72653283 | 0.64443831 | 0.60839908 | 0.090453519 | 0.46003514 | 1 |\n|  2 | 0.083912129 | 0.1813995 | 0.003391463 | 0.04456505 | 0.51491163 | 0.36062352 | 0.78790988 | 0.90425642 | 0.199962694 | 0.41983450 | 1 |\n|  8 | 0.109782589 | 0.3227007 | 0.584409045 | 0.25991415 | 0.15917449 | 0.35298221 | 0.82451477 | 0.71663117 | 0.592423744 | 0.72298653 | 3 |\n\n",
            "text/latex": "A matrix: 30 × 12 of type dbl\n\\begin{tabular}{llllllllllll}\n\t 29 & 0.007386262 & 0.5200866 & 0.466012557 & 0.11764201 & 0.01204664 & 0.34430962 & 0.19938141 & 0.05642366 & 0.169486679 & 0.66863372 & 1\\\\\n\t 15 & 0.827934417 & 0.4197993 & 0.002764619 & 0.07253714 & 0.52098024 & 0.39318973 & 0.35553358 & 0.65075027 & 0.614641651 & 0.19584498 & 2\\\\\n\t 18 & 0.508350033 & 0.7894482 & 0.066187902 & 0.84222002 & 0.82595176 & 0.07396162 & 0.82311571 & 0.95426854 & 0.178001672 & 0.71325784 & 2\\\\\n\t 23 & 0.580192872 & 0.8552275 & 0.522523874 & 0.44996045 & 0.41329303 & 0.65990270 & 0.01147872 & 0.95220542 & 0.810782351 & 0.40871553 & 3\\\\\n\t 24 & 0.761216660 & 0.6014042 & 0.274776342 & 0.41647060 & 0.84044814 & 0.72999920 & 0.42245355 & 0.28136551 & 0.790953138 & 0.14646424 & 2\\\\\n\t 22 & 0.689735584 & 0.6486873 & 0.475531986 & 0.70685066 & 0.63421046 & 0.13358783 & 0.45514697 & 0.95188715 & 0.350933912 & 0.30704497 & 1\\\\\n\t 20 & 0.569643423 & 0.8951410 & 0.516183041 & 0.59637592 & 0.39861887 & 0.75755543 & 0.60282333 & 0.38923318 & 0.720670067 & 0.17967689 & 3\\\\\n\t  9 & 0.284557480 & 0.8924557 & 0.118609249 & 0.76449309 & 0.70857120 & 0.26442632 & 0.73008884 & 0.79121032 & 0.703591940 & 0.32819625 & 1\\\\\n\t 10 & 0.845238734 & 0.1724698 & 0.955461593 & 0.67221471 & 0.14811799 & 0.93623392 & 0.13798617 & 0.84702703 & 0.601097035 & 0.86780449 & 3\\\\\n\t 27 & 0.868492735 & 0.6242937 & 0.005716680 & 0.05806926 & 0.60143831 & 0.63660994 & 0.53082166 & 0.03723371 & 0.276599883 & 0.53656755 & 3\\\\\n\t 28 & 0.862767064 & 0.6835176 & 0.963441837 & 0.66468886 & 0.49874447 & 0.22656102 & 0.24516891 & 0.40745784 & 0.226195880 & 0.04500740 & 1\\\\\n\t  1 & 0.986415393 & 0.1483866 & 0.792056287 & 0.86373868 & 0.65047215 & 0.32177458 & 0.71612803 & 0.74459224 & 0.822514484 & 0.18298461 & 2\\\\\n\t 14 & 0.455446823 & 0.5734342 & 0.572336961 & 0.37812071 & 0.05625480 & 0.07166112 & 0.53609815 & 0.76235437 & 0.124217526 & 0.16713496 & 3\\\\\n\t  7 & 0.624447462 & 0.1254356 & 0.603489239 & 0.36976969 & 0.33432253 & 0.99683724 & 0.54646098 & 0.19895982 & 0.998309704 & 0.69003935 & 2\\\\\n\t 21 & 0.860962112 & 0.3921239 & 0.575777713 & 0.27246998 & 0.60457539 & 0.52430580 & 0.36934522 & 0.59556458 & 0.384662044 & 0.59666063 & 2\\\\\n\t 12 & 0.174817597 & 0.8908656 & 0.475080052 & 0.73118252 & 0.78839182 & 0.50980380 & 0.16932084 & 0.30607939 & 0.119606072 & 0.84408420 & 3\\\\\n\t 13 & 0.350584868 & 0.5710436 & 0.153008437 & 0.02354180 & 0.59142367 & 0.15756866 & 0.53797077 & 0.43728909 & 0.004445296 & 0.65294481 & 3\\\\\n\t 25 & 0.792080680 & 0.7850070 & 0.749123883 & 0.69455333 & 0.35697656 & 0.62473777 & 0.02871101 & 0.02851020 & 0.132673358 & 0.87778469 & 2\\\\\n\t  5 & 0.402059959 & 0.3991554 & 0.862364277 & 0.72468212 & 0.06981060 & 0.70623899 & 0.43468814 & 0.77804949 & 0.248589275 & 0.10393390 & 2\\\\\n\t 16 & 0.353694417 & 0.7730247 & 0.510840248 & 0.95415550 & 0.99962093 & 0.47320799 & 0.06814882 & 0.91987497 & 0.235018448 & 0.08889945 & 3\\\\\n\t 19 & 0.774520554 & 0.6213252 & 0.396335447 & 0.21563253 & 0.36487561 & 0.74992428 & 0.66568606 & 0.94932258 & 0.671616249 & 0.93887313 & 2\\\\\n\t 30 & 0.630470521 & 0.5229172 & 0.703883436 & 0.64785919 & 0.35988858 & 0.23636324 & 0.71200675 & 0.65934871 & 0.438218101 & 0.87203173 & 2\\\\\n\t  6 & 0.427033795 & 0.8850669 & 0.503464754 & 0.79474517 & 0.70150033 & 0.58008925 & 0.38895289 & 0.31856816 & 0.503319245 & 0.87952665 & 2\\\\\n\t 26 & 0.723882672 & 0.8003719 & 0.754760859 & 0.59307847 & 0.46600366 & 0.36345565 & 0.91159086 & 0.37388845 & 0.824515120 & 0.78933620 & 1\\\\\n\t  3 & 0.086897224 & 0.7869521 & 0.850064185 & 0.87023766 & 0.74659112 & 0.94710433 & 0.03291829 & 0.52993601 & 0.456119393 & 0.44642673 & 2\\\\\n\t 17 & 0.698770502 & 0.5792046 & 0.115238809 & 0.66457737 & 0.26060012 & 0.59694372 & 0.78368939 & 0.01424721 & 0.116968193 & 0.70729039 & 3\\\\\n\t  4 & 0.526063273 & 0.7144496 & 0.774336503 & 0.33977732 & 0.22012720 & 0.03455435 & 0.11852882 & 0.23969809 & 0.447843172 & 0.56183340 & 2\\\\\n\t 11 & 0.170537435 & 0.9266339 & 0.107644005 & 0.11802133 & 0.16966878 & 0.72653283 & 0.64443831 & 0.60839908 & 0.090453519 & 0.46003514 & 1\\\\\n\t  2 & 0.083912129 & 0.1813995 & 0.003391463 & 0.04456505 & 0.51491163 & 0.36062352 & 0.78790988 & 0.90425642 & 0.199962694 & 0.41983450 & 1\\\\\n\t  8 & 0.109782589 & 0.3227007 & 0.584409045 & 0.25991415 & 0.15917449 & 0.35298221 & 0.82451477 & 0.71663117 & 0.592423744 & 0.72298653 & 3\\\\\n\\end{tabular}\n",
            "text/plain": [
              "      [,1] [,2]        [,3]      [,4]        [,5]       [,6]       [,7]      \n",
              " [1,] 29   0.007386262 0.5200866 0.466012557 0.11764201 0.01204664 0.34430962\n",
              " [2,] 15   0.827934417 0.4197993 0.002764619 0.07253714 0.52098024 0.39318973\n",
              " [3,] 18   0.508350033 0.7894482 0.066187902 0.84222002 0.82595176 0.07396162\n",
              " [4,] 23   0.580192872 0.8552275 0.522523874 0.44996045 0.41329303 0.65990270\n",
              " [5,] 24   0.761216660 0.6014042 0.274776342 0.41647060 0.84044814 0.72999920\n",
              " [6,] 22   0.689735584 0.6486873 0.475531986 0.70685066 0.63421046 0.13358783\n",
              " [7,] 20   0.569643423 0.8951410 0.516183041 0.59637592 0.39861887 0.75755543\n",
              " [8,]  9   0.284557480 0.8924557 0.118609249 0.76449309 0.70857120 0.26442632\n",
              " [9,] 10   0.845238734 0.1724698 0.955461593 0.67221471 0.14811799 0.93623392\n",
              "[10,] 27   0.868492735 0.6242937 0.005716680 0.05806926 0.60143831 0.63660994\n",
              "[11,] 28   0.862767064 0.6835176 0.963441837 0.66468886 0.49874447 0.22656102\n",
              "[12,]  1   0.986415393 0.1483866 0.792056287 0.86373868 0.65047215 0.32177458\n",
              "[13,] 14   0.455446823 0.5734342 0.572336961 0.37812071 0.05625480 0.07166112\n",
              "[14,]  7   0.624447462 0.1254356 0.603489239 0.36976969 0.33432253 0.99683724\n",
              "[15,] 21   0.860962112 0.3921239 0.575777713 0.27246998 0.60457539 0.52430580\n",
              "[16,] 12   0.174817597 0.8908656 0.475080052 0.73118252 0.78839182 0.50980380\n",
              "[17,] 13   0.350584868 0.5710436 0.153008437 0.02354180 0.59142367 0.15756866\n",
              "[18,] 25   0.792080680 0.7850070 0.749123883 0.69455333 0.35697656 0.62473777\n",
              "[19,]  5   0.402059959 0.3991554 0.862364277 0.72468212 0.06981060 0.70623899\n",
              "[20,] 16   0.353694417 0.7730247 0.510840248 0.95415550 0.99962093 0.47320799\n",
              "[21,] 19   0.774520554 0.6213252 0.396335447 0.21563253 0.36487561 0.74992428\n",
              "[22,] 30   0.630470521 0.5229172 0.703883436 0.64785919 0.35988858 0.23636324\n",
              "[23,]  6   0.427033795 0.8850669 0.503464754 0.79474517 0.70150033 0.58008925\n",
              "[24,] 26   0.723882672 0.8003719 0.754760859 0.59307847 0.46600366 0.36345565\n",
              "[25,]  3   0.086897224 0.7869521 0.850064185 0.87023766 0.74659112 0.94710433\n",
              "[26,] 17   0.698770502 0.5792046 0.115238809 0.66457737 0.26060012 0.59694372\n",
              "[27,]  4   0.526063273 0.7144496 0.774336503 0.33977732 0.22012720 0.03455435\n",
              "[28,] 11   0.170537435 0.9266339 0.107644005 0.11802133 0.16966878 0.72653283\n",
              "[29,]  2   0.083912129 0.1813995 0.003391463 0.04456505 0.51491163 0.36062352\n",
              "[30,]  8   0.109782589 0.3227007 0.584409045 0.25991415 0.15917449 0.35298221\n",
              "      [,8]       [,9]       [,10]       [,11]      [,12]\n",
              " [1,] 0.19938141 0.05642366 0.169486679 0.66863372 1    \n",
              " [2,] 0.35553358 0.65075027 0.614641651 0.19584498 2    \n",
              " [3,] 0.82311571 0.95426854 0.178001672 0.71325784 2    \n",
              " [4,] 0.01147872 0.95220542 0.810782351 0.40871553 3    \n",
              " [5,] 0.42245355 0.28136551 0.790953138 0.14646424 2    \n",
              " [6,] 0.45514697 0.95188715 0.350933912 0.30704497 1    \n",
              " [7,] 0.60282333 0.38923318 0.720670067 0.17967689 3    \n",
              " [8,] 0.73008884 0.79121032 0.703591940 0.32819625 1    \n",
              " [9,] 0.13798617 0.84702703 0.601097035 0.86780449 3    \n",
              "[10,] 0.53082166 0.03723371 0.276599883 0.53656755 3    \n",
              "[11,] 0.24516891 0.40745784 0.226195880 0.04500740 1    \n",
              "[12,] 0.71612803 0.74459224 0.822514484 0.18298461 2    \n",
              "[13,] 0.53609815 0.76235437 0.124217526 0.16713496 3    \n",
              "[14,] 0.54646098 0.19895982 0.998309704 0.69003935 2    \n",
              "[15,] 0.36934522 0.59556458 0.384662044 0.59666063 2    \n",
              "[16,] 0.16932084 0.30607939 0.119606072 0.84408420 3    \n",
              "[17,] 0.53797077 0.43728909 0.004445296 0.65294481 3    \n",
              "[18,] 0.02871101 0.02851020 0.132673358 0.87778469 2    \n",
              "[19,] 0.43468814 0.77804949 0.248589275 0.10393390 2    \n",
              "[20,] 0.06814882 0.91987497 0.235018448 0.08889945 3    \n",
              "[21,] 0.66568606 0.94932258 0.671616249 0.93887313 2    \n",
              "[22,] 0.71200675 0.65934871 0.438218101 0.87203173 2    \n",
              "[23,] 0.38895289 0.31856816 0.503319245 0.87952665 2    \n",
              "[24,] 0.91159086 0.37388845 0.824515120 0.78933620 1    \n",
              "[25,] 0.03291829 0.52993601 0.456119393 0.44642673 2    \n",
              "[26,] 0.78368939 0.01424721 0.116968193 0.70729039 3    \n",
              "[27,] 0.11852882 0.23969809 0.447843172 0.56183340 2    \n",
              "[28,] 0.64443831 0.60839908 0.090453519 0.46003514 1    \n",
              "[29,] 0.78790988 0.90425642 0.199962694 0.41983450 1    \n",
              "[30,] 0.82451477 0.71663117 0.592423744 0.72298653 3    "
            ]
          },
          "metadata": {}
        }
      ]
    }
  ]
}