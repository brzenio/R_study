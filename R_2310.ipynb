{
  "nbformat": 4,
  "nbformat_minor": 0,
  "metadata": {
    "colab": {
      "provenance": [],
      "authorship_tag": "ABX9TyPYeUqt6g6SV0zfnvQHP3J/",
      "include_colab_link": true
    },
    "kernelspec": {
      "name": "ir",
      "display_name": "R"
    },
    "language_info": {
      "name": "R"
    }
  },
  "cells": [
    {
      "cell_type": "markdown",
      "metadata": {
        "id": "view-in-github",
        "colab_type": "text"
      },
      "source": [
        "<a href=\"https://colab.research.google.com/github/brzenio/R_study/blob/main/R_2310.ipynb\" target=\"_parent\"><img src=\"https://colab.research.google.com/assets/colab-badge.svg\" alt=\"Open In Colab\"/></a>"
      ]
    },
    {
      "cell_type": "markdown",
      "source": [
        "##### Zadanie 1: W konsoli oraz w skrypcie R policz 2 + 2."
      ],
      "metadata": {
        "id": "yyHrrUfqF-Gp"
      }
    },
    {
      "cell_type": "code",
      "source": [
        "2+2"
      ],
      "metadata": {
        "id": "PLuTGIz4F2Ku",
        "colab": {
          "base_uri": "https://localhost:8080/",
          "height": 34
        },
        "outputId": "b65b2bbb-c2cc-457c-e46d-1831ecb05e95"
      },
      "execution_count": null,
      "outputs": [
        {
          "output_type": "display_data",
          "data": {
            "text/html": [
              "4"
            ],
            "text/markdown": "4",
            "text/latex": "4",
            "text/plain": [
              "[1] 4"
            ]
          },
          "metadata": {}
        }
      ]
    },
    {
      "cell_type": "markdown",
      "source": [
        "###### Zadanie 2: Wyswietl pomoc dla funkcji wbudowanej \"print\".\n"
      ],
      "metadata": {
        "id": "wmNvJhZ5J4zF"
      }
    },
    {
      "cell_type": "code",
      "source": [
        "help(print)"
      ],
      "metadata": {
        "id": "EkfV3hv4L_QR"
      },
      "execution_count": null,
      "outputs": []
    },
    {
      "cell_type": "markdown",
      "source": [
        "###### Zadanie 3: Utwórz nowy plik programu \"prog_xx.R\" (xx – Twoje inicjaly) i zapisz na Pulpicie, napisz polecenie wyswietlające napis 'Hello World'.\n"
      ],
      "metadata": {
        "id": "d0dZ8X0UKDN-"
      }
    },
    {
      "cell_type": "code",
      "source": [
        "print(\"Hello World\")"
      ],
      "metadata": {
        "colab": {
          "base_uri": "https://localhost:8080/"
        },
        "id": "EvRtLpzyMDQ4",
        "outputId": "b5a4f590-4614-43e4-ebe9-47aa9f07a289"
      },
      "execution_count": null,
      "outputs": [
        {
          "output_type": "stream",
          "name": "stdout",
          "text": [
            "[1] \"Hello World\"\n"
          ]
        }
      ]
    },
    {
      "cell_type": "markdown",
      "source": [
        "###### Zadanie 4: Dodaj do siebie liczby 10 i 10. Następnie wynik podziel przez 2. Od otrzymanego wyniku odejmij 5. Następnie pomnóż wynik przez 3. Użyj nawiasów lub klamer. W wyniku ostatecznym powinna wyjsc liczba 15."
      ],
      "metadata": {
        "id": "iRIkTyT7KHQQ"
      }
    },
    {
      "cell_type": "code",
      "source": [
        "a <- 10\n",
        "b <- 10\n",
        "c <- a+b\n",
        "print(c)\n",
        "print((c/2-5)*3) # poprawić, żeby nie pisac dwóch printów"
      ],
      "metadata": {
        "colab": {
          "base_uri": "https://localhost:8080/"
        },
        "id": "iaNvF9DmNAqW",
        "outputId": "ebc8a4a5-0a54-4dbf-d1f0-ab6da21a93a3"
      },
      "execution_count": null,
      "outputs": [
        {
          "output_type": "stream",
          "name": "stdout",
          "text": [
            "[1] 20\n",
            "[1] 15\n"
          ]
        }
      ]
    },
    {
      "cell_type": "markdown",
      "source": [
        "######Zadanie 5: Napisz na ekranie nastepujace zdanie „Poczatek jest najwazniejsza czescia pracy” – Platon. Cytat powinien byc ujety w cudzyslow."
      ],
      "metadata": {
        "id": "D6xOeCmCKOlN"
      }
    },
    {
      "cell_type": "code",
      "source": [
        "print(\" \\\"Poczatek jest najwazniejsza czescia pracy\\\" – Platon\", quote = FALSE)\n",
        "cat(' \"Poczatek jest najwazniejsza czescia pracy\" – Platon ')"
      ],
      "metadata": {
        "colab": {
          "base_uri": "https://localhost:8080/"
        },
        "id": "Suo2JLuWTToY",
        "outputId": "15cefdca-2bf2-4dc9-9c7f-c497ca563bc2"
      },
      "execution_count": null,
      "outputs": [
        {
          "output_type": "stream",
          "name": "stdout",
          "text": [
            "[1]  \"Poczatek jest najwazniejsza czescia pracy\" – Platon\n",
            " \"Poczatek jest najwazniejsza czescia pracy\" – Platon "
          ]
        }
      ]
    },
    {
      "cell_type": "markdown",
      "source": [
        "######Zadanie 6: Napisz na ekranie w oddzielnych linijkach napis:\n",
        "#####       Nauka programowania\n",
        "#####            wymaga\n",
        "#####            wytrwałej pracy"
      ],
      "metadata": {
        "id": "k2O2irAhKZeh"
      }
    },
    {
      "cell_type": "code",
      "source": [
        "cat(\"Nauka programowanie \\n wymaga \\n wytrwałej pracy\")"
      ],
      "metadata": {
        "colab": {
          "base_uri": "https://localhost:8080/"
        },
        "id": "xZDEBE8nUs5V",
        "outputId": "9cec45d8-daa5-4b38-d372-a3de62706871"
      },
      "execution_count": null,
      "outputs": [
        {
          "output_type": "stream",
          "name": "stdout",
          "text": [
            "Nauka programowanie \n",
            " wymaga \n",
            " wytrwałej pracy"
          ]
        }
      ]
    },
    {
      "cell_type": "markdown",
      "source": [
        "##### Zadanie 7: Napisz program tworzący wektor o określonym typie i dlugosci. Utwórz wektor typow numerycznych, zlozonych, logicznych i znakowych o dlugosci 10."
      ],
      "metadata": {
        "id": "z3CWx6ebKxHz"
      }
    },
    {
      "cell_type": "code",
      "source": [
        "#Alokacja w zadania2.R"
      ],
      "metadata": {
        "id": "cDvShpB9VZl-"
      },
      "execution_count": null,
      "outputs": []
    },
    {
      "cell_type": "markdown",
      "source": [
        "##### Zadanie 8: Napisz program, który doda wartosc do danego pustego wektora.\n"
      ],
      "metadata": {
        "id": "IpzJlnwuLV4L"
      }
    },
    {
      "cell_type": "code",
      "source": [
        "x <- NULL\n",
        "x <- c(x, 2)\n",
        "x"
      ],
      "metadata": {
        "colab": {
          "base_uri": "https://localhost:8080/",
          "height": 34
        },
        "id": "LnFfh4XNXTeL",
        "outputId": "69f3e412-eef4-4e33-ffad-6e720c0d574f"
      },
      "execution_count": null,
      "outputs": [
        {
          "output_type": "display_data",
          "data": {
            "text/html": [
              "2"
            ],
            "text/markdown": "2",
            "text/latex": "2",
            "text/plain": [
              "[1] 2"
            ]
          },
          "metadata": {}
        }
      ]
    },
    {
      "cell_type": "markdown",
      "source": [
        "##### Zadanie 9: Napisz program wyznaczajacy sume, średnia i iloczyn wektora, zignoruj elementy takie jak NA lub NaN.\n"
      ],
      "metadata": {
        "id": "WN7cZ9cTLr4B"
      }
    },
    {
      "cell_type": "code",
      "source": [
        "x <- c(1, 1, 2, 3, 5, 8, 13, 21)\n",
        "sum(x)\n",
        "mean(x)\n",
        "prod(x)"
      ],
      "metadata": {
        "colab": {
          "base_uri": "https://localhost:8080/",
          "height": 69
        },
        "id": "ap73jrEaYRMG",
        "outputId": "a0196777-1e41-40bf-935a-2930cee39dd0"
      },
      "execution_count": null,
      "outputs": [
        {
          "output_type": "display_data",
          "data": {
            "text/html": [
              "54"
            ],
            "text/markdown": "54",
            "text/latex": "54",
            "text/plain": [
              "[1] 54"
            ]
          },
          "metadata": {}
        },
        {
          "output_type": "display_data",
          "data": {
            "text/html": [
              "6.75"
            ],
            "text/markdown": "6.75",
            "text/latex": "6.75",
            "text/plain": [
              "[1] 6.75"
            ]
          },
          "metadata": {}
        },
        {
          "output_type": "display_data",
          "data": {
            "text/html": [
              "65520"
            ],
            "text/markdown": "65520",
            "text/latex": "65520",
            "text/plain": [
              "[1] 65520"
            ]
          },
          "metadata": {}
        }
      ]
    },
    {
      "cell_type": "markdown",
      "source": [
        "##### Zadanie 10: Napisz program sortujacy wektory w porządku rosnacym i malejacym.\n"
      ],
      "metadata": {
        "id": "q1kyK8VxLycS"
      }
    },
    {
      "cell_type": "code",
      "source": [
        "sort(x)\n",
        "sort(x, decreasing = T)"
      ],
      "metadata": {
        "colab": {
          "base_uri": "https://localhost:8080/",
          "height": 52
        },
        "id": "e_t2Xq58YuMO",
        "outputId": "465d17a1-5f54-426b-c745-5e72db504819"
      },
      "execution_count": null,
      "outputs": [
        {
          "output_type": "display_data",
          "data": {
            "text/html": [
              "<style>\n",
              ".list-inline {list-style: none; margin:0; padding: 0}\n",
              ".list-inline>li {display: inline-block}\n",
              ".list-inline>li:not(:last-child)::after {content: \"\\00b7\"; padding: 0 .5ex}\n",
              "</style>\n",
              "<ol class=list-inline><li>1</li><li>1</li><li>2</li><li>3</li><li>5</li><li>8</li><li>13</li><li>21</li></ol>\n"
            ],
            "text/markdown": "1. 1\n2. 1\n3. 2\n4. 3\n5. 5\n6. 8\n7. 13\n8. 21\n\n\n",
            "text/latex": "\\begin{enumerate*}\n\\item 1\n\\item 1\n\\item 2\n\\item 3\n\\item 5\n\\item 8\n\\item 13\n\\item 21\n\\end{enumerate*}\n",
            "text/plain": [
              "[1]  1  1  2  3  5  8 13 21"
            ]
          },
          "metadata": {}
        },
        {
          "output_type": "display_data",
          "data": {
            "text/html": [
              "<style>\n",
              ".list-inline {list-style: none; margin:0; padding: 0}\n",
              ".list-inline>li {display: inline-block}\n",
              ".list-inline>li:not(:last-child)::after {content: \"\\00b7\"; padding: 0 .5ex}\n",
              "</style>\n",
              "<ol class=list-inline><li>21</li><li>13</li><li>8</li><li>5</li><li>3</li><li>2</li><li>1</li><li>1</li></ol>\n"
            ],
            "text/markdown": "1. 21\n2. 13\n3. 8\n4. 5\n5. 3\n6. 2\n7. 1\n8. 1\n\n\n",
            "text/latex": "\\begin{enumerate*}\n\\item 21\n\\item 13\n\\item 8\n\\item 5\n\\item 3\n\\item 2\n\\item 1\n\\item 1\n\\end{enumerate*}\n",
            "text/plain": [
              "[1] 21 13  8  5  3  2  1  1"
            ]
          },
          "metadata": {}
        }
      ]
    },
    {
      "cell_type": "markdown",
      "source": [
        "##### Zadanie 11: Napisz program znajdujacy elementy danego wektora, ktorych nie ma w innym danym wektorze.\n"
      ],
      "metadata": {
        "id": "W_d188IkL0s5"
      }
    },
    {
      "cell_type": "code",
      "source": [
        "v <- c('a','b','c','e')\n",
        "\n",
        "'b' %in% v\n",
        "\n",
        "match('b',v)"
      ],
      "metadata": {
        "colab": {
          "base_uri": "https://localhost:8080/",
          "height": 52
        },
        "id": "4n4s87xeYvOO",
        "outputId": "b5bff339-a2a7-440b-d0e3-15af4d9ebfe6"
      },
      "execution_count": null,
      "outputs": [
        {
          "output_type": "display_data",
          "data": {
            "text/html": [
              "TRUE"
            ],
            "text/markdown": "TRUE",
            "text/latex": "TRUE",
            "text/plain": [
              "[1] TRUE"
            ]
          },
          "metadata": {}
        },
        {
          "output_type": "display_data",
          "data": {
            "text/html": [
              "2"
            ],
            "text/markdown": "2",
            "text/latex": "2",
            "text/plain": [
              "[1] 2"
            ]
          },
          "metadata": {}
        }
      ]
    },
    {
      "cell_type": "code",
      "source": [
        "v <- c('a','b','c','e')\n",
        "z <- c('e','f','g','h')\n",
        "z %in% v\n",
        "\n",
        "match(z,v)"
      ],
      "metadata": {
        "colab": {
          "base_uri": "https://localhost:8080/",
          "height": 52
        },
        "id": "Q5OrfvQua2WD",
        "outputId": "9ac0ead8-d428-4a02-ca92-17fb71d6d824"
      },
      "execution_count": null,
      "outputs": [
        {
          "output_type": "display_data",
          "data": {
            "text/html": [
              "<style>\n",
              ".list-inline {list-style: none; margin:0; padding: 0}\n",
              ".list-inline>li {display: inline-block}\n",
              ".list-inline>li:not(:last-child)::after {content: \"\\00b7\"; padding: 0 .5ex}\n",
              "</style>\n",
              "<ol class=list-inline><li>TRUE</li><li>FALSE</li><li>FALSE</li><li>FALSE</li></ol>\n"
            ],
            "text/markdown": "1. TRUE\n2. FALSE\n3. FALSE\n4. FALSE\n\n\n",
            "text/latex": "\\begin{enumerate*}\n\\item TRUE\n\\item FALSE\n\\item FALSE\n\\item FALSE\n\\end{enumerate*}\n",
            "text/plain": [
              "[1]  TRUE FALSE FALSE FALSE"
            ]
          },
          "metadata": {}
        },
        {
          "output_type": "display_data",
          "data": {
            "text/html": [
              "<style>\n",
              ".list-inline {list-style: none; margin:0; padding: 0}\n",
              ".list-inline>li {display: inline-block}\n",
              ".list-inline>li:not(:last-child)::after {content: \"\\00b7\"; padding: 0 .5ex}\n",
              "</style>\n",
              "<ol class=list-inline><li>4</li><li>&lt;NA&gt;</li><li>&lt;NA&gt;</li><li>&lt;NA&gt;</li></ol>\n"
            ],
            "text/markdown": "1. 4\n2. &lt;NA&gt;\n3. &lt;NA&gt;\n4. &lt;NA&gt;\n\n\n",
            "text/latex": "\\begin{enumerate*}\n\\item 4\n\\item <NA>\n\\item <NA>\n\\item <NA>\n\\end{enumerate*}\n",
            "text/plain": [
              "[1]  4 NA NA NA"
            ]
          },
          "metadata": {}
        }
      ]
    },
    {
      "cell_type": "markdown",
      "source": [
        "##### Zadanie 12: Napisz program, ktory odwroci kolejność danego wektora."
      ],
      "metadata": {
        "id": "KekT-RS7QoDD"
      }
    },
    {
      "cell_type": "code",
      "source": [
        "x <- c(1, 1, 2, 3, 5, 8, 13, 21)\n",
        "rev(x)"
      ],
      "metadata": {
        "colab": {
          "base_uri": "https://localhost:8080/",
          "height": 34
        },
        "id": "AndZSlK6YxPQ",
        "outputId": "8ade068b-3a7e-4e9d-a612-04faa053513d"
      },
      "execution_count": null,
      "outputs": [
        {
          "output_type": "display_data",
          "data": {
            "text/html": [
              "<style>\n",
              ".list-inline {list-style: none; margin:0; padding: 0}\n",
              ".list-inline>li {display: inline-block}\n",
              ".list-inline>li:not(:last-child)::after {content: \"\\00b7\"; padding: 0 .5ex}\n",
              "</style>\n",
              "<ol class=list-inline><li>21</li><li>13</li><li>8</li><li>5</li><li>3</li><li>2</li><li>1</li><li>1</li></ol>\n"
            ],
            "text/markdown": "1. 21\n2. 13\n3. 8\n4. 5\n5. 3\n6. 2\n7. 1\n8. 1\n\n\n",
            "text/latex": "\\begin{enumerate*}\n\\item 21\n\\item 13\n\\item 8\n\\item 5\n\\item 3\n\\item 2\n\\item 1\n\\item 1\n\\end{enumerate*}\n",
            "text/plain": [
              "[1] 21 13  8  5  3  2  1  1"
            ]
          },
          "metadata": {}
        }
      ]
    },
    {
      "cell_type": "markdown",
      "source": [
        "##### Zadanie 13: Napisz program tworzacy wektor, który zawiera 10 losowych liczb całkowitych z przedzialu od -10 do +10."
      ],
      "metadata": {
        "id": "g1S1fEQkQqlk"
      }
    },
    {
      "cell_type": "code",
      "source": [
        "x13 <- sample(-10:10, 10)\n",
        "x13"
      ],
      "metadata": {
        "colab": {
          "base_uri": "https://localhost:8080/",
          "height": 34
        },
        "id": "Nb5HCBhsYxef",
        "outputId": "b580bf56-f8eb-4d4b-fea4-79da55b32acd"
      },
      "execution_count": null,
      "outputs": [
        {
          "output_type": "display_data",
          "data": {
            "text/html": [
              "<style>\n",
              ".list-inline {list-style: none; margin:0; padding: 0}\n",
              ".list-inline>li {display: inline-block}\n",
              ".list-inline>li:not(:last-child)::after {content: \"\\00b7\"; padding: 0 .5ex}\n",
              "</style>\n",
              "<ol class=list-inline><li>-5</li><li>9</li><li>-2</li><li>4</li><li>8</li><li>10</li><li>5</li><li>-3</li><li>-7</li><li>1</li></ol>\n"
            ],
            "text/markdown": "1. -5\n2. 9\n3. -2\n4. 4\n5. 8\n6. 10\n7. 5\n8. -3\n9. -7\n10. 1\n\n\n",
            "text/latex": "\\begin{enumerate*}\n\\item -5\n\\item 9\n\\item -2\n\\item 4\n\\item 8\n\\item 10\n\\item 5\n\\item -3\n\\item -7\n\\item 1\n\\end{enumerate*}\n",
            "text/plain": [
              " [1] -5  9 -2  4  8 10  5 -3 -7  1"
            ]
          },
          "metadata": {}
        }
      ]
    },
    {
      "cell_type": "markdown",
      "source": [
        "##### Zadanie 14: \n",
        "##### a) Wysymuluj (bez powtorzen) 20 liczb calkowitych z przedzialu od 1 do 20. Poczatkowa wartosc generatora liczb pseudolosowych powinna zostac ustalona na 444.\n",
        "##### b) Wysymuluj (bez powtorzen) 20 malych liter (alfabet podstawowy). Nie ustawiaj poczatkowej wartosci generatora liczb pseudolosowych.\n",
        "##### c) Wyswietl wszystkie litery (pkt. b) dla ktorych liczby z odpowiadajacych indeksow z wektora numerycznego (pkt. a) sa wieksze od 5 i jednoczesnie mniejsze od 15."
      ],
      "metadata": {
        "id": "xslasCWtQseU"
      }
    },
    {
      "cell_type": "code",
      "source": [],
      "metadata": {
        "id": "MjI1x0maYxqW"
      },
      "execution_count": null,
      "outputs": []
    },
    {
      "cell_type": "markdown",
      "source": [
        "##### Zadanie 15:\n",
        "##### a) Stworz wektor \"litery\" zawierajacy wielkie litery z podstawowego alfabetu (26 liter).\n",
        "##### b) Stworz wektor \"numery\" zawierajacy kolejne liczby calkowite od 1 do \"n\", \n",
        "#####    gdzie \"n\" jest liczba elementow z wektora \"litery\" (nie wpisujemy tej wartosci recznie).\n",
        "##### c) Stworz wektor \"litery_numery\" laczacy wektory \"litery\" i \"numery\" element po elemenice poprzez znak \"_\"."
      ],
      "metadata": {
        "id": "1tLphyRxQuGc"
      }
    },
    {
      "cell_type": "code",
      "source": [],
      "metadata": {
        "id": "jT6iUALfYx4e"
      },
      "execution_count": null,
      "outputs": []
    },
    {
      "cell_type": "markdown",
      "source": [
        "##### Zadanie 16: Napisz program wybierajacy drugi element z podanej listy zagniezdzonej."
      ],
      "metadata": {
        "id": "XmYRG0D_QvyE"
      }
    },
    {
      "cell_type": "code",
      "source": [],
      "metadata": {
        "id": "VyYwKyxcYyE2"
      },
      "execution_count": null,
      "outputs": []
    },
    {
      "cell_type": "markdown",
      "source": [
        "##### Zadanie 17: Napisz program, ktory utworzy liste zawierajaca wektor i liste oraz zaktualizuje ostatni element."
      ],
      "metadata": {
        "id": "AVQGCeLIQxEk"
      }
    },
    {
      "cell_type": "code",
      "source": [],
      "metadata": {
        "id": "zevt_kjiYyRN"
      },
      "execution_count": null,
      "outputs": []
    },
    {
      "cell_type": "markdown",
      "source": [
        "##### Zadanie 18: Napisz program, ktory scali dwie podane listy w jedna liste."
      ],
      "metadata": {
        "id": "KgjXOPrDQyZU"
      }
    },
    {
      "cell_type": "code",
      "source": [],
      "metadata": {
        "id": "tKWlfn1yYyeF"
      },
      "execution_count": null,
      "outputs": []
    },
    {
      "cell_type": "markdown",
      "source": [
        "##### Zadanie 19: Napisz program konwertujacy dana liste na wektor."
      ],
      "metadata": {
        "id": "mXWhZwLsQzlF"
      }
    },
    {
      "cell_type": "code",
      "source": [],
      "metadata": {
        "id": "VV3cu5lPYysd"
      },
      "execution_count": null,
      "outputs": []
    },
    {
      "cell_type": "markdown",
      "source": [
        "##### Zadanie 20: Napisz program, ktory zliczy liczbe obiektow w liscie."
      ],
      "metadata": {
        "id": "3973THmTQ04F"
      }
    },
    {
      "cell_type": "code",
      "source": [],
      "metadata": {
        "id": "oq1YjFJOYy8u"
      },
      "execution_count": null,
      "outputs": []
    },
    {
      "cell_type": "markdown",
      "source": [
        "##### Zadanie 21: Napisz program, ktory przypisze wartosc NULL do danego elementu listy."
      ],
      "metadata": {
        "id": "GlRZaabLQ2T9"
      }
    },
    {
      "cell_type": "code",
      "source": [],
      "metadata": {
        "id": "A-FZVaU1YzLG"
      },
      "execution_count": null,
      "outputs": []
    },
    {
      "cell_type": "markdown",
      "source": [
        "##### Zadanie 22: Napisz program, ktory doda 10 do kazdego elementu pierwszego wektora na podanej liscie.\n"
      ],
      "metadata": {
        "id": "9ZsALfHRQ3zE"
      }
    },
    {
      "cell_type": "code",
      "source": [],
      "metadata": {
        "id": "6SUrm4uXYzYt"
      },
      "execution_count": null,
      "outputs": []
    },
    {
      "cell_type": "markdown",
      "source": [
        "##### Zadanie 23: Napisz program, aby uzyskac dlugosc pierwszych dwoch wektorow z danej listy."
      ],
      "metadata": {
        "id": "NH3TBiS4Q449"
      }
    },
    {
      "cell_type": "code",
      "source": [],
      "metadata": {
        "id": "0fQL3sHFYzl1"
      },
      "execution_count": null,
      "outputs": []
    },
    {
      "cell_type": "markdown",
      "source": [
        "##### Zadanie 24: Napisz program, ktory znajdzie wszystkie elementy danej listy, ktorych nie ma na innej podanej liscie."
      ],
      "metadata": {
        "id": "LNl3XiNoQ6Zk"
      }
    },
    {
      "cell_type": "code",
      "source": [],
      "metadata": {
        "id": "Qp-8cEBwYzxm"
      },
      "execution_count": null,
      "outputs": []
    },
    {
      "cell_type": "markdown",
      "source": [
        "##### Zadanie 25:\n",
        "##### a) Wysymuluj z powtorzeniami 10 liczb z wektora od 1 do 10 (seed = 666).\n",
        "##### b) Przeksztalc wektor z punktu a) na 10-elementowa liste.\n",
        "##### c) Dla kazdego elementu listy wysumuluj \"n\" liczb z rozkladu rownomiernego (seed = 666), gdzie \"n\" jest liczba obecnie znajdujaca sie w elemencie listy.\n",
        "##### d) Dokonaj zlaczenia elementow listy w jeden wektor."
      ],
      "metadata": {
        "id": "UKFRRdxzQ74E"
      }
    },
    {
      "cell_type": "code",
      "source": [],
      "metadata": {
        "id": "a4s2dWHXYz-m"
      },
      "execution_count": null,
      "outputs": []
    },
    {
      "cell_type": "markdown",
      "source": [
        "##### Zadanie 26:\n",
        "##### a) Stworz liste o dlugosci 5 o wartosciach domyslnych.\n",
        "##### b) Stworz wektor poprzez wylosowanie kolejnych 5 liczb calkowitch (bez powtorzen) z wektora od 1 do 10. \n",
        "#####    Poczatkowa wartosc generatora liczb pseudolosowych powinna zostac ustalona na 123.\n",
        "##### c) Wstaw do kolejnych elementow listy wektor powtarzajacy konkretna liczbe z wektora z pkt b) tyle razy, \n",
        "#####    jaka liczba zawarta jest pod konkretnym elementem wektora, \n",
        "#####    np. dla liczby 4 wektor bedzie mial dlugosc 4 i w kazdym elemencie bedzie liczba 4.\n",
        "##### d) Przeksztalc liste w wektor liczb calkowitych."
      ],
      "metadata": {
        "id": "oIeLFM-RQ89l"
      }
    },
    {
      "cell_type": "code",
      "source": [],
      "metadata": {
        "id": "QExaCYP-Y0Od"
      },
      "execution_count": null,
      "outputs": []
    }
  ]
}