{
  "nbformat": 4,
  "nbformat_minor": 0,
  "metadata": {
    "colab": {
      "provenance": [],
      "authorship_tag": "ABX9TyN/FV8BXiEgTfTquIMaAE/h",
      "include_colab_link": true
    },
    "kernelspec": {
      "name": "ir",
      "display_name": "R"
    },
    "language_info": {
      "name": "R"
    }
  },
  "cells": [
    {
      "cell_type": "markdown",
      "metadata": {
        "id": "view-in-github",
        "colab_type": "text"
      },
      "source": [
        "<a href=\"https://colab.research.google.com/github/brzenio/R_study/blob/main/R_2310.ipynb\" target=\"_parent\"><img src=\"https://colab.research.google.com/assets/colab-badge.svg\" alt=\"Open In Colab\"/></a>"
      ]
    },
    {
      "cell_type": "markdown",
      "source": [
        "Zadanie 1: W konsoli oraz w skrypcie R policz 2 + 2."
      ],
      "metadata": {
        "id": "yyHrrUfqF-Gp"
      }
    },
    {
      "cell_type": "code",
      "source": [
        "2+2"
      ],
      "metadata": {
        "id": "PLuTGIz4F2Ku",
        "colab": {
          "base_uri": "https://localhost:8080/",
          "height": 34
        },
        "outputId": "b65b2bbb-c2cc-457c-e46d-1831ecb05e95"
      },
      "execution_count": null,
      "outputs": [
        {
          "output_type": "display_data",
          "data": {
            "text/html": [
              "4"
            ],
            "text/markdown": "4",
            "text/latex": "4",
            "text/plain": [
              "[1] 4"
            ]
          },
          "metadata": {}
        }
      ]
    },
    {
      "cell_type": "markdown",
      "source": [
        "Zadanie 2: Wyswietl pomoc dla funkcji wbudowanej \"print\".\n"
      ],
      "metadata": {
        "id": "wmNvJhZ5J4zF"
      }
    },
    {
      "cell_type": "code",
      "source": [
        "help(print)"
      ],
      "metadata": {
        "id": "EkfV3hv4L_QR"
      },
      "execution_count": null,
      "outputs": []
    },
    {
      "cell_type": "markdown",
      "source": [
        "Zadanie 3: Utwórz nowy plik programu \"prog_xx.R\" (xx – Twoje inicjaly) i zapisz na Pulpicie, napisz polecenie wyswietlające napis 'Hello World'.\n"
      ],
      "metadata": {
        "id": "d0dZ8X0UKDN-"
      }
    },
    {
      "cell_type": "code",
      "source": [
        "print(\"Hello World\")"
      ],
      "metadata": {
        "colab": {
          "base_uri": "https://localhost:8080/"
        },
        "id": "EvRtLpzyMDQ4",
        "outputId": "b5a4f590-4614-43e4-ebe9-47aa9f07a289"
      },
      "execution_count": null,
      "outputs": [
        {
          "output_type": "stream",
          "name": "stdout",
          "text": [
            "[1] \"Hello World\"\n"
          ]
        }
      ]
    },
    {
      "cell_type": "markdown",
      "source": [
        "Zadanie 4: Dodaj do siebie liczby 10 i 10. Następnie wynik podziel przez 2. Od otrzymanego wyniku odejmij 5. Następnie pomnóż wynik przez 3. Użyj nawiasów lub klamer. W wyniku ostatecznym powinna wyjsc liczba 15."
      ],
      "metadata": {
        "id": "iRIkTyT7KHQQ"
      }
    },
    {
      "cell_type": "code",
      "source": [
        "a <- 10\n",
        "b <- 10\n",
        "c <- a+b\n",
        "print(c)\n",
        "print((c/2-5)*3) # poprawić, żeby nie pisac dwóch printów"
      ],
      "metadata": {
        "colab": {
          "base_uri": "https://localhost:8080/"
        },
        "id": "iaNvF9DmNAqW",
        "outputId": "ebc8a4a5-0a54-4dbf-d1f0-ab6da21a93a3"
      },
      "execution_count": null,
      "outputs": [
        {
          "output_type": "stream",
          "name": "stdout",
          "text": [
            "[1] 20\n",
            "[1] 15\n"
          ]
        }
      ]
    },
    {
      "cell_type": "markdown",
      "source": [
        "Zadanie 5: Napisz na ekranie nastepujace zdanie „Poczatek jest najwazniejsza czescia pracy” – Platon. Cytat powinien byc ujety w cudzyslow."
      ],
      "metadata": {
        "id": "D6xOeCmCKOlN"
      }
    },
    {
      "cell_type": "code",
      "source": [
        "print(\" \\\"Poczatek jest najwazniejsza czescia pracy\\\" – Platon\", quote = FALSE)\n",
        "cat(' \"Poczatek jest najwazniejsza czescia pracy\" – Platon ')"
      ],
      "metadata": {
        "colab": {
          "base_uri": "https://localhost:8080/"
        },
        "id": "Suo2JLuWTToY",
        "outputId": "15cefdca-2bf2-4dc9-9c7f-c497ca563bc2"
      },
      "execution_count": null,
      "outputs": [
        {
          "output_type": "stream",
          "name": "stdout",
          "text": [
            "[1]  \"Poczatek jest najwazniejsza czescia pracy\" – Platon\n",
            " \"Poczatek jest najwazniejsza czescia pracy\" – Platon "
          ]
        }
      ]
    },
    {
      "cell_type": "markdown",
      "source": [
        "Zadanie 6: Napisz na ekranie w oddzielnych linijkach napis:\n",
        "\n",
        "Nauka programowania\n",
        "\n",
        "wymaga\n",
        "\n",
        "wytrwałej pracy"
      ],
      "metadata": {
        "id": "k2O2irAhKZeh"
      }
    },
    {
      "cell_type": "code",
      "source": [
        "cat(\"Nauka programowanie \\n wymaga \\n wytrwałej pracy\")"
      ],
      "metadata": {
        "colab": {
          "base_uri": "https://localhost:8080/"
        },
        "id": "xZDEBE8nUs5V",
        "outputId": "9cec45d8-daa5-4b38-d372-a3de62706871"
      },
      "execution_count": null,
      "outputs": [
        {
          "output_type": "stream",
          "name": "stdout",
          "text": [
            "Nauka programowanie \n",
            " wymaga \n",
            " wytrwałej pracy"
          ]
        }
      ]
    },
    {
      "cell_type": "markdown",
      "source": [
        "Zadanie 7: Napisz program tworzący wektor o określonym typie i dlugosci. Utwórz wektor typow numerycznych, zlozonych, logicznych i znakowych o dlugosci 10."
      ],
      "metadata": {
        "id": "z3CWx6ebKxHz"
      }
    },
    {
      "cell_type": "code",
      "source": [
        "num_v <- vector(\"integer\", 10)\n",
        "com_v <- vector(\"complex\", 10)\n",
        "logic_v <- vector(\"logical\", 10)\n",
        "char_v <- vector(\"character\", 10)\n",
        "\n",
        "num_v\n",
        "com_v\n",
        "logic_v\n",
        "char_v \n",
        "\n",
        "# Też dobrze?\n",
        "numeric_vector <- numeric(10)\n",
        "complex_vector <- complex(10)\n",
        "logical_vector <- logical(10)\n",
        "character_vector <- character(10)\n",
        "\n",
        "numeric_vector\n",
        "complex_vector\n",
        "logical_vector\n",
        "character_vector"
      ],
      "metadata": {
        "id": "cDvShpB9VZl-",
        "colab": {
          "base_uri": "https://localhost:8080/",
          "height": 156
        },
        "outputId": "1c28c11e-0f5e-4d60-9424-25f682d6cdf9"
      },
      "execution_count": 2,
      "outputs": [
        {
          "output_type": "display_data",
          "data": {
            "text/html": [
              "<style>\n",
              ".list-inline {list-style: none; margin:0; padding: 0}\n",
              ".list-inline>li {display: inline-block}\n",
              ".list-inline>li:not(:last-child)::after {content: \"\\00b7\"; padding: 0 .5ex}\n",
              "</style>\n",
              "<ol class=list-inline><li>0</li><li>0</li><li>0</li><li>0</li><li>0</li><li>0</li><li>0</li><li>0</li><li>0</li><li>0</li></ol>\n"
            ],
            "text/markdown": "1. 0\n2. 0\n3. 0\n4. 0\n5. 0\n6. 0\n7. 0\n8. 0\n9. 0\n10. 0\n\n\n",
            "text/latex": "\\begin{enumerate*}\n\\item 0\n\\item 0\n\\item 0\n\\item 0\n\\item 0\n\\item 0\n\\item 0\n\\item 0\n\\item 0\n\\item 0\n\\end{enumerate*}\n",
            "text/plain": [
              " [1] 0 0 0 0 0 0 0 0 0 0"
            ]
          },
          "metadata": {}
        },
        {
          "output_type": "display_data",
          "data": {
            "text/html": [
              "<style>\n",
              ".list-inline {list-style: none; margin:0; padding: 0}\n",
              ".list-inline>li {display: inline-block}\n",
              ".list-inline>li:not(:last-child)::after {content: \"\\00b7\"; padding: 0 .5ex}\n",
              "</style>\n",
              "<ol class=list-inline><li>0+0i</li><li>0+0i</li><li>0+0i</li><li>0+0i</li><li>0+0i</li><li>0+0i</li><li>0+0i</li><li>0+0i</li><li>0+0i</li><li>0+0i</li></ol>\n"
            ],
            "text/markdown": "1. 0+0i\n2. 0+0i\n3. 0+0i\n4. 0+0i\n5. 0+0i\n6. 0+0i\n7. 0+0i\n8. 0+0i\n9. 0+0i\n10. 0+0i\n\n\n",
            "text/latex": "\\begin{enumerate*}\n\\item 0+0i\n\\item 0+0i\n\\item 0+0i\n\\item 0+0i\n\\item 0+0i\n\\item 0+0i\n\\item 0+0i\n\\item 0+0i\n\\item 0+0i\n\\item 0+0i\n\\end{enumerate*}\n",
            "text/plain": [
              " [1] 0+0i 0+0i 0+0i 0+0i 0+0i 0+0i 0+0i 0+0i 0+0i 0+0i"
            ]
          },
          "metadata": {}
        },
        {
          "output_type": "display_data",
          "data": {
            "text/html": [
              "<style>\n",
              ".list-inline {list-style: none; margin:0; padding: 0}\n",
              ".list-inline>li {display: inline-block}\n",
              ".list-inline>li:not(:last-child)::after {content: \"\\00b7\"; padding: 0 .5ex}\n",
              "</style>\n",
              "<ol class=list-inline><li>FALSE</li><li>FALSE</li><li>FALSE</li><li>FALSE</li><li>FALSE</li><li>FALSE</li><li>FALSE</li><li>FALSE</li><li>FALSE</li><li>FALSE</li></ol>\n"
            ],
            "text/markdown": "1. FALSE\n2. FALSE\n3. FALSE\n4. FALSE\n5. FALSE\n6. FALSE\n7. FALSE\n8. FALSE\n9. FALSE\n10. FALSE\n\n\n",
            "text/latex": "\\begin{enumerate*}\n\\item FALSE\n\\item FALSE\n\\item FALSE\n\\item FALSE\n\\item FALSE\n\\item FALSE\n\\item FALSE\n\\item FALSE\n\\item FALSE\n\\item FALSE\n\\end{enumerate*}\n",
            "text/plain": [
              " [1] FALSE FALSE FALSE FALSE FALSE FALSE FALSE FALSE FALSE FALSE"
            ]
          },
          "metadata": {}
        },
        {
          "output_type": "display_data",
          "data": {
            "text/html": [
              "<style>\n",
              ".list-inline {list-style: none; margin:0; padding: 0}\n",
              ".list-inline>li {display: inline-block}\n",
              ".list-inline>li:not(:last-child)::after {content: \"\\00b7\"; padding: 0 .5ex}\n",
              "</style>\n",
              "<ol class=list-inline><li>''</li><li>''</li><li>''</li><li>''</li><li>''</li><li>''</li><li>''</li><li>''</li><li>''</li><li>''</li></ol>\n"
            ],
            "text/markdown": "1. ''\n2. ''\n3. ''\n4. ''\n5. ''\n6. ''\n7. ''\n8. ''\n9. ''\n10. ''\n\n\n",
            "text/latex": "\\begin{enumerate*}\n\\item ''\n\\item ''\n\\item ''\n\\item ''\n\\item ''\n\\item ''\n\\item ''\n\\item ''\n\\item ''\n\\item ''\n\\end{enumerate*}\n",
            "text/plain": [
              " [1] \"\" \"\" \"\" \"\" \"\" \"\" \"\" \"\" \"\" \"\""
            ]
          },
          "metadata": {}
        },
        {
          "output_type": "display_data",
          "data": {
            "text/html": [
              "<style>\n",
              ".list-inline {list-style: none; margin:0; padding: 0}\n",
              ".list-inline>li {display: inline-block}\n",
              ".list-inline>li:not(:last-child)::after {content: \"\\00b7\"; padding: 0 .5ex}\n",
              "</style>\n",
              "<ol class=list-inline><li>0</li><li>0</li><li>0</li><li>0</li><li>0</li><li>0</li><li>0</li><li>0</li><li>0</li><li>0</li></ol>\n"
            ],
            "text/markdown": "1. 0\n2. 0\n3. 0\n4. 0\n5. 0\n6. 0\n7. 0\n8. 0\n9. 0\n10. 0\n\n\n",
            "text/latex": "\\begin{enumerate*}\n\\item 0\n\\item 0\n\\item 0\n\\item 0\n\\item 0\n\\item 0\n\\item 0\n\\item 0\n\\item 0\n\\item 0\n\\end{enumerate*}\n",
            "text/plain": [
              " [1] 0 0 0 0 0 0 0 0 0 0"
            ]
          },
          "metadata": {}
        },
        {
          "output_type": "display_data",
          "data": {
            "text/html": [
              "<style>\n",
              ".list-inline {list-style: none; margin:0; padding: 0}\n",
              ".list-inline>li {display: inline-block}\n",
              ".list-inline>li:not(:last-child)::after {content: \"\\00b7\"; padding: 0 .5ex}\n",
              "</style>\n",
              "<ol class=list-inline><li>0+0i</li><li>0+0i</li><li>0+0i</li><li>0+0i</li><li>0+0i</li><li>0+0i</li><li>0+0i</li><li>0+0i</li><li>0+0i</li><li>0+0i</li></ol>\n"
            ],
            "text/markdown": "1. 0+0i\n2. 0+0i\n3. 0+0i\n4. 0+0i\n5. 0+0i\n6. 0+0i\n7. 0+0i\n8. 0+0i\n9. 0+0i\n10. 0+0i\n\n\n",
            "text/latex": "\\begin{enumerate*}\n\\item 0+0i\n\\item 0+0i\n\\item 0+0i\n\\item 0+0i\n\\item 0+0i\n\\item 0+0i\n\\item 0+0i\n\\item 0+0i\n\\item 0+0i\n\\item 0+0i\n\\end{enumerate*}\n",
            "text/plain": [
              " [1] 0+0i 0+0i 0+0i 0+0i 0+0i 0+0i 0+0i 0+0i 0+0i 0+0i"
            ]
          },
          "metadata": {}
        },
        {
          "output_type": "display_data",
          "data": {
            "text/html": [
              "<style>\n",
              ".list-inline {list-style: none; margin:0; padding: 0}\n",
              ".list-inline>li {display: inline-block}\n",
              ".list-inline>li:not(:last-child)::after {content: \"\\00b7\"; padding: 0 .5ex}\n",
              "</style>\n",
              "<ol class=list-inline><li>FALSE</li><li>FALSE</li><li>FALSE</li><li>FALSE</li><li>FALSE</li><li>FALSE</li><li>FALSE</li><li>FALSE</li><li>FALSE</li><li>FALSE</li></ol>\n"
            ],
            "text/markdown": "1. FALSE\n2. FALSE\n3. FALSE\n4. FALSE\n5. FALSE\n6. FALSE\n7. FALSE\n8. FALSE\n9. FALSE\n10. FALSE\n\n\n",
            "text/latex": "\\begin{enumerate*}\n\\item FALSE\n\\item FALSE\n\\item FALSE\n\\item FALSE\n\\item FALSE\n\\item FALSE\n\\item FALSE\n\\item FALSE\n\\item FALSE\n\\item FALSE\n\\end{enumerate*}\n",
            "text/plain": [
              " [1] FALSE FALSE FALSE FALSE FALSE FALSE FALSE FALSE FALSE FALSE"
            ]
          },
          "metadata": {}
        },
        {
          "output_type": "display_data",
          "data": {
            "text/html": [
              "<style>\n",
              ".list-inline {list-style: none; margin:0; padding: 0}\n",
              ".list-inline>li {display: inline-block}\n",
              ".list-inline>li:not(:last-child)::after {content: \"\\00b7\"; padding: 0 .5ex}\n",
              "</style>\n",
              "<ol class=list-inline><li>''</li><li>''</li><li>''</li><li>''</li><li>''</li><li>''</li><li>''</li><li>''</li><li>''</li><li>''</li></ol>\n"
            ],
            "text/markdown": "1. ''\n2. ''\n3. ''\n4. ''\n5. ''\n6. ''\n7. ''\n8. ''\n9. ''\n10. ''\n\n\n",
            "text/latex": "\\begin{enumerate*}\n\\item ''\n\\item ''\n\\item ''\n\\item ''\n\\item ''\n\\item ''\n\\item ''\n\\item ''\n\\item ''\n\\item ''\n\\end{enumerate*}\n",
            "text/plain": [
              " [1] \"\" \"\" \"\" \"\" \"\" \"\" \"\" \"\" \"\" \"\""
            ]
          },
          "metadata": {}
        }
      ]
    },
    {
      "cell_type": "markdown",
      "source": [
        "Zadanie 8: Napisz program, który doda wartosc do danego pustego wektora.\n"
      ],
      "metadata": {
        "id": "IpzJlnwuLV4L"
      }
    },
    {
      "cell_type": "code",
      "source": [
        "x <- NULL\n",
        "x <- c(x, 2)\n",
        "x"
      ],
      "metadata": {
        "colab": {
          "base_uri": "https://localhost:8080/",
          "height": 34
        },
        "id": "LnFfh4XNXTeL",
        "outputId": "dbf386d9-233c-48f0-d54e-68bc2ad0924b"
      },
      "execution_count": null,
      "outputs": [
        {
          "output_type": "display_data",
          "data": {
            "text/html": [
              "2"
            ],
            "text/markdown": "2",
            "text/latex": "2",
            "text/plain": [
              "[1] 2"
            ]
          },
          "metadata": {}
        }
      ]
    },
    {
      "cell_type": "markdown",
      "source": [
        "Zadanie 9: Napisz program wyznaczajacy sume, średnia i iloczyn wektora, zignoruj elementy takie jak NA lub NaN.\n"
      ],
      "metadata": {
        "id": "WN7cZ9cTLr4B"
      }
    },
    {
      "cell_type": "code",
      "source": [
        "x <- c(1, 1, 2, 3, 5, 8, 13, 21)\n",
        "sum(x, na.rm = TRUE)\n",
        "mean(x, na.rm = TRUE)\n",
        "prod(x, na.rm = TRUE)"
      ],
      "metadata": {
        "colab": {
          "base_uri": "https://localhost:8080/",
          "height": 69
        },
        "id": "ap73jrEaYRMG",
        "outputId": "94dbd4e4-9301-41ef-98c4-fa6b1f224009"
      },
      "execution_count": null,
      "outputs": [
        {
          "output_type": "display_data",
          "data": {
            "text/html": [
              "54"
            ],
            "text/markdown": "54",
            "text/latex": "54",
            "text/plain": [
              "[1] 54"
            ]
          },
          "metadata": {}
        },
        {
          "output_type": "display_data",
          "data": {
            "text/html": [
              "6.75"
            ],
            "text/markdown": "6.75",
            "text/latex": "6.75",
            "text/plain": [
              "[1] 6.75"
            ]
          },
          "metadata": {}
        },
        {
          "output_type": "display_data",
          "data": {
            "text/html": [
              "65520"
            ],
            "text/markdown": "65520",
            "text/latex": "65520",
            "text/plain": [
              "[1] 65520"
            ]
          },
          "metadata": {}
        }
      ]
    },
    {
      "cell_type": "markdown",
      "source": [
        "Zadanie 10: Napisz program sortujacy wektory w porządku rosnacym i malejacym.\n"
      ],
      "metadata": {
        "id": "q1kyK8VxLycS"
      }
    },
    {
      "cell_type": "code",
      "source": [
        "sort(x)\n",
        "sort(x, decreasing = T)"
      ],
      "metadata": {
        "colab": {
          "base_uri": "https://localhost:8080/",
          "height": 52
        },
        "id": "e_t2Xq58YuMO",
        "outputId": "465d17a1-5f54-426b-c745-5e72db504819"
      },
      "execution_count": null,
      "outputs": [
        {
          "output_type": "display_data",
          "data": {
            "text/html": [
              "<style>\n",
              ".list-inline {list-style: none; margin:0; padding: 0}\n",
              ".list-inline>li {display: inline-block}\n",
              ".list-inline>li:not(:last-child)::after {content: \"\\00b7\"; padding: 0 .5ex}\n",
              "</style>\n",
              "<ol class=list-inline><li>1</li><li>1</li><li>2</li><li>3</li><li>5</li><li>8</li><li>13</li><li>21</li></ol>\n"
            ],
            "text/markdown": "1. 1\n2. 1\n3. 2\n4. 3\n5. 5\n6. 8\n7. 13\n8. 21\n\n\n",
            "text/latex": "\\begin{enumerate*}\n\\item 1\n\\item 1\n\\item 2\n\\item 3\n\\item 5\n\\item 8\n\\item 13\n\\item 21\n\\end{enumerate*}\n",
            "text/plain": [
              "[1]  1  1  2  3  5  8 13 21"
            ]
          },
          "metadata": {}
        },
        {
          "output_type": "display_data",
          "data": {
            "text/html": [
              "<style>\n",
              ".list-inline {list-style: none; margin:0; padding: 0}\n",
              ".list-inline>li {display: inline-block}\n",
              ".list-inline>li:not(:last-child)::after {content: \"\\00b7\"; padding: 0 .5ex}\n",
              "</style>\n",
              "<ol class=list-inline><li>21</li><li>13</li><li>8</li><li>5</li><li>3</li><li>2</li><li>1</li><li>1</li></ol>\n"
            ],
            "text/markdown": "1. 21\n2. 13\n3. 8\n4. 5\n5. 3\n6. 2\n7. 1\n8. 1\n\n\n",
            "text/latex": "\\begin{enumerate*}\n\\item 21\n\\item 13\n\\item 8\n\\item 5\n\\item 3\n\\item 2\n\\item 1\n\\item 1\n\\end{enumerate*}\n",
            "text/plain": [
              "[1] 21 13  8  5  3  2  1  1"
            ]
          },
          "metadata": {}
        }
      ]
    },
    {
      "cell_type": "markdown",
      "source": [
        "Zadanie 11: Napisz program znajdujacy elementy danego wektora, ktorych nie ma w innym danym wektorze.\n"
      ],
      "metadata": {
        "id": "W_d188IkL0s5"
      }
    },
    {
      "cell_type": "code",
      "source": [
        "v <- c('a','b','c','e')\n",
        "\n",
        "'b' %in% v\n",
        "\n",
        "match('b',v)"
      ],
      "metadata": {
        "colab": {
          "base_uri": "https://localhost:8080/",
          "height": 52
        },
        "id": "4n4s87xeYvOO",
        "outputId": "b5bff339-a2a7-440b-d0e3-15af4d9ebfe6"
      },
      "execution_count": null,
      "outputs": [
        {
          "output_type": "display_data",
          "data": {
            "text/html": [
              "TRUE"
            ],
            "text/markdown": "TRUE",
            "text/latex": "TRUE",
            "text/plain": [
              "[1] TRUE"
            ]
          },
          "metadata": {}
        },
        {
          "output_type": "display_data",
          "data": {
            "text/html": [
              "2"
            ],
            "text/markdown": "2",
            "text/latex": "2",
            "text/plain": [
              "[1] 2"
            ]
          },
          "metadata": {}
        }
      ]
    },
    {
      "cell_type": "code",
      "source": [
        "v <- c('a','b','c','e')\n",
        "z <- c('e','f','g','h')\n",
        "z %in% v\n",
        "\n",
        "match(z,v)"
      ],
      "metadata": {
        "colab": {
          "base_uri": "https://localhost:8080/",
          "height": 52
        },
        "id": "Q5OrfvQua2WD",
        "outputId": "9ac0ead8-d428-4a02-ca92-17fb71d6d824"
      },
      "execution_count": null,
      "outputs": [
        {
          "output_type": "display_data",
          "data": {
            "text/html": [
              "<style>\n",
              ".list-inline {list-style: none; margin:0; padding: 0}\n",
              ".list-inline>li {display: inline-block}\n",
              ".list-inline>li:not(:last-child)::after {content: \"\\00b7\"; padding: 0 .5ex}\n",
              "</style>\n",
              "<ol class=list-inline><li>TRUE</li><li>FALSE</li><li>FALSE</li><li>FALSE</li></ol>\n"
            ],
            "text/markdown": "1. TRUE\n2. FALSE\n3. FALSE\n4. FALSE\n\n\n",
            "text/latex": "\\begin{enumerate*}\n\\item TRUE\n\\item FALSE\n\\item FALSE\n\\item FALSE\n\\end{enumerate*}\n",
            "text/plain": [
              "[1]  TRUE FALSE FALSE FALSE"
            ]
          },
          "metadata": {}
        },
        {
          "output_type": "display_data",
          "data": {
            "text/html": [
              "<style>\n",
              ".list-inline {list-style: none; margin:0; padding: 0}\n",
              ".list-inline>li {display: inline-block}\n",
              ".list-inline>li:not(:last-child)::after {content: \"\\00b7\"; padding: 0 .5ex}\n",
              "</style>\n",
              "<ol class=list-inline><li>4</li><li>&lt;NA&gt;</li><li>&lt;NA&gt;</li><li>&lt;NA&gt;</li></ol>\n"
            ],
            "text/markdown": "1. 4\n2. &lt;NA&gt;\n3. &lt;NA&gt;\n4. &lt;NA&gt;\n\n\n",
            "text/latex": "\\begin{enumerate*}\n\\item 4\n\\item <NA>\n\\item <NA>\n\\item <NA>\n\\end{enumerate*}\n",
            "text/plain": [
              "[1]  4 NA NA NA"
            ]
          },
          "metadata": {}
        }
      ]
    },
    {
      "cell_type": "markdown",
      "source": [
        "Zadanie 12: Napisz program, ktory odwroci kolejność danego wektora."
      ],
      "metadata": {
        "id": "KekT-RS7QoDD"
      }
    },
    {
      "cell_type": "code",
      "source": [
        "x <- c(1, 1, 2, 3, 5, 8, 13, 21)\n",
        "rev(x)"
      ],
      "metadata": {
        "colab": {
          "base_uri": "https://localhost:8080/",
          "height": 34
        },
        "id": "AndZSlK6YxPQ",
        "outputId": "8ade068b-3a7e-4e9d-a612-04faa053513d"
      },
      "execution_count": null,
      "outputs": [
        {
          "output_type": "display_data",
          "data": {
            "text/html": [
              "<style>\n",
              ".list-inline {list-style: none; margin:0; padding: 0}\n",
              ".list-inline>li {display: inline-block}\n",
              ".list-inline>li:not(:last-child)::after {content: \"\\00b7\"; padding: 0 .5ex}\n",
              "</style>\n",
              "<ol class=list-inline><li>21</li><li>13</li><li>8</li><li>5</li><li>3</li><li>2</li><li>1</li><li>1</li></ol>\n"
            ],
            "text/markdown": "1. 21\n2. 13\n3. 8\n4. 5\n5. 3\n6. 2\n7. 1\n8. 1\n\n\n",
            "text/latex": "\\begin{enumerate*}\n\\item 21\n\\item 13\n\\item 8\n\\item 5\n\\item 3\n\\item 2\n\\item 1\n\\item 1\n\\end{enumerate*}\n",
            "text/plain": [
              "[1] 21 13  8  5  3  2  1  1"
            ]
          },
          "metadata": {}
        }
      ]
    },
    {
      "cell_type": "markdown",
      "source": [
        "Zadanie 13: Napisz program tworzacy wektor, który zawiera 10 losowych liczb całkowitych z przedzialu od -10 do +10."
      ],
      "metadata": {
        "id": "g1S1fEQkQqlk"
      }
    },
    {
      "cell_type": "code",
      "source": [
        "x13 <- sample(-10:10, 10)\n",
        "x13"
      ],
      "metadata": {
        "colab": {
          "base_uri": "https://localhost:8080/",
          "height": 34
        },
        "id": "Nb5HCBhsYxef",
        "outputId": "b580bf56-f8eb-4d4b-fea4-79da55b32acd"
      },
      "execution_count": null,
      "outputs": [
        {
          "output_type": "display_data",
          "data": {
            "text/html": [
              "<style>\n",
              ".list-inline {list-style: none; margin:0; padding: 0}\n",
              ".list-inline>li {display: inline-block}\n",
              ".list-inline>li:not(:last-child)::after {content: \"\\00b7\"; padding: 0 .5ex}\n",
              "</style>\n",
              "<ol class=list-inline><li>-5</li><li>9</li><li>-2</li><li>4</li><li>8</li><li>10</li><li>5</li><li>-3</li><li>-7</li><li>1</li></ol>\n"
            ],
            "text/markdown": "1. -5\n2. 9\n3. -2\n4. 4\n5. 8\n6. 10\n7. 5\n8. -3\n9. -7\n10. 1\n\n\n",
            "text/latex": "\\begin{enumerate*}\n\\item -5\n\\item 9\n\\item -2\n\\item 4\n\\item 8\n\\item 10\n\\item 5\n\\item -3\n\\item -7\n\\item 1\n\\end{enumerate*}\n",
            "text/plain": [
              " [1] -5  9 -2  4  8 10  5 -3 -7  1"
            ]
          },
          "metadata": {}
        }
      ]
    },
    {
      "cell_type": "markdown",
      "source": [
        "Zadanie 14: \n",
        "\n",
        "a) Wysymuluj (bez powtorzen) 20 liczb calkowitych z przedzialu od 1 do 20. Poczatkowa wartosc generatora liczb pseudolosowych powinna zostac ustalona na 444.\n",
        "\n",
        "b) Wysymuluj (bez powtorzen) 20 malych liter (alfabet podstawowy). Nie ustawiaj poczatkowej wartosci generatora liczb pseudolosowych.\n",
        "\n",
        "c) Wyswietl wszystkie litery (pkt. b) dla ktorych liczby z odpowiadajacych indeksow z wektora numerycznego (pkt. a) sa wieksze od 5 i jednoczesnie mniejsze od 15."
      ],
      "metadata": {
        "id": "xslasCWtQseU"
      }
    },
    {
      "cell_type": "code",
      "source": [
        "set.seed(444)\n",
        "\n",
        "x20 <- sample(1:20, replace = FALSE)\n",
        "length(x20)\n",
        "x20\n",
        "\n",
        "set.seed(NULL)\n",
        "x_let <- sample(letters, 20, replace = FALSE)\n",
        "x_let\n",
        "\n",
        "x_let_comp <- x_let[x20 > 5 & x20 < 15]\n",
        "x_let_comp"
      ],
      "metadata": {
        "id": "MjI1x0maYxqW",
        "colab": {
          "base_uri": "https://localhost:8080/",
          "height": 86
        },
        "outputId": "2ce24942-1a62-42e8-d270-b56521ae4a83"
      },
      "execution_count": null,
      "outputs": [
        {
          "output_type": "display_data",
          "data": {
            "text/html": [
              "20"
            ],
            "text/markdown": "20",
            "text/latex": "20",
            "text/plain": [
              "[1] 20"
            ]
          },
          "metadata": {}
        },
        {
          "output_type": "display_data",
          "data": {
            "text/html": [
              "<style>\n",
              ".list-inline {list-style: none; margin:0; padding: 0}\n",
              ".list-inline>li {display: inline-block}\n",
              ".list-inline>li:not(:last-child)::after {content: \"\\00b7\"; padding: 0 .5ex}\n",
              "</style>\n",
              "<ol class=list-inline><li>6</li><li>3</li><li>19</li><li>17</li><li>18</li><li>10</li><li>8</li><li>14</li><li>11</li><li>13</li><li>1</li><li>7</li><li>9</li><li>5</li><li>20</li><li>15</li><li>2</li><li>16</li><li>4</li><li>12</li></ol>\n"
            ],
            "text/markdown": "1. 6\n2. 3\n3. 19\n4. 17\n5. 18\n6. 10\n7. 8\n8. 14\n9. 11\n10. 13\n11. 1\n12. 7\n13. 9\n14. 5\n15. 20\n16. 15\n17. 2\n18. 16\n19. 4\n20. 12\n\n\n",
            "text/latex": "\\begin{enumerate*}\n\\item 6\n\\item 3\n\\item 19\n\\item 17\n\\item 18\n\\item 10\n\\item 8\n\\item 14\n\\item 11\n\\item 13\n\\item 1\n\\item 7\n\\item 9\n\\item 5\n\\item 20\n\\item 15\n\\item 2\n\\item 16\n\\item 4\n\\item 12\n\\end{enumerate*}\n",
            "text/plain": [
              " [1]  6  3 19 17 18 10  8 14 11 13  1  7  9  5 20 15  2 16  4 12"
            ]
          },
          "metadata": {}
        },
        {
          "output_type": "display_data",
          "data": {
            "text/html": [
              "<style>\n",
              ".list-inline {list-style: none; margin:0; padding: 0}\n",
              ".list-inline>li {display: inline-block}\n",
              ".list-inline>li:not(:last-child)::after {content: \"\\00b7\"; padding: 0 .5ex}\n",
              "</style>\n",
              "<ol class=list-inline><li>'y'</li><li>'x'</li><li>'o'</li><li>'p'</li><li>'v'</li><li>'j'</li><li>'g'</li><li>'d'</li><li>'r'</li><li>'e'</li><li>'w'</li><li>'s'</li><li>'q'</li><li>'a'</li><li>'k'</li><li>'f'</li><li>'b'</li><li>'n'</li><li>'l'</li><li>'m'</li></ol>\n"
            ],
            "text/markdown": "1. 'y'\n2. 'x'\n3. 'o'\n4. 'p'\n5. 'v'\n6. 'j'\n7. 'g'\n8. 'd'\n9. 'r'\n10. 'e'\n11. 'w'\n12. 's'\n13. 'q'\n14. 'a'\n15. 'k'\n16. 'f'\n17. 'b'\n18. 'n'\n19. 'l'\n20. 'm'\n\n\n",
            "text/latex": "\\begin{enumerate*}\n\\item 'y'\n\\item 'x'\n\\item 'o'\n\\item 'p'\n\\item 'v'\n\\item 'j'\n\\item 'g'\n\\item 'd'\n\\item 'r'\n\\item 'e'\n\\item 'w'\n\\item 's'\n\\item 'q'\n\\item 'a'\n\\item 'k'\n\\item 'f'\n\\item 'b'\n\\item 'n'\n\\item 'l'\n\\item 'm'\n\\end{enumerate*}\n",
            "text/plain": [
              " [1] \"y\" \"x\" \"o\" \"p\" \"v\" \"j\" \"g\" \"d\" \"r\" \"e\" \"w\" \"s\" \"q\" \"a\" \"k\" \"f\" \"b\" \"n\" \"l\"\n",
              "[20] \"m\""
            ]
          },
          "metadata": {}
        },
        {
          "output_type": "display_data",
          "data": {
            "text/html": [
              "<style>\n",
              ".list-inline {list-style: none; margin:0; padding: 0}\n",
              ".list-inline>li {display: inline-block}\n",
              ".list-inline>li:not(:last-child)::after {content: \"\\00b7\"; padding: 0 .5ex}\n",
              "</style>\n",
              "<ol class=list-inline><li>'y'</li><li>'j'</li><li>'g'</li><li>'d'</li><li>'r'</li><li>'e'</li><li>'s'</li><li>'q'</li><li>'m'</li></ol>\n"
            ],
            "text/markdown": "1. 'y'\n2. 'j'\n3. 'g'\n4. 'd'\n5. 'r'\n6. 'e'\n7. 's'\n8. 'q'\n9. 'm'\n\n\n",
            "text/latex": "\\begin{enumerate*}\n\\item 'y'\n\\item 'j'\n\\item 'g'\n\\item 'd'\n\\item 'r'\n\\item 'e'\n\\item 's'\n\\item 'q'\n\\item 'm'\n\\end{enumerate*}\n",
            "text/plain": [
              "[1] \"y\" \"j\" \"g\" \"d\" \"r\" \"e\" \"s\" \"q\" \"m\""
            ]
          },
          "metadata": {}
        }
      ]
    },
    {
      "cell_type": "markdown",
      "source": [
        "Zadanie 15:\n",
        "\n",
        "a) Stworz wektor \"litery\" zawierajacy wielkie litery z podstawowego alfabetu (26 liter).\n",
        "\n",
        "b) Stworz wektor \"numery\" zawierajacy kolejne liczby calkowite od 1 do \"n\", \n",
        "gdzie \"n\" jest liczba elementow z wektora \"litery\" (nie wpisujemy tej wartosci recznie).\n",
        "\n",
        "c) Stworz wektor \"litery_numery\" laczacy wektory \"litery\" i \"numery\" element po elemenice poprzez znak \"_\"."
      ],
      "metadata": {
        "id": "1tLphyRxQuGc"
      }
    },
    {
      "cell_type": "code",
      "source": [
        "litery <- LETTERS\n",
        "litery\n",
        "\n",
        "numery <- (1:length(litery))\n",
        "numery\n",
        "\n",
        "litery_numery <- paste(litery, \"_\", numery)\n",
        "litery_numery"
      ],
      "metadata": {
        "id": "jT6iUALfYx4e",
        "colab": {
          "base_uri": "https://localhost:8080/",
          "height": 69
        },
        "outputId": "ed6b1562-6937-4ab8-de3f-ea7604b157cc"
      },
      "execution_count": null,
      "outputs": [
        {
          "output_type": "display_data",
          "data": {
            "text/html": [
              "<style>\n",
              ".list-inline {list-style: none; margin:0; padding: 0}\n",
              ".list-inline>li {display: inline-block}\n",
              ".list-inline>li:not(:last-child)::after {content: \"\\00b7\"; padding: 0 .5ex}\n",
              "</style>\n",
              "<ol class=list-inline><li>'A'</li><li>'B'</li><li>'C'</li><li>'D'</li><li>'E'</li><li>'F'</li><li>'G'</li><li>'H'</li><li>'I'</li><li>'J'</li><li>'K'</li><li>'L'</li><li>'M'</li><li>'N'</li><li>'O'</li><li>'P'</li><li>'Q'</li><li>'R'</li><li>'S'</li><li>'T'</li><li>'U'</li><li>'V'</li><li>'W'</li><li>'X'</li><li>'Y'</li><li>'Z'</li></ol>\n"
            ],
            "text/markdown": "1. 'A'\n2. 'B'\n3. 'C'\n4. 'D'\n5. 'E'\n6. 'F'\n7. 'G'\n8. 'H'\n9. 'I'\n10. 'J'\n11. 'K'\n12. 'L'\n13. 'M'\n14. 'N'\n15. 'O'\n16. 'P'\n17. 'Q'\n18. 'R'\n19. 'S'\n20. 'T'\n21. 'U'\n22. 'V'\n23. 'W'\n24. 'X'\n25. 'Y'\n26. 'Z'\n\n\n",
            "text/latex": "\\begin{enumerate*}\n\\item 'A'\n\\item 'B'\n\\item 'C'\n\\item 'D'\n\\item 'E'\n\\item 'F'\n\\item 'G'\n\\item 'H'\n\\item 'I'\n\\item 'J'\n\\item 'K'\n\\item 'L'\n\\item 'M'\n\\item 'N'\n\\item 'O'\n\\item 'P'\n\\item 'Q'\n\\item 'R'\n\\item 'S'\n\\item 'T'\n\\item 'U'\n\\item 'V'\n\\item 'W'\n\\item 'X'\n\\item 'Y'\n\\item 'Z'\n\\end{enumerate*}\n",
            "text/plain": [
              " [1] \"A\" \"B\" \"C\" \"D\" \"E\" \"F\" \"G\" \"H\" \"I\" \"J\" \"K\" \"L\" \"M\" \"N\" \"O\" \"P\" \"Q\" \"R\" \"S\"\n",
              "[20] \"T\" \"U\" \"V\" \"W\" \"X\" \"Y\" \"Z\""
            ]
          },
          "metadata": {}
        },
        {
          "output_type": "display_data",
          "data": {
            "text/html": [
              "<style>\n",
              ".list-inline {list-style: none; margin:0; padding: 0}\n",
              ".list-inline>li {display: inline-block}\n",
              ".list-inline>li:not(:last-child)::after {content: \"\\00b7\"; padding: 0 .5ex}\n",
              "</style>\n",
              "<ol class=list-inline><li>1</li><li>2</li><li>3</li><li>4</li><li>5</li><li>6</li><li>7</li><li>8</li><li>9</li><li>10</li><li>11</li><li>12</li><li>13</li><li>14</li><li>15</li><li>16</li><li>17</li><li>18</li><li>19</li><li>20</li><li>21</li><li>22</li><li>23</li><li>24</li><li>25</li><li>26</li></ol>\n"
            ],
            "text/markdown": "1. 1\n2. 2\n3. 3\n4. 4\n5. 5\n6. 6\n7. 7\n8. 8\n9. 9\n10. 10\n11. 11\n12. 12\n13. 13\n14. 14\n15. 15\n16. 16\n17. 17\n18. 18\n19. 19\n20. 20\n21. 21\n22. 22\n23. 23\n24. 24\n25. 25\n26. 26\n\n\n",
            "text/latex": "\\begin{enumerate*}\n\\item 1\n\\item 2\n\\item 3\n\\item 4\n\\item 5\n\\item 6\n\\item 7\n\\item 8\n\\item 9\n\\item 10\n\\item 11\n\\item 12\n\\item 13\n\\item 14\n\\item 15\n\\item 16\n\\item 17\n\\item 18\n\\item 19\n\\item 20\n\\item 21\n\\item 22\n\\item 23\n\\item 24\n\\item 25\n\\item 26\n\\end{enumerate*}\n",
            "text/plain": [
              " [1]  1  2  3  4  5  6  7  8  9 10 11 12 13 14 15 16 17 18 19 20 21 22 23 24 25\n",
              "[26] 26"
            ]
          },
          "metadata": {}
        },
        {
          "output_type": "display_data",
          "data": {
            "text/html": [
              "<style>\n",
              ".list-inline {list-style: none; margin:0; padding: 0}\n",
              ".list-inline>li {display: inline-block}\n",
              ".list-inline>li:not(:last-child)::after {content: \"\\00b7\"; padding: 0 .5ex}\n",
              "</style>\n",
              "<ol class=list-inline><li>'A _ 1'</li><li>'B _ 2'</li><li>'C _ 3'</li><li>'D _ 4'</li><li>'E _ 5'</li><li>'F _ 6'</li><li>'G _ 7'</li><li>'H _ 8'</li><li>'I _ 9'</li><li>'J _ 10'</li><li>'K _ 11'</li><li>'L _ 12'</li><li>'M _ 13'</li><li>'N _ 14'</li><li>'O _ 15'</li><li>'P _ 16'</li><li>'Q _ 17'</li><li>'R _ 18'</li><li>'S _ 19'</li><li>'T _ 20'</li><li>'U _ 21'</li><li>'V _ 22'</li><li>'W _ 23'</li><li>'X _ 24'</li><li>'Y _ 25'</li><li>'Z _ 26'</li></ol>\n"
            ],
            "text/markdown": "1. 'A _ 1'\n2. 'B _ 2'\n3. 'C _ 3'\n4. 'D _ 4'\n5. 'E _ 5'\n6. 'F _ 6'\n7. 'G _ 7'\n8. 'H _ 8'\n9. 'I _ 9'\n10. 'J _ 10'\n11. 'K _ 11'\n12. 'L _ 12'\n13. 'M _ 13'\n14. 'N _ 14'\n15. 'O _ 15'\n16. 'P _ 16'\n17. 'Q _ 17'\n18. 'R _ 18'\n19. 'S _ 19'\n20. 'T _ 20'\n21. 'U _ 21'\n22. 'V _ 22'\n23. 'W _ 23'\n24. 'X _ 24'\n25. 'Y _ 25'\n26. 'Z _ 26'\n\n\n",
            "text/latex": "\\begin{enumerate*}\n\\item 'A \\_ 1'\n\\item 'B \\_ 2'\n\\item 'C \\_ 3'\n\\item 'D \\_ 4'\n\\item 'E \\_ 5'\n\\item 'F \\_ 6'\n\\item 'G \\_ 7'\n\\item 'H \\_ 8'\n\\item 'I \\_ 9'\n\\item 'J \\_ 10'\n\\item 'K \\_ 11'\n\\item 'L \\_ 12'\n\\item 'M \\_ 13'\n\\item 'N \\_ 14'\n\\item 'O \\_ 15'\n\\item 'P \\_ 16'\n\\item 'Q \\_ 17'\n\\item 'R \\_ 18'\n\\item 'S \\_ 19'\n\\item 'T \\_ 20'\n\\item 'U \\_ 21'\n\\item 'V \\_ 22'\n\\item 'W \\_ 23'\n\\item 'X \\_ 24'\n\\item 'Y \\_ 25'\n\\item 'Z \\_ 26'\n\\end{enumerate*}\n",
            "text/plain": [
              " [1] \"A _ 1\"  \"B _ 2\"  \"C _ 3\"  \"D _ 4\"  \"E _ 5\"  \"F _ 6\"  \"G _ 7\"  \"H _ 8\" \n",
              " [9] \"I _ 9\"  \"J _ 10\" \"K _ 11\" \"L _ 12\" \"M _ 13\" \"N _ 14\" \"O _ 15\" \"P _ 16\"\n",
              "[17] \"Q _ 17\" \"R _ 18\" \"S _ 19\" \"T _ 20\" \"U _ 21\" \"V _ 22\" \"W _ 23\" \"X _ 24\"\n",
              "[25] \"Y _ 25\" \"Z _ 26\""
            ]
          },
          "metadata": {}
        }
      ]
    },
    {
      "cell_type": "markdown",
      "source": [
        "Zadanie 16: Napisz program wybierajacy drugi element z podanej listy zagniezdzonej."
      ],
      "metadata": {
        "id": "XmYRG0D_QvyE"
      }
    },
    {
      "cell_type": "code",
      "source": [
        "lista <- c(1,2,3)\n",
        "lista1 <- c(11,22,33)\n",
        "lista2 <- c(111,222,333)\n",
        "lista_nest <- list(lista,lista1,lista2)\n",
        "lista_nest[[2]]"
      ],
      "metadata": {
        "id": "VyYwKyxcYyE2",
        "colab": {
          "base_uri": "https://localhost:8080/",
          "height": 34
        },
        "outputId": "3b8ffea6-03af-48cb-e8e0-b6ff6f390ec4"
      },
      "execution_count": null,
      "outputs": [
        {
          "output_type": "display_data",
          "data": {
            "text/html": [
              "<style>\n",
              ".list-inline {list-style: none; margin:0; padding: 0}\n",
              ".list-inline>li {display: inline-block}\n",
              ".list-inline>li:not(:last-child)::after {content: \"\\00b7\"; padding: 0 .5ex}\n",
              "</style>\n",
              "<ol class=list-inline><li>11</li><li>22</li><li>33</li></ol>\n"
            ],
            "text/markdown": "1. 11\n2. 22\n3. 33\n\n\n",
            "text/latex": "\\begin{enumerate*}\n\\item 11\n\\item 22\n\\item 33\n\\end{enumerate*}\n",
            "text/plain": [
              "[1] 11 22 33"
            ]
          },
          "metadata": {}
        }
      ]
    },
    {
      "cell_type": "markdown",
      "source": [
        "Zadanie 17: Napisz program, ktory utworzy liste zawierajaca wektor i liste oraz zaktualizuje ostatni element."
      ],
      "metadata": {
        "id": "AVQGCeLIQxEk"
      }
    },
    {
      "cell_type": "code",
      "source": [
        "wektor <- c(1,2,3)\n",
        "lista <- list(4,5,6)\n",
        "\n",
        "new_list <- list(wektor,lista)\n",
        "new_list\n",
        "\n",
        "new_list[[2]][3] <- 7\n",
        "new_list"
      ],
      "metadata": {
        "id": "zevt_kjiYyRN",
        "colab": {
          "base_uri": "https://localhost:8080/",
          "height": 198
        },
        "outputId": "4a183e7e-a2c0-419f-bd7b-f8434ad7be97"
      },
      "execution_count": null,
      "outputs": [
        {
          "output_type": "display_data",
          "data": {
            "text/html": [
              "<ol>\n",
              "\t<li><style>\n",
              ".list-inline {list-style: none; margin:0; padding: 0}\n",
              ".list-inline>li {display: inline-block}\n",
              ".list-inline>li:not(:last-child)::after {content: \"\\00b7\"; padding: 0 .5ex}\n",
              "</style>\n",
              "<ol class=list-inline><li>1</li><li>2</li><li>3</li></ol>\n",
              "</li>\n",
              "\t<li><ol>\n",
              "\t<li>4</li>\n",
              "\t<li>5</li>\n",
              "\t<li>6</li>\n",
              "</ol>\n",
              "</li>\n",
              "</ol>\n"
            ],
            "text/markdown": "1. 1. 1\n2. 2\n3. 3\n\n\n\n2. 1. 4\n2. 5\n3. 6\n\n\n\n\n\n",
            "text/latex": "\\begin{enumerate}\n\\item \\begin{enumerate*}\n\\item 1\n\\item 2\n\\item 3\n\\end{enumerate*}\n\n\\item \\begin{enumerate}\n\\item 4\n\\item 5\n\\item 6\n\\end{enumerate}\n\n\\end{enumerate}\n",
            "text/plain": [
              "[[1]]\n",
              "[1] 1 2 3\n",
              "\n",
              "[[2]]\n",
              "[[2]][[1]]\n",
              "[1] 4\n",
              "\n",
              "[[2]][[2]]\n",
              "[1] 5\n",
              "\n",
              "[[2]][[3]]\n",
              "[1] 6\n",
              "\n"
            ]
          },
          "metadata": {}
        },
        {
          "output_type": "display_data",
          "data": {
            "text/html": [
              "<ol>\n",
              "\t<li><style>\n",
              ".list-inline {list-style: none; margin:0; padding: 0}\n",
              ".list-inline>li {display: inline-block}\n",
              ".list-inline>li:not(:last-child)::after {content: \"\\00b7\"; padding: 0 .5ex}\n",
              "</style>\n",
              "<ol class=list-inline><li>1</li><li>2</li><li>3</li></ol>\n",
              "</li>\n",
              "\t<li><ol>\n",
              "\t<li>4</li>\n",
              "\t<li>5</li>\n",
              "\t<li>7</li>\n",
              "</ol>\n",
              "</li>\n",
              "</ol>\n"
            ],
            "text/markdown": "1. 1. 1\n2. 2\n3. 3\n\n\n\n2. 1. 4\n2. 5\n3. 7\n\n\n\n\n\n",
            "text/latex": "\\begin{enumerate}\n\\item \\begin{enumerate*}\n\\item 1\n\\item 2\n\\item 3\n\\end{enumerate*}\n\n\\item \\begin{enumerate}\n\\item 4\n\\item 5\n\\item 7\n\\end{enumerate}\n\n\\end{enumerate}\n",
            "text/plain": [
              "[[1]]\n",
              "[1] 1 2 3\n",
              "\n",
              "[[2]]\n",
              "[[2]][[1]]\n",
              "[1] 4\n",
              "\n",
              "[[2]][[2]]\n",
              "[1] 5\n",
              "\n",
              "[[2]][[3]]\n",
              "[1] 7\n",
              "\n"
            ]
          },
          "metadata": {}
        }
      ]
    },
    {
      "cell_type": "markdown",
      "source": [
        "Zadanie 18: Napisz program, ktory scali dwie podane listy w jedna liste."
      ],
      "metadata": {
        "id": "KgjXOPrDQyZU"
      }
    },
    {
      "cell_type": "code",
      "source": [
        "list1 <- list(1,2,3)\n",
        "list2 <- list(4,5,6)\n",
        "\n",
        "# lub unlist(list(list1,list2))\n",
        "list_c <- c(list1,list2)\n",
        "list_c"
      ],
      "metadata": {
        "id": "tKWlfn1yYyeF",
        "colab": {
          "base_uri": "https://localhost:8080/",
          "height": 149
        },
        "outputId": "c6e10aa0-96ba-4e95-84b8-95165f69bbf6"
      },
      "execution_count": null,
      "outputs": [
        {
          "output_type": "display_data",
          "data": {
            "text/html": [
              "<ol>\n",
              "\t<li>1</li>\n",
              "\t<li>2</li>\n",
              "\t<li>3</li>\n",
              "\t<li>4</li>\n",
              "\t<li>5</li>\n",
              "\t<li>6</li>\n",
              "</ol>\n"
            ],
            "text/markdown": "1. 1\n2. 2\n3. 3\n4. 4\n5. 5\n6. 6\n\n\n",
            "text/latex": "\\begin{enumerate}\n\\item 1\n\\item 2\n\\item 3\n\\item 4\n\\item 5\n\\item 6\n\\end{enumerate}\n",
            "text/plain": [
              "[[1]]\n",
              "[1] 1\n",
              "\n",
              "[[2]]\n",
              "[1] 2\n",
              "\n",
              "[[3]]\n",
              "[1] 3\n",
              "\n",
              "[[4]]\n",
              "[1] 4\n",
              "\n",
              "[[5]]\n",
              "[1] 5\n",
              "\n",
              "[[6]]\n",
              "[1] 6\n"
            ]
          },
          "metadata": {}
        }
      ]
    },
    {
      "cell_type": "markdown",
      "source": [
        "Zadanie 19: Napisz program konwertujacy dana liste na wektor."
      ],
      "metadata": {
        "id": "mXWhZwLsQzlF"
      }
    },
    {
      "cell_type": "code",
      "source": [
        "lista <- list(1,2,3)\n",
        "\n",
        "# lub new_list <- as.vector(lista)\n",
        "new_list <- unlist(lista)\n",
        "new_list"
      ],
      "metadata": {
        "id": "VV3cu5lPYysd",
        "colab": {
          "base_uri": "https://localhost:8080/",
          "height": 52
        },
        "outputId": "4ab97382-e672-4bb8-ee04-1f74739305c0"
      },
      "execution_count": null,
      "outputs": [
        {
          "output_type": "display_data",
          "data": {
            "text/html": [
              "<style>\n",
              ".list-inline {list-style: none; margin:0; padding: 0}\n",
              ".list-inline>li {display: inline-block}\n",
              ".list-inline>li:not(:last-child)::after {content: \"\\00b7\"; padding: 0 .5ex}\n",
              "</style>\n",
              "<ol class=list-inline><li>1</li><li>2</li><li>3</li></ol>\n"
            ],
            "text/markdown": "1. 1\n2. 2\n3. 3\n\n\n",
            "text/latex": "\\begin{enumerate*}\n\\item 1\n\\item 2\n\\item 3\n\\end{enumerate*}\n",
            "text/plain": [
              "[1] 1 2 3"
            ]
          },
          "metadata": {}
        },
        {
          "output_type": "display_data",
          "data": {
            "text/html": [
              "'double'"
            ],
            "text/markdown": "'double'",
            "text/latex": "'double'",
            "text/plain": [
              "[1] \"double\""
            ]
          },
          "metadata": {}
        }
      ]
    },
    {
      "cell_type": "markdown",
      "source": [
        "Zadanie 20: Napisz program, ktory zliczy liczbe obiektow w liscie."
      ],
      "metadata": {
        "id": "3973THmTQ04F"
      }
    },
    {
      "cell_type": "code",
      "source": [
        "lista <- list(1, 2, 3, 4, 5, c(\"a\", \"b\"), data.frame(x = 1:3, y = 4:6), TRUE)\n",
        "\n",
        "liczba_obiektow <- sapply(lista, function(x) length(x))\n",
        "liczba_obiektow"
      ],
      "metadata": {
        "colab": {
          "base_uri": "https://localhost:8080/",
          "height": 52
        },
        "id": "2qrSRcwe-XpN",
        "outputId": "3ca7f266-c972-488c-8873-9b2a799962cd"
      },
      "execution_count": null,
      "outputs": [
        {
          "output_type": "display_data",
          "data": {
            "text/html": [
              "8"
            ],
            "text/markdown": "8",
            "text/latex": "8",
            "text/plain": [
              "[1] 8"
            ]
          },
          "metadata": {}
        },
        {
          "output_type": "display_data",
          "data": {
            "text/html": [
              "<style>\n",
              ".list-inline {list-style: none; margin:0; padding: 0}\n",
              ".list-inline>li {display: inline-block}\n",
              ".list-inline>li:not(:last-child)::after {content: \"\\00b7\"; padding: 0 .5ex}\n",
              "</style>\n",
              "<ol class=list-inline><li>1</li><li>1</li><li>1</li><li>1</li><li>1</li><li>2</li><li>2</li><li>1</li></ol>\n"
            ],
            "text/markdown": "1. 1\n2. 1\n3. 1\n4. 1\n5. 1\n6. 2\n7. 2\n8. 1\n\n\n",
            "text/latex": "\\begin{enumerate*}\n\\item 1\n\\item 1\n\\item 1\n\\item 1\n\\item 1\n\\item 2\n\\item 2\n\\item 1\n\\end{enumerate*}\n",
            "text/plain": [
              "[1] 1 1 1 1 1 2 2 1"
            ]
          },
          "metadata": {}
        }
      ]
    },
    {
      "cell_type": "markdown",
      "source": [
        "Zadanie 21: Napisz program, ktory przypisze wartosc NULL do danego elementu listy."
      ],
      "metadata": {
        "id": "GlRZaabLQ2T9"
      }
    },
    {
      "cell_type": "code",
      "source": [
        "lista <- list(1,2,3,4,5)\n",
        "lista[[1]] <- NULL\n",
        "lista"
      ],
      "metadata": {
        "id": "A-FZVaU1YzLG",
        "colab": {
          "base_uri": "https://localhost:8080/",
          "height": 114
        },
        "outputId": "a55421a0-6dec-4187-8e50-ffb20ef5206f"
      },
      "execution_count": null,
      "outputs": [
        {
          "output_type": "display_data",
          "data": {
            "text/html": [
              "<ol>\n",
              "\t<li>2</li>\n",
              "\t<li>3</li>\n",
              "\t<li>4</li>\n",
              "\t<li>5</li>\n",
              "</ol>\n"
            ],
            "text/markdown": "1. 2\n2. 3\n3. 4\n4. 5\n\n\n",
            "text/latex": "\\begin{enumerate}\n\\item 2\n\\item 3\n\\item 4\n\\item 5\n\\end{enumerate}\n",
            "text/plain": [
              "[[1]]\n",
              "[1] 2\n",
              "\n",
              "[[2]]\n",
              "[1] 3\n",
              "\n",
              "[[3]]\n",
              "[1] 4\n",
              "\n",
              "[[4]]\n",
              "[1] 5\n"
            ]
          },
          "metadata": {}
        }
      ]
    },
    {
      "cell_type": "markdown",
      "source": [
        "Zadanie 22: Napisz program, ktory doda 10 do kazdego elementu pierwszego wektora na podanej liscie.\n"
      ],
      "metadata": {
        "id": "9ZsALfHRQ3zE"
      }
    },
    {
      "cell_type": "code",
      "source": [
        "lista <- list(c(1:5), c(10:15), c(20:25))\n",
        "lista[[1]] <- lista[[1]] + 10\n",
        "\n",
        "lista"
      ],
      "metadata": {
        "id": "6SUrm4uXYzYt",
        "colab": {
          "base_uri": "https://localhost:8080/",
          "height": 97
        },
        "outputId": "662f783e-09c4-476b-876f-9a17efdcec33"
      },
      "execution_count": null,
      "outputs": [
        {
          "output_type": "display_data",
          "data": {
            "text/html": [
              "<ol>\n",
              "\t<li><style>\n",
              ".list-inline {list-style: none; margin:0; padding: 0}\n",
              ".list-inline>li {display: inline-block}\n",
              ".list-inline>li:not(:last-child)::after {content: \"\\00b7\"; padding: 0 .5ex}\n",
              "</style>\n",
              "<ol class=list-inline><li>11</li><li>12</li><li>13</li><li>14</li><li>15</li></ol>\n",
              "</li>\n",
              "\t<li><style>\n",
              ".list-inline {list-style: none; margin:0; padding: 0}\n",
              ".list-inline>li {display: inline-block}\n",
              ".list-inline>li:not(:last-child)::after {content: \"\\00b7\"; padding: 0 .5ex}\n",
              "</style>\n",
              "<ol class=list-inline><li>10</li><li>11</li><li>12</li><li>13</li><li>14</li><li>15</li></ol>\n",
              "</li>\n",
              "\t<li><style>\n",
              ".list-inline {list-style: none; margin:0; padding: 0}\n",
              ".list-inline>li {display: inline-block}\n",
              ".list-inline>li:not(:last-child)::after {content: \"\\00b7\"; padding: 0 .5ex}\n",
              "</style>\n",
              "<ol class=list-inline><li>20</li><li>21</li><li>22</li><li>23</li><li>24</li><li>25</li></ol>\n",
              "</li>\n",
              "</ol>\n"
            ],
            "text/markdown": "1. 1. 11\n2. 12\n3. 13\n4. 14\n5. 15\n\n\n\n2. 1. 10\n2. 11\n3. 12\n4. 13\n5. 14\n6. 15\n\n\n\n3. 1. 20\n2. 21\n3. 22\n4. 23\n5. 24\n6. 25\n\n\n\n\n\n",
            "text/latex": "\\begin{enumerate}\n\\item \\begin{enumerate*}\n\\item 11\n\\item 12\n\\item 13\n\\item 14\n\\item 15\n\\end{enumerate*}\n\n\\item \\begin{enumerate*}\n\\item 10\n\\item 11\n\\item 12\n\\item 13\n\\item 14\n\\item 15\n\\end{enumerate*}\n\n\\item \\begin{enumerate*}\n\\item 20\n\\item 21\n\\item 22\n\\item 23\n\\item 24\n\\item 25\n\\end{enumerate*}\n\n\\end{enumerate}\n",
            "text/plain": [
              "[[1]]\n",
              "[1] 11 12 13 14 15\n",
              "\n",
              "[[2]]\n",
              "[1] 10 11 12 13 14 15\n",
              "\n",
              "[[3]]\n",
              "[1] 20 21 22 23 24 25\n"
            ]
          },
          "metadata": {}
        }
      ]
    },
    {
      "cell_type": "markdown",
      "source": [
        "Zadanie 23: Napisz program, aby uzyskac dlugosc pierwszych dwoch wektorow z danej listy."
      ],
      "metadata": {
        "id": "NH3TBiS4Q449"
      }
    },
    {
      "cell_type": "code",
      "source": [
        "lista <- list(c(1:5), c(10:15), c(20:25))\n",
        "length(lista[[1]])\n",
        "length(lista[[2]])"
      ],
      "metadata": {
        "id": "0fQL3sHFYzl1",
        "colab": {
          "base_uri": "https://localhost:8080/",
          "height": 52
        },
        "outputId": "bd2430b3-3580-44fd-cce6-ed8b7e683d49"
      },
      "execution_count": null,
      "outputs": [
        {
          "output_type": "display_data",
          "data": {
            "text/html": [
              "5"
            ],
            "text/markdown": "5",
            "text/latex": "5",
            "text/plain": [
              "[1] 5"
            ]
          },
          "metadata": {}
        },
        {
          "output_type": "display_data",
          "data": {
            "text/html": [
              "6"
            ],
            "text/markdown": "6",
            "text/latex": "6",
            "text/plain": [
              "[1] 6"
            ]
          },
          "metadata": {}
        }
      ]
    },
    {
      "cell_type": "markdown",
      "source": [
        "Zadanie 24: Napisz program, ktory znajdzie wszystkie elementy danej listy, ktorych nie ma na innej podanej liscie."
      ],
      "metadata": {
        "id": "LNl3XiNoQ6Zk"
      }
    },
    {
      "cell_type": "code",
      "source": [
        "lista1 <- list(1,2,3,4,5)\n",
        "lista2 <- list(3,4,5,6)\n",
        "\n",
        "setdiff(lista1,lista2)"
      ],
      "metadata": {
        "id": "Qp-8cEBwYzxm",
        "colab": {
          "base_uri": "https://localhost:8080/",
          "height": 80
        },
        "outputId": "38831bfc-0c52-48b1-c417-01b5648b4098"
      },
      "execution_count": null,
      "outputs": [
        {
          "output_type": "display_data",
          "data": {
            "text/html": [
              "<ol>\n",
              "\t<li>1</li>\n",
              "\t<li>2</li>\n",
              "</ol>\n"
            ],
            "text/markdown": "1. 1\n2. 2\n\n\n",
            "text/latex": "\\begin{enumerate}\n\\item 1\n\\item 2\n\\end{enumerate}\n",
            "text/plain": [
              "[[1]]\n",
              "[1] 1\n",
              "\n",
              "[[2]]\n",
              "[1] 2\n"
            ]
          },
          "metadata": {}
        }
      ]
    },
    {
      "cell_type": "markdown",
      "source": [
        "Zadanie 25:\n",
        "\n",
        "a) Wysymuluj z powtorzeniami 10 liczb z wektora od 1 do 10 (seed = 666).\n",
        "\n",
        "b) Przeksztalc wektor z punktu a) na 10-elementowa liste.\n",
        "\n",
        "c) Dla kazdego elementu listy wysumuluj \"n\" liczb z rozkladu rownomiernego (seed = 666), gdzie \"n\" jest liczba obecnie znajdujaca sie w elemencie listy.\n",
        "\n",
        "d) Dokonaj zlaczenia elementow listy w jeden wektor."
      ],
      "metadata": {
        "id": "UKFRRdxzQ74E"
      }
    },
    {
      "cell_type": "code",
      "source": [
        "set.seed(666)\n",
        "\n",
        "x <- sample(1:10, 10, TRUE)\n",
        "x\n",
        "\n",
        "listx <- as.list(x)\n",
        "listx\n",
        "\n",
        "for(i in 1:length(listx)){\n",
        "  listx[[i]] <- runif(listx[[i]], 0, 1)\n",
        "}\n",
        "\n",
        "listx\n",
        "\n",
        "wektor <- unlist(listx)\n",
        "wektor\n"
      ],
      "metadata": {
        "id": "a4s2dWHXYz-m",
        "colab": {
          "base_uri": "https://localhost:8080/",
          "height": 510
        },
        "outputId": "a977ca7a-f5d8-4117-fd2e-7bb10300f5b3"
      },
      "execution_count": null,
      "outputs": [
        {
          "output_type": "display_data",
          "data": {
            "text/html": [
              "<style>\n",
              ".list-inline {list-style: none; margin:0; padding: 0}\n",
              ".list-inline>li {display: inline-block}\n",
              ".list-inline>li:not(:last-child)::after {content: \"\\00b7\"; padding: 0 .5ex}\n",
              "</style>\n",
              "<ol class=list-inline><li>5</li><li>9</li><li>1</li><li>2</li><li>3</li><li>5</li><li>3</li><li>6</li><li>8</li><li>7</li></ol>\n"
            ],
            "text/markdown": "1. 5\n2. 9\n3. 1\n4. 2\n5. 3\n6. 5\n7. 3\n8. 6\n9. 8\n10. 7\n\n\n",
            "text/latex": "\\begin{enumerate*}\n\\item 5\n\\item 9\n\\item 1\n\\item 2\n\\item 3\n\\item 5\n\\item 3\n\\item 6\n\\item 8\n\\item 7\n\\end{enumerate*}\n",
            "text/plain": [
              " [1] 5 9 1 2 3 5 3 6 8 7"
            ]
          },
          "metadata": {}
        },
        {
          "output_type": "display_data",
          "data": {
            "text/html": [
              "<ol>\n",
              "\t<li>5</li>\n",
              "\t<li>9</li>\n",
              "\t<li>1</li>\n",
              "\t<li>2</li>\n",
              "\t<li>3</li>\n",
              "\t<li>5</li>\n",
              "\t<li>3</li>\n",
              "\t<li>6</li>\n",
              "\t<li>8</li>\n",
              "\t<li>7</li>\n",
              "</ol>\n"
            ],
            "text/markdown": "1. 5\n2. 9\n3. 1\n4. 2\n5. 3\n6. 5\n7. 3\n8. 6\n9. 8\n10. 7\n\n\n",
            "text/latex": "\\begin{enumerate}\n\\item 5\n\\item 9\n\\item 1\n\\item 2\n\\item 3\n\\item 5\n\\item 3\n\\item 6\n\\item 8\n\\item 7\n\\end{enumerate}\n",
            "text/plain": [
              "[[1]]\n",
              "[1] 5\n",
              "\n",
              "[[2]]\n",
              "[1] 9\n",
              "\n",
              "[[3]]\n",
              "[1] 1\n",
              "\n",
              "[[4]]\n",
              "[1] 2\n",
              "\n",
              "[[5]]\n",
              "[1] 3\n",
              "\n",
              "[[6]]\n",
              "[1] 5\n",
              "\n",
              "[[7]]\n",
              "[1] 3\n",
              "\n",
              "[[8]]\n",
              "[1] 6\n",
              "\n",
              "[[9]]\n",
              "[1] 8\n",
              "\n",
              "[[10]]\n",
              "[1] 7\n"
            ]
          },
          "metadata": {}
        },
        {
          "output_type": "display_data",
          "data": {
            "text/html": [
              "<ol>\n",
              "\t<li><style>\n",
              ".list-inline {list-style: none; margin:0; padding: 0}\n",
              ".list-inline>li {display: inline-block}\n",
              ".list-inline>li:not(:last-child)::after {content: \"\\00b7\"; padding: 0 .5ex}\n",
              "</style>\n",
              "<ol class=list-inline><li>0.601345547009259</li><li>0.038344347383827</li><li>0.141495691146702</li><li>0.806385525269434</li><li>0.26668567629531</li></ol>\n",
              "</li>\n",
              "\t<li><style>\n",
              ".list-inline {list-style: none; margin:0; padding: 0}\n",
              ".list-inline>li {display: inline-block}\n",
              ".list-inline>li:not(:last-child)::after {content: \"\\00b7\"; padding: 0 .5ex}\n",
              "</style>\n",
              "<ol class=list-inline><li>0.0427020508795977</li><li>0.612174522364512</li><li>0.55334839806892</li><li>0.853500765282661</li><li>0.46977853984572</li><li>0.397616561036557</li><li>0.804636733606458</li><li>0.508897385094315</li><li>0.634915353730321</li></ol>\n",
              "</li>\n",
              "\t<li>0.494251721305773</li>\n",
              "\t<li><style>\n",
              ".list-inline {list-style: none; margin:0; padding: 0}\n",
              ".list-inline>li {display: inline-block}\n",
              ".list-inline>li:not(:last-child)::after {content: \"\\00b7\"; padding: 0 .5ex}\n",
              "</style>\n",
              "<ol class=list-inline><li>0.280130898812786</li><li>0.908710354240611</li></ol>\n",
              "</li>\n",
              "\t<li><style>\n",
              ".list-inline {list-style: none; margin:0; padding: 0}\n",
              ".list-inline>li {display: inline-block}\n",
              ".list-inline>li:not(:last-child)::after {content: \"\\00b7\"; padding: 0 .5ex}\n",
              "</style>\n",
              "<ol class=list-inline><li>0.784116157796234</li><li>0.558997022453696</li><li>0.244437489192933</li></ol>\n",
              "</li>\n",
              "\t<li><style>\n",
              ".list-inline {list-style: none; margin:0; padding: 0}\n",
              ".list-inline>li {display: inline-block}\n",
              ".list-inline>li:not(:last-child)::after {content: \"\\00b7\"; padding: 0 .5ex}\n",
              "</style>\n",
              "<ol class=list-inline><li>0.530970655148849</li><li>0.118395942030475</li><li>0.983383433427662</li><li>0.897752843564376</li><li>0.738573762821034</li></ol>\n",
              "</li>\n",
              "\t<li><style>\n",
              ".list-inline {list-style: none; margin:0; padding: 0}\n",
              ".list-inline>li {display: inline-block}\n",
              ".list-inline>li:not(:last-child)::after {content: \"\\00b7\"; padding: 0 .5ex}\n",
              "</style>\n",
              "<ol class=list-inline><li>0.377310696756467</li><li>0.606168830534443</li><li>0.512194261653349</li></ol>\n",
              "</li>\n",
              "\t<li><style>\n",
              ".list-inline {list-style: none; margin:0; padding: 0}\n",
              ".list-inline>li {display: inline-block}\n",
              ".list-inline>li:not(:last-child)::after {content: \"\\00b7\"; padding: 0 .5ex}\n",
              "</style>\n",
              "<ol class=list-inline><li>0.989246659679338</li><li>0.0691335855517536</li><li>0.0846206257119775</li><li>0.129945571534336</li><li>0.74613202130422</li><li>0.0388791817240417</li></ol>\n",
              "</li>\n",
              "\t<li><style>\n",
              ".list-inline {list-style: none; margin:0; padding: 0}\n",
              ".list-inline>li {display: inline-block}\n",
              ".list-inline>li:not(:last-child)::after {content: \"\\00b7\"; padding: 0 .5ex}\n",
              "</style>\n",
              "<ol class=list-inline><li>0.685635416535661</li><li>0.143977361498401</li><li>0.891079957829788</li><li>0.0896361162886024</li><li>0.0377327192109078</li><li>0.774874358670786</li><li>0.812063878169283</li><li>0.260602545691654</li></ol>\n",
              "</li>\n",
              "\t<li><style>\n",
              ".list-inline {list-style: none; margin:0; padding: 0}\n",
              ".list-inline>li {display: inline-block}\n",
              ".list-inline>li:not(:last-child)::after {content: \"\\00b7\"; padding: 0 .5ex}\n",
              "</style>\n",
              "<ol class=list-inline><li>0.651594998314977</li><li>0.923803851008415</li><li>0.266106120776385</li><li>0.266132987104356</li><li>0.9109178960789</li><li>0.590563533129171</li><li>0.918147645192221</li></ol>\n",
              "</li>\n",
              "</ol>\n"
            ],
            "text/markdown": "1. 1. 0.601345547009259\n2. 0.038344347383827\n3. 0.141495691146702\n4. 0.806385525269434\n5. 0.26668567629531\n\n\n\n2. 1. 0.0427020508795977\n2. 0.612174522364512\n3. 0.55334839806892\n4. 0.853500765282661\n5. 0.46977853984572\n6. 0.397616561036557\n7. 0.804636733606458\n8. 0.508897385094315\n9. 0.634915353730321\n\n\n\n3. 0.494251721305773\n4. 1. 0.280130898812786\n2. 0.908710354240611\n\n\n\n5. 1. 0.784116157796234\n2. 0.558997022453696\n3. 0.244437489192933\n\n\n\n6. 1. 0.530970655148849\n2. 0.118395942030475\n3. 0.983383433427662\n4. 0.897752843564376\n5. 0.738573762821034\n\n\n\n7. 1. 0.377310696756467\n2. 0.606168830534443\n3. 0.512194261653349\n\n\n\n8. 1. 0.989246659679338\n2. 0.0691335855517536\n3. 0.0846206257119775\n4. 0.129945571534336\n5. 0.74613202130422\n6. 0.0388791817240417\n\n\n\n9. 1. 0.685635416535661\n2. 0.143977361498401\n3. 0.891079957829788\n4. 0.0896361162886024\n5. 0.0377327192109078\n6. 0.774874358670786\n7. 0.812063878169283\n8. 0.260602545691654\n\n\n\n10. 1. 0.651594998314977\n2. 0.923803851008415\n3. 0.266106120776385\n4. 0.266132987104356\n5. 0.9109178960789\n6. 0.590563533129171\n7. 0.918147645192221\n\n\n\n\n\n",
            "text/latex": "\\begin{enumerate}\n\\item \\begin{enumerate*}\n\\item 0.601345547009259\n\\item 0.038344347383827\n\\item 0.141495691146702\n\\item 0.806385525269434\n\\item 0.26668567629531\n\\end{enumerate*}\n\n\\item \\begin{enumerate*}\n\\item 0.0427020508795977\n\\item 0.612174522364512\n\\item 0.55334839806892\n\\item 0.853500765282661\n\\item 0.46977853984572\n\\item 0.397616561036557\n\\item 0.804636733606458\n\\item 0.508897385094315\n\\item 0.634915353730321\n\\end{enumerate*}\n\n\\item 0.494251721305773\n\\item \\begin{enumerate*}\n\\item 0.280130898812786\n\\item 0.908710354240611\n\\end{enumerate*}\n\n\\item \\begin{enumerate*}\n\\item 0.784116157796234\n\\item 0.558997022453696\n\\item 0.244437489192933\n\\end{enumerate*}\n\n\\item \\begin{enumerate*}\n\\item 0.530970655148849\n\\item 0.118395942030475\n\\item 0.983383433427662\n\\item 0.897752843564376\n\\item 0.738573762821034\n\\end{enumerate*}\n\n\\item \\begin{enumerate*}\n\\item 0.377310696756467\n\\item 0.606168830534443\n\\item 0.512194261653349\n\\end{enumerate*}\n\n\\item \\begin{enumerate*}\n\\item 0.989246659679338\n\\item 0.0691335855517536\n\\item 0.0846206257119775\n\\item 0.129945571534336\n\\item 0.74613202130422\n\\item 0.0388791817240417\n\\end{enumerate*}\n\n\\item \\begin{enumerate*}\n\\item 0.685635416535661\n\\item 0.143977361498401\n\\item 0.891079957829788\n\\item 0.0896361162886024\n\\item 0.0377327192109078\n\\item 0.774874358670786\n\\item 0.812063878169283\n\\item 0.260602545691654\n\\end{enumerate*}\n\n\\item \\begin{enumerate*}\n\\item 0.651594998314977\n\\item 0.923803851008415\n\\item 0.266106120776385\n\\item 0.266132987104356\n\\item 0.9109178960789\n\\item 0.590563533129171\n\\item 0.918147645192221\n\\end{enumerate*}\n\n\\end{enumerate}\n",
            "text/plain": [
              "[[1]]\n",
              "[1] 0.60134555 0.03834435 0.14149569 0.80638553 0.26668568\n",
              "\n",
              "[[2]]\n",
              "[1] 0.04270205 0.61217452 0.55334840 0.85350077 0.46977854 0.39761656 0.80463673\n",
              "[8] 0.50889739 0.63491535\n",
              "\n",
              "[[3]]\n",
              "[1] 0.4942517\n",
              "\n",
              "[[4]]\n",
              "[1] 0.2801309 0.9087104\n",
              "\n",
              "[[5]]\n",
              "[1] 0.7841162 0.5589970 0.2444375\n",
              "\n",
              "[[6]]\n",
              "[1] 0.5309707 0.1183959 0.9833834 0.8977528 0.7385738\n",
              "\n",
              "[[7]]\n",
              "[1] 0.3773107 0.6061688 0.5121943\n",
              "\n",
              "[[8]]\n",
              "[1] 0.98924666 0.06913359 0.08462063 0.12994557 0.74613202 0.03887918\n",
              "\n",
              "[[9]]\n",
              "[1] 0.68563542 0.14397736 0.89107996 0.08963612 0.03773272 0.77487436 0.81206388\n",
              "[8] 0.26060255\n",
              "\n",
              "[[10]]\n",
              "[1] 0.6515950 0.9238039 0.2661061 0.2661330 0.9109179 0.5905635 0.9181476\n"
            ]
          },
          "metadata": {}
        },
        {
          "output_type": "display_data",
          "data": {
            "text/html": [
              "<style>\n",
              ".list-inline {list-style: none; margin:0; padding: 0}\n",
              ".list-inline>li {display: inline-block}\n",
              ".list-inline>li:not(:last-child)::after {content: \"\\00b7\"; padding: 0 .5ex}\n",
              "</style>\n",
              "<ol class=list-inline><li>0.601345547009259</li><li>0.038344347383827</li><li>0.141495691146702</li><li>0.806385525269434</li><li>0.26668567629531</li><li>0.0427020508795977</li><li>0.612174522364512</li><li>0.55334839806892</li><li>0.853500765282661</li><li>0.46977853984572</li><li>0.397616561036557</li><li>0.804636733606458</li><li>0.508897385094315</li><li>0.634915353730321</li><li>0.494251721305773</li><li>0.280130898812786</li><li>0.908710354240611</li><li>0.784116157796234</li><li>0.558997022453696</li><li>0.244437489192933</li><li>0.530970655148849</li><li>0.118395942030475</li><li>0.983383433427662</li><li>0.897752843564376</li><li>0.738573762821034</li><li>0.377310696756467</li><li>0.606168830534443</li><li>0.512194261653349</li><li>0.989246659679338</li><li>0.0691335855517536</li><li>0.0846206257119775</li><li>0.129945571534336</li><li>0.74613202130422</li><li>0.0388791817240417</li><li>0.685635416535661</li><li>0.143977361498401</li><li>0.891079957829788</li><li>0.0896361162886024</li><li>0.0377327192109078</li><li>0.774874358670786</li><li>0.812063878169283</li><li>0.260602545691654</li><li>0.651594998314977</li><li>0.923803851008415</li><li>0.266106120776385</li><li>0.266132987104356</li><li>0.9109178960789</li><li>0.590563533129171</li><li>0.918147645192221</li></ol>\n"
            ],
            "text/markdown": "1. 0.601345547009259\n2. 0.038344347383827\n3. 0.141495691146702\n4. 0.806385525269434\n5. 0.26668567629531\n6. 0.0427020508795977\n7. 0.612174522364512\n8. 0.55334839806892\n9. 0.853500765282661\n10. 0.46977853984572\n11. 0.397616561036557\n12. 0.804636733606458\n13. 0.508897385094315\n14. 0.634915353730321\n15. 0.494251721305773\n16. 0.280130898812786\n17. 0.908710354240611\n18. 0.784116157796234\n19. 0.558997022453696\n20. 0.244437489192933\n21. 0.530970655148849\n22. 0.118395942030475\n23. 0.983383433427662\n24. 0.897752843564376\n25. 0.738573762821034\n26. 0.377310696756467\n27. 0.606168830534443\n28. 0.512194261653349\n29. 0.989246659679338\n30. 0.0691335855517536\n31. 0.0846206257119775\n32. 0.129945571534336\n33. 0.74613202130422\n34. 0.0388791817240417\n35. 0.685635416535661\n36. 0.143977361498401\n37. 0.891079957829788\n38. 0.0896361162886024\n39. 0.0377327192109078\n40. 0.774874358670786\n41. 0.812063878169283\n42. 0.260602545691654\n43. 0.651594998314977\n44. 0.923803851008415\n45. 0.266106120776385\n46. 0.266132987104356\n47. 0.9109178960789\n48. 0.590563533129171\n49. 0.918147645192221\n\n\n",
            "text/latex": "\\begin{enumerate*}\n\\item 0.601345547009259\n\\item 0.038344347383827\n\\item 0.141495691146702\n\\item 0.806385525269434\n\\item 0.26668567629531\n\\item 0.0427020508795977\n\\item 0.612174522364512\n\\item 0.55334839806892\n\\item 0.853500765282661\n\\item 0.46977853984572\n\\item 0.397616561036557\n\\item 0.804636733606458\n\\item 0.508897385094315\n\\item 0.634915353730321\n\\item 0.494251721305773\n\\item 0.280130898812786\n\\item 0.908710354240611\n\\item 0.784116157796234\n\\item 0.558997022453696\n\\item 0.244437489192933\n\\item 0.530970655148849\n\\item 0.118395942030475\n\\item 0.983383433427662\n\\item 0.897752843564376\n\\item 0.738573762821034\n\\item 0.377310696756467\n\\item 0.606168830534443\n\\item 0.512194261653349\n\\item 0.989246659679338\n\\item 0.0691335855517536\n\\item 0.0846206257119775\n\\item 0.129945571534336\n\\item 0.74613202130422\n\\item 0.0388791817240417\n\\item 0.685635416535661\n\\item 0.143977361498401\n\\item 0.891079957829788\n\\item 0.0896361162886024\n\\item 0.0377327192109078\n\\item 0.774874358670786\n\\item 0.812063878169283\n\\item 0.260602545691654\n\\item 0.651594998314977\n\\item 0.923803851008415\n\\item 0.266106120776385\n\\item 0.266132987104356\n\\item 0.9109178960789\n\\item 0.590563533129171\n\\item 0.918147645192221\n\\end{enumerate*}\n",
            "text/plain": [
              " [1] 0.60134555 0.03834435 0.14149569 0.80638553 0.26668568 0.04270205\n",
              " [7] 0.61217452 0.55334840 0.85350077 0.46977854 0.39761656 0.80463673\n",
              "[13] 0.50889739 0.63491535 0.49425172 0.28013090 0.90871035 0.78411616\n",
              "[19] 0.55899702 0.24443749 0.53097066 0.11839594 0.98338343 0.89775284\n",
              "[25] 0.73857376 0.37731070 0.60616883 0.51219426 0.98924666 0.06913359\n",
              "[31] 0.08462063 0.12994557 0.74613202 0.03887918 0.68563542 0.14397736\n",
              "[37] 0.89107996 0.08963612 0.03773272 0.77487436 0.81206388 0.26060255\n",
              "[43] 0.65159500 0.92380385 0.26610612 0.26613299 0.91091790 0.59056353\n",
              "[49] 0.91814765"
            ]
          },
          "metadata": {}
        }
      ]
    },
    {
      "cell_type": "markdown",
      "source": [
        "Zadanie 26:\n",
        "\n",
        "a) Stworz liste o dlugosci 5 o wartosciach domyslnych.\n",
        "\n",
        "b) Stworz wektor poprzez wylosowanie kolejnych 5 liczb calkowitch (bez powtorzen) z wektora od 1 do 10. Poczatkowa wartosc generatora liczb pseudolosowych powinna zostac ustalona na 123.\n",
        "\n",
        "c) Wstaw do kolejnych elementow listy wektor powtarzajacy konkretna liczbe z wektora z pkt b) tyle razy, jaka liczba zawarta jest pod konkretnym elementem wektora, np. dla liczby 4 wektor bedzie mial dlugosc 4 i w kazdym elemencie bedzie liczba 4.\n",
        "\n",
        "d) Przeksztalc liste w wektor liczb calkowitych."
      ],
      "metadata": {
        "id": "oIeLFM-RQ89l"
      }
    },
    {
      "cell_type": "code",
      "source": [
        "lista <- vector(mode = \"list\", length = 5)\n",
        "\n",
        "set.seed(123)\n",
        "v <- sample(1:10, 5, FALSE)\n",
        "v\n",
        "\n",
        "for(i in 1:length(lista)){\n",
        "  lista[[i]] <- rep(v[i],v[i])\n",
        "}\n",
        "\n",
        "lista\n",
        "\n",
        "wektor <- unlist(lista)\n",
        "wektor"
      ],
      "metadata": {
        "id": "QExaCYP-Y0Od",
        "colab": {
          "base_uri": "https://localhost:8080/",
          "height": 167
        },
        "outputId": "6dbd6d80-dfa5-40e6-b720-08941e668bea"
      },
      "execution_count": null,
      "outputs": [
        {
          "output_type": "display_data",
          "data": {
            "text/html": [
              "<style>\n",
              ".list-inline {list-style: none; margin:0; padding: 0}\n",
              ".list-inline>li {display: inline-block}\n",
              ".list-inline>li:not(:last-child)::after {content: \"\\00b7\"; padding: 0 .5ex}\n",
              "</style>\n",
              "<ol class=list-inline><li>3</li><li>10</li><li>2</li><li>8</li><li>6</li></ol>\n"
            ],
            "text/markdown": "1. 3\n2. 10\n3. 2\n4. 8\n5. 6\n\n\n",
            "text/latex": "\\begin{enumerate*}\n\\item 3\n\\item 10\n\\item 2\n\\item 8\n\\item 6\n\\end{enumerate*}\n",
            "text/plain": [
              "[1]  3 10  2  8  6"
            ]
          },
          "metadata": {}
        },
        {
          "output_type": "display_data",
          "data": {
            "text/html": [
              "<ol>\n",
              "\t<li><style>\n",
              ".list-inline {list-style: none; margin:0; padding: 0}\n",
              ".list-inline>li {display: inline-block}\n",
              ".list-inline>li:not(:last-child)::after {content: \"\\00b7\"; padding: 0 .5ex}\n",
              "</style>\n",
              "<ol class=list-inline><li>3</li><li>3</li><li>3</li></ol>\n",
              "</li>\n",
              "\t<li><style>\n",
              ".list-inline {list-style: none; margin:0; padding: 0}\n",
              ".list-inline>li {display: inline-block}\n",
              ".list-inline>li:not(:last-child)::after {content: \"\\00b7\"; padding: 0 .5ex}\n",
              "</style>\n",
              "<ol class=list-inline><li>10</li><li>10</li><li>10</li><li>10</li><li>10</li><li>10</li><li>10</li><li>10</li><li>10</li><li>10</li></ol>\n",
              "</li>\n",
              "\t<li><style>\n",
              ".list-inline {list-style: none; margin:0; padding: 0}\n",
              ".list-inline>li {display: inline-block}\n",
              ".list-inline>li:not(:last-child)::after {content: \"\\00b7\"; padding: 0 .5ex}\n",
              "</style>\n",
              "<ol class=list-inline><li>2</li><li>2</li></ol>\n",
              "</li>\n",
              "\t<li><style>\n",
              ".list-inline {list-style: none; margin:0; padding: 0}\n",
              ".list-inline>li {display: inline-block}\n",
              ".list-inline>li:not(:last-child)::after {content: \"\\00b7\"; padding: 0 .5ex}\n",
              "</style>\n",
              "<ol class=list-inline><li>8</li><li>8</li><li>8</li><li>8</li><li>8</li><li>8</li><li>8</li><li>8</li></ol>\n",
              "</li>\n",
              "\t<li><style>\n",
              ".list-inline {list-style: none; margin:0; padding: 0}\n",
              ".list-inline>li {display: inline-block}\n",
              ".list-inline>li:not(:last-child)::after {content: \"\\00b7\"; padding: 0 .5ex}\n",
              "</style>\n",
              "<ol class=list-inline><li>6</li><li>6</li><li>6</li><li>6</li><li>6</li><li>6</li></ol>\n",
              "</li>\n",
              "</ol>\n"
            ],
            "text/markdown": "1. 1. 3\n2. 3\n3. 3\n\n\n\n2. 1. 10\n2. 10\n3. 10\n4. 10\n5. 10\n6. 10\n7. 10\n8. 10\n9. 10\n10. 10\n\n\n\n3. 1. 2\n2. 2\n\n\n\n4. 1. 8\n2. 8\n3. 8\n4. 8\n5. 8\n6. 8\n7. 8\n8. 8\n\n\n\n5. 1. 6\n2. 6\n3. 6\n4. 6\n5. 6\n6. 6\n\n\n\n\n\n",
            "text/latex": "\\begin{enumerate}\n\\item \\begin{enumerate*}\n\\item 3\n\\item 3\n\\item 3\n\\end{enumerate*}\n\n\\item \\begin{enumerate*}\n\\item 10\n\\item 10\n\\item 10\n\\item 10\n\\item 10\n\\item 10\n\\item 10\n\\item 10\n\\item 10\n\\item 10\n\\end{enumerate*}\n\n\\item \\begin{enumerate*}\n\\item 2\n\\item 2\n\\end{enumerate*}\n\n\\item \\begin{enumerate*}\n\\item 8\n\\item 8\n\\item 8\n\\item 8\n\\item 8\n\\item 8\n\\item 8\n\\item 8\n\\end{enumerate*}\n\n\\item \\begin{enumerate*}\n\\item 6\n\\item 6\n\\item 6\n\\item 6\n\\item 6\n\\item 6\n\\end{enumerate*}\n\n\\end{enumerate}\n",
            "text/plain": [
              "[[1]]\n",
              "[1] 3 3 3\n",
              "\n",
              "[[2]]\n",
              " [1] 10 10 10 10 10 10 10 10 10 10\n",
              "\n",
              "[[3]]\n",
              "[1] 2 2\n",
              "\n",
              "[[4]]\n",
              "[1] 8 8 8 8 8 8 8 8\n",
              "\n",
              "[[5]]\n",
              "[1] 6 6 6 6 6 6\n"
            ]
          },
          "metadata": {}
        },
        {
          "output_type": "display_data",
          "data": {
            "text/html": [
              "<style>\n",
              ".list-inline {list-style: none; margin:0; padding: 0}\n",
              ".list-inline>li {display: inline-block}\n",
              ".list-inline>li:not(:last-child)::after {content: \"\\00b7\"; padding: 0 .5ex}\n",
              "</style>\n",
              "<ol class=list-inline><li>3</li><li>3</li><li>3</li><li>10</li><li>10</li><li>10</li><li>10</li><li>10</li><li>10</li><li>10</li><li>10</li><li>10</li><li>10</li><li>2</li><li>2</li><li>8</li><li>8</li><li>8</li><li>8</li><li>8</li><li>8</li><li>8</li><li>8</li><li>6</li><li>6</li><li>6</li><li>6</li><li>6</li><li>6</li></ol>\n"
            ],
            "text/markdown": "1. 3\n2. 3\n3. 3\n4. 10\n5. 10\n6. 10\n7. 10\n8. 10\n9. 10\n10. 10\n11. 10\n12. 10\n13. 10\n14. 2\n15. 2\n16. 8\n17. 8\n18. 8\n19. 8\n20. 8\n21. 8\n22. 8\n23. 8\n24. 6\n25. 6\n26. 6\n27. 6\n28. 6\n29. 6\n\n\n",
            "text/latex": "\\begin{enumerate*}\n\\item 3\n\\item 3\n\\item 3\n\\item 10\n\\item 10\n\\item 10\n\\item 10\n\\item 10\n\\item 10\n\\item 10\n\\item 10\n\\item 10\n\\item 10\n\\item 2\n\\item 2\n\\item 8\n\\item 8\n\\item 8\n\\item 8\n\\item 8\n\\item 8\n\\item 8\n\\item 8\n\\item 6\n\\item 6\n\\item 6\n\\item 6\n\\item 6\n\\item 6\n\\end{enumerate*}\n",
            "text/plain": [
              " [1]  3  3  3 10 10 10 10 10 10 10 10 10 10  2  2  8  8  8  8  8  8  8  8  6  6\n",
              "[26]  6  6  6  6"
            ]
          },
          "metadata": {}
        }
      ]
    }
  ]
}