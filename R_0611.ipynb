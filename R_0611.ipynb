{
  "nbformat": 4,
  "nbformat_minor": 0,
  "metadata": {
    "colab": {
      "provenance": [],
      "authorship_tag": "ABX9TyP3nkXsAAhH7ZlaqCkH57g+",
      "include_colab_link": true
    },
    "kernelspec": {
      "name": "ir",
      "display_name": "R"
    },
    "language_info": {
      "name": "R"
    },
    "gpuClass": "standard"
  },
  "cells": [
    {
      "cell_type": "markdown",
      "metadata": {
        "id": "view-in-github",
        "colab_type": "text"
      },
      "source": [
        "<a href=\"https://colab.research.google.com/github/brzenio/R_study/blob/main/R_0611.ipynb\" target=\"_parent\"><img src=\"https://colab.research.google.com/assets/colab-badge.svg\" alt=\"Open In Colab\"/></a>"
      ]
    },
    {
      "cell_type": "markdown",
      "source": [
        "#### We wszystkich ponizszych zadaniach stworz wlasne obiekty, tj. nazwane wektory, niepuste wektory i listy.\n"
      ],
      "metadata": {
        "id": "p-dhOd8rhiaU"
      }
    },
    {
      "cell_type": "markdown",
      "source": [
        "Zadanie 1: Napisz funkcje, ktora oblicza liczbe a do potęgi b, niech b ma domyślną wartość 2."
      ],
      "metadata": {
        "id": "ZSPV53Lahtlu"
      }
    },
    {
      "cell_type": "code",
      "source": [
        "b <- 2\n",
        "b"
      ],
      "metadata": {
        "colab": {
          "base_uri": "https://localhost:8080/",
          "height": 34
        },
        "id": "5pwVe2qih-3o",
        "outputId": "14fb5588-6ba6-4b73-be2d-16c194fe743f"
      },
      "execution_count": 23,
      "outputs": [
        {
          "output_type": "display_data",
          "data": {
            "text/html": [
              "2"
            ],
            "text/markdown": "2",
            "text/latex": "2",
            "text/plain": [
              "[1] 2"
            ]
          },
          "metadata": {}
        }
      ]
    },
    {
      "cell_type": "markdown",
      "source": [
        "Zadanie 2: Napisz funkcje, ktora zmienia wartość pi w globalnym środowisku R na dowolną wartość określoną jako argument."
      ],
      "metadata": {
        "id": "RirmO1v3h1pk"
      }
    },
    {
      "cell_type": "code",
      "source": [],
      "metadata": {
        "id": "gywpGaPMh7zr"
      },
      "execution_count": 1,
      "outputs": []
    },
    {
      "cell_type": "markdown",
      "source": [
        "Zadanie 3: Napisz funkcję, ktara sprawdza, czy wartosci z pierwszego wektora znajduja się w zakresie między maksimum a minimum drugiego wektora."
      ],
      "metadata": {
        "id": "OVRbrI-Fh_ui"
      }
    },
    {
      "cell_type": "code",
      "source": [],
      "metadata": {
        "id": "MUCyuE8Qh_4B"
      },
      "execution_count": 3,
      "outputs": []
    },
    {
      "cell_type": "markdown",
      "source": [
        "Zadanie 4: Napisz funkcje zliczajaca liczbe brakow danych w danym wektorze."
      ],
      "metadata": {
        "id": "kBGMgiqOh_7U"
      }
    },
    {
      "cell_type": "code",
      "source": [],
      "metadata": {
        "id": "rutQ8Je0h_-L"
      },
      "execution_count": 5,
      "outputs": []
    },
    {
      "cell_type": "markdown",
      "source": [
        "Zadanie 5: Napisz funkcje konwertujaca wartosci w danym wektorze typu NA, NaN, INF, na jego wartosc srednia."
      ],
      "metadata": {
        "id": "qq3GzkamiAA4"
      }
    },
    {
      "cell_type": "code",
      "source": [],
      "metadata": {
        "id": "qWJuWxbSiADJ"
      },
      "execution_count": 7,
      "outputs": []
    },
    {
      "cell_type": "markdown",
      "source": [
        "Zadanie 6: Napisz funkcje, ktora wyswietli w konsoli informacje o liczbie elementow w danym wekotrze oraz w linijce ponizej informacje o typie wektora - prosze wykorzystac tylko raz funkcje do wyswietlania informacji."
      ],
      "metadata": {
        "id": "0vk3mqLJiAGj"
      }
    },
    {
      "cell_type": "code",
      "source": [],
      "metadata": {
        "id": "Obs_MMbuiAKu"
      },
      "execution_count": 9,
      "outputs": []
    },
    {
      "cell_type": "markdown",
      "source": [
        "Zadanie 7: Napisz funkcje wyznaczajaca wartosc srednia oraz mediane, pomijajac wartosci minimalna i maksymalna w danym wektorze. Funkcja nie powinna zwracac niczego oraz powinna wyswietlac w konsoli tresc typu \"Srednia to: xxx, mediana to: xxx\""
      ],
      "metadata": {
        "id": "nloZV9WsiAM4"
      }
    },
    {
      "cell_type": "code",
      "source": [],
      "metadata": {
        "id": "QYz5RBsDiAO4"
      },
      "execution_count": 12,
      "outputs": []
    },
    {
      "cell_type": "markdown",
      "source": [
        "Zadanie 8: Napisz funkcje, ktora wyznaczy dla danego wektora wejsciowego x, pewna statystyke opisowa np. srednia, min, max - owa statystyka powinna byc przekazana do fukcji jako prametr. Fukcja powinna wyswietlac w konsoli tresc \"Wartosc [Nazwa przekazanej funkcji] to: xxx\"."
      ],
      "metadata": {
        "id": "OZmkHkH0iDaw"
      }
    },
    {
      "cell_type": "code",
      "source": [],
      "metadata": {
        "id": "2WO19S91iEuf"
      },
      "execution_count": null,
      "outputs": []
    },
    {
      "cell_type": "markdown",
      "source": [
        "Zadanie 9:\n",
        "\n",
        "a) Stworz funkcje wskazujaca obserwacje odstajace z podanego wektora liczb rzeczywistych (x <-rcauchy(10)) wykorzystujaca regule kwartylow: Q1-1.5*(Q3-Q1) Q1+1.5*(Q3-Q1).\n",
        "\n",
        "b) Funkcja powinna zwracac obiekt z podanymi atrybutami zawierajacymi informacje:\n",
        "  a. jakie wartosci sa odstajace\n",
        "  b. jakie wartosci sa nieodstajace\n",
        "  c. indeksy wartosci odstajacych\n",
        "  d. indeksy wartosci nieodstajacych\n",
        "\n",
        "c) (wykorzystaj funkcje quantile, which, attr)."
      ],
      "metadata": {
        "id": "BaFbtL0WiEC_"
      }
    },
    {
      "cell_type": "code",
      "source": [],
      "metadata": {
        "id": "HRwbaPNeifqJ"
      },
      "execution_count": 14,
      "outputs": []
    },
    {
      "cell_type": "markdown",
      "source": [
        "Zadanie 10:\n",
        "\n",
        "a) Stworz dwa wektory np. Nie_odstajace oraz Odstajace, ktore beda przechowywac wyniki zwracane przez funkcje stworzona w poprzednim kroku."
      ],
      "metadata": {
        "id": "93lI1-LiigHw"
      }
    },
    {
      "cell_type": "code",
      "source": [],
      "metadata": {
        "id": "UO3k3TcGigKo"
      },
      "execution_count": 16,
      "outputs": []
    },
    {
      "cell_type": "markdown",
      "source": [
        "Zadanie 11:\n",
        "\n",
        "a) Wysymuluj 30 liczb calkowitych z przedzialu od 10 do 20. Poczatkowa wartosc generatora liczb pseudolosowych powinna zostac ustalona na 444.\n",
        "\n",
        "b) Stworz nastepnie poprzez prealokacje wektor liczb calkowitych o wartosciach domyslnych. \n",
        "   Dlugosc tego wektora ustalona jest jako dlugosc wysymulowanego wektora z punktu powyzej.\n",
        "\n",
        "c) Za pomoca petli for wstaw nastepnie elementy wektora losowego (pkt. a) do wektora z pkt. b. \n",
        "\n",
        "   Petla powinna byc wykonana w dwoch wersjach: operujac na indeksach obydwu wektorow oraz na rzeczywistych wartosciach jednego z nich. W ostatnim kroku kazda petla powinna wyswietlac (nie uzywajac funckji print()) caly wektor (pkt. b) oraz informacje o jego typie (wiersz ponizej). "
      ],
      "metadata": {
        "id": "fD4LswW4igNg"
      }
    },
    {
      "cell_type": "code",
      "source": [],
      "metadata": {
        "id": "jxx3KIfLigQU"
      },
      "execution_count": 18,
      "outputs": []
    },
    {
      "cell_type": "markdown",
      "source": [
        "Zadanie 12:\n",
        "\n",
        "a) Stworz wektor zawierajacy liczby od 1 do 9,\n",
        "\n",
        "b) Stworz liste o dlugosci odpowiadajacej dlugosci wektora z pkt. a.\n",
        "\n",
        "c) Za pomoca petli for iterujacej w ramch wartosci zawartych w wektorze z pkt. a, wstaw w kolejne elementy listy podzbiór wektora z pkt a, tak aby\n",
        "  pierwszy element listy zawieral pierwszy element, drugi element listy zawieral pierwszy oraz drugi element,..., \n",
        "  dziewiaty element listy zawieral wszystkie elementy. Stworzy sie swojego rodzaju piramida."
      ],
      "metadata": {
        "id": "Hus2VUxXigUq"
      }
    },
    {
      "cell_type": "code",
      "source": [],
      "metadata": {
        "id": "RLdMudwRigXF"
      },
      "execution_count": 20,
      "outputs": []
    },
    {
      "cell_type": "markdown",
      "source": [
        "Zadanie 13:\n",
        "\n",
        "a) Wykonaj powyzsze zadanie nie wykorzystujac petli."
      ],
      "metadata": {
        "id": "-mJEOC-wigZt"
      }
    },
    {
      "cell_type": "code",
      "source": [],
      "metadata": {
        "id": "Jtbl1IDPjBKo"
      },
      "execution_count": null,
      "outputs": []
    }
  ]
}