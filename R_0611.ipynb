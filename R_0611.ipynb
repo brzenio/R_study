{
  "nbformat": 4,
  "nbformat_minor": 0,
  "metadata": {
    "colab": {
      "provenance": [],
      "authorship_tag": "ABX9TyMMuu+K/TZv2sR8MG9tv11g",
      "include_colab_link": true
    },
    "kernelspec": {
      "name": "ir",
      "display_name": "R"
    },
    "language_info": {
      "name": "R"
    },
    "gpuClass": "standard"
  },
  "cells": [
    {
      "cell_type": "markdown",
      "metadata": {
        "id": "view-in-github",
        "colab_type": "text"
      },
      "source": [
        "<a href=\"https://colab.research.google.com/github/brzenio/R_study/blob/main/R_0611.ipynb\" target=\"_parent\"><img src=\"https://colab.research.google.com/assets/colab-badge.svg\" alt=\"Open In Colab\"/></a>"
      ]
    },
    {
      "cell_type": "markdown",
      "source": [
        "**We wszystkich ponizszych zadaniach stworz wlasne obiekty, tj. nazwane wektory, niepuste wektory i listy.**\n"
      ],
      "metadata": {
        "id": "p-dhOd8rhiaU"
      }
    },
    {
      "cell_type": "markdown",
      "source": [
        "Zadanie 1: Napisz funkcje, ktora oblicza liczbe a do potęgi b, niech b ma domyślną wartość 2."
      ],
      "metadata": {
        "id": "ZSPV53Lahtlu"
      }
    },
    {
      "cell_type": "code",
      "source": [
        "power <- function(x, y=2){\n",
        "  return(x^y)\n",
        "}\n",
        "\n",
        "power(3)"
      ],
      "metadata": {
        "colab": {
          "base_uri": "https://localhost:8080/",
          "height": 34
        },
        "id": "5pwVe2qih-3o",
        "outputId": "f3ea2e8a-ce59-43e0-8287-1bd47611fe4c"
      },
      "execution_count": 3,
      "outputs": [
        {
          "output_type": "display_data",
          "data": {
            "text/html": [
              "9"
            ],
            "text/markdown": "9",
            "text/latex": "9",
            "text/plain": [
              "[1] 9"
            ]
          },
          "metadata": {}
        }
      ]
    },
    {
      "cell_type": "markdown",
      "source": [
        "Zadanie 2: Napisz funkcje, ktora zmienia wartość pi w globalnym środowisku R na dowolną wartość określoną jako argument."
      ],
      "metadata": {
        "id": "RirmO1v3h1pk"
      }
    },
    {
      "cell_type": "code",
      "source": [
        "change_pi <- function(value){\n",
        "  assign(\"pi\", value, envir = .GlobalEnv)\n",
        "}\n",
        "\n",
        "rm(pi)\n",
        "pi\n",
        "change_pi(2)\n",
        "pi"
      ],
      "metadata": {
        "id": "gywpGaPMh7zr",
        "colab": {
          "base_uri": "https://localhost:8080/",
          "height": 52
        },
        "outputId": "f953cdcc-f212-4879-e3b6-33db81d8021a"
      },
      "execution_count": 9,
      "outputs": [
        {
          "output_type": "display_data",
          "data": {
            "text/html": [
              "3.14159265358979"
            ],
            "text/markdown": "3.14159265358979",
            "text/latex": "3.14159265358979",
            "text/plain": [
              "[1] 3.141593"
            ]
          },
          "metadata": {}
        },
        {
          "output_type": "display_data",
          "data": {
            "text/html": [
              "2"
            ],
            "text/markdown": "2",
            "text/latex": "2",
            "text/plain": [
              "[1] 2"
            ]
          },
          "metadata": {}
        }
      ]
    },
    {
      "cell_type": "markdown",
      "source": [
        "Zadanie 3: Napisz funkcję, ktara sprawdza, czy wartosci z pierwszego wektora znajduja się w zakresie między maksimum a minimum drugiego wektora."
      ],
      "metadata": {
        "id": "OVRbrI-Fh_ui"
      }
    },
    {
      "cell_type": "code",
      "source": [
        "v1 <- c(1:10)\n",
        "v2 <- c(5:20)\n",
        "\n",
        "min <- min(v2)\n",
        "max <- max(v2)\n",
        "\n",
        "min\n",
        "max\n",
        "\n",
        "check <- function(v1, v2){\n",
        "  v1[v1 >= min & v1 <= max]\n",
        "}\n",
        "\n",
        "check(v1,v2)"
      ],
      "metadata": {
        "id": "MUCyuE8Qh_4B",
        "colab": {
          "base_uri": "https://localhost:8080/",
          "height": 69
        },
        "outputId": "997bb2a4-7efc-4f25-f26e-f684fb1dcfc4"
      },
      "execution_count": 27,
      "outputs": [
        {
          "output_type": "display_data",
          "data": {
            "text/html": [
              "5"
            ],
            "text/markdown": "5",
            "text/latex": "5",
            "text/plain": [
              "[1] 5"
            ]
          },
          "metadata": {}
        },
        {
          "output_type": "display_data",
          "data": {
            "text/html": [
              "20"
            ],
            "text/markdown": "20",
            "text/latex": "20",
            "text/plain": [
              "[1] 20"
            ]
          },
          "metadata": {}
        },
        {
          "output_type": "display_data",
          "data": {
            "text/html": [
              "<style>\n",
              ".list-inline {list-style: none; margin:0; padding: 0}\n",
              ".list-inline>li {display: inline-block}\n",
              ".list-inline>li:not(:last-child)::after {content: \"\\00b7\"; padding: 0 .5ex}\n",
              "</style>\n",
              "<ol class=list-inline><li>5</li><li>6</li><li>7</li><li>8</li><li>9</li><li>10</li></ol>\n"
            ],
            "text/markdown": "1. 5\n2. 6\n3. 7\n4. 8\n5. 9\n6. 10\n\n\n",
            "text/latex": "\\begin{enumerate*}\n\\item 5\n\\item 6\n\\item 7\n\\item 8\n\\item 9\n\\item 10\n\\end{enumerate*}\n",
            "text/plain": [
              "[1]  5  6  7  8  9 10"
            ]
          },
          "metadata": {}
        }
      ]
    },
    {
      "cell_type": "markdown",
      "source": [
        "Zadanie 4: Napisz funkcje zliczajaca liczbe brakow danych w danym wektorze."
      ],
      "metadata": {
        "id": "kBGMgiqOh_7U"
      }
    },
    {
      "cell_type": "code",
      "source": [
        "v <- c(1,NaN, NaN, 2, 3)\n",
        "\n",
        "IsNaN <- function(v){\n",
        "  sum(is.na(v))\n",
        "}\n",
        "\n",
        "IsNaN(v)"
      ],
      "metadata": {
        "id": "rutQ8Je0h_-L",
        "colab": {
          "base_uri": "https://localhost:8080/",
          "height": 34
        },
        "outputId": "8d25d4f8-aefd-483e-8d20-aac077ce5de0"
      },
      "execution_count": 28,
      "outputs": [
        {
          "output_type": "display_data",
          "data": {
            "text/html": [
              "2"
            ],
            "text/markdown": "2",
            "text/latex": "2",
            "text/plain": [
              "[1] 2"
            ]
          },
          "metadata": {}
        }
      ]
    },
    {
      "cell_type": "markdown",
      "source": [
        "Zadanie 5: Napisz funkcje konwertujaca wartosci w danym wektorze typu NA, NaN, INF, na jego wartosc srednia."
      ],
      "metadata": {
        "id": "qq3GzkamiAA4"
      }
    },
    {
      "cell_type": "code",
      "source": [
        "v <- c(1,NaN, NaN, 2, 3)\n",
        "m <- mean(v, na.rm = TRUE)\n",
        "m\n",
        "\n",
        "conv <- function(v){\n",
        "  for(i in 1:length(v)){\n",
        "    if(is.na(v[i]) | is.infinite(v[i] | is.nan(v[i]))){\n",
        "    v[i] <- m\n",
        "    }\n",
        "  }\n",
        "   return(v)\n",
        "}\n",
        "\n",
        "conv2 <- function(v) {\n",
        "  v[is.na(v) | is.infinite(v)] <- mean(v, na.rm = TRUE)\n",
        "  v\n",
        "}\n",
        "\n",
        "\n",
        "conv(v)\n",
        "conv2(v)"
      ],
      "metadata": {
        "id": "qWJuWxbSiADJ",
        "colab": {
          "base_uri": "https://localhost:8080/",
          "height": 69
        },
        "outputId": "cd941187-ac26-4238-8f5b-3e2917b2e3e5"
      },
      "execution_count": 63,
      "outputs": [
        {
          "output_type": "display_data",
          "data": {
            "text/html": [
              "2"
            ],
            "text/markdown": "2",
            "text/latex": "2",
            "text/plain": [
              "[1] 2"
            ]
          },
          "metadata": {}
        },
        {
          "output_type": "display_data",
          "data": {
            "text/html": [
              "<style>\n",
              ".list-inline {list-style: none; margin:0; padding: 0}\n",
              ".list-inline>li {display: inline-block}\n",
              ".list-inline>li:not(:last-child)::after {content: \"\\00b7\"; padding: 0 .5ex}\n",
              "</style>\n",
              "<ol class=list-inline><li>1</li><li>2</li><li>2</li><li>2</li><li>3</li></ol>\n"
            ],
            "text/markdown": "1. 1\n2. 2\n3. 2\n4. 2\n5. 3\n\n\n",
            "text/latex": "\\begin{enumerate*}\n\\item 1\n\\item 2\n\\item 2\n\\item 2\n\\item 3\n\\end{enumerate*}\n",
            "text/plain": [
              "[1] 1 2 2 2 3"
            ]
          },
          "metadata": {}
        },
        {
          "output_type": "display_data",
          "data": {
            "text/html": [
              "<style>\n",
              ".list-inline {list-style: none; margin:0; padding: 0}\n",
              ".list-inline>li {display: inline-block}\n",
              ".list-inline>li:not(:last-child)::after {content: \"\\00b7\"; padding: 0 .5ex}\n",
              "</style>\n",
              "<ol class=list-inline><li>1</li><li>2</li><li>2</li><li>2</li><li>3</li></ol>\n"
            ],
            "text/markdown": "1. 1\n2. 2\n3. 2\n4. 2\n5. 3\n\n\n",
            "text/latex": "\\begin{enumerate*}\n\\item 1\n\\item 2\n\\item 2\n\\item 2\n\\item 3\n\\end{enumerate*}\n",
            "text/plain": [
              "[1] 1 2 2 2 3"
            ]
          },
          "metadata": {}
        }
      ]
    },
    {
      "cell_type": "markdown",
      "source": [
        "Zadanie 6: Napisz funkcje, ktora wyswietli w konsoli informacje o liczbie elementow w danym wekotrze oraz w linijce ponizej informacje o typie wektora - prosze wykorzystac tylko raz funkcje do wyswietlania informacji."
      ],
      "metadata": {
        "id": "0vk3mqLJiAGj"
      }
    },
    {
      "cell_type": "code",
      "source": [
        "v <- c(1:10)\n",
        "\n",
        "info <- function(v){\n",
        "  cat(\"Length: \", length(v), \"\\n\", \"Type: \", typeof(v))\n",
        "}\n",
        "\n",
        "info(v)"
      ],
      "metadata": {
        "id": "Obs_MMbuiAKu",
        "colab": {
          "base_uri": "https://localhost:8080/"
        },
        "outputId": "c36884b5-69ed-434a-d01f-70379dac152a"
      },
      "execution_count": 75,
      "outputs": [
        {
          "output_type": "stream",
          "name": "stdout",
          "text": [
            "Length:  10 \n",
            " Type:  integer"
          ]
        }
      ]
    },
    {
      "cell_type": "markdown",
      "source": [
        "Zadanie 7: Napisz funkcje wyznaczajaca wartosc srednia oraz mediane, pomijajac wartosci minimalna i maksymalna w danym wektorze. Funkcja nie powinna zwracac niczego oraz powinna wyswietlac w konsoli tresc typu \"Srednia to: xxx, mediana to: xxx\""
      ],
      "metadata": {
        "id": "nloZV9WsiAM4"
      }
    },
    {
      "cell_type": "code",
      "source": [
        "v <- sample(1:100, 10, FALSE)\n",
        "# v\n",
        "# v <- sort(v)\n",
        "# v\n",
        "\n",
        "# mean(v)\n",
        "# median(v)\n",
        "\n",
        "# v1 <- c(v[3:length(v)-1])\n",
        "# v1 \n",
        "\n",
        "# v2 <- v\n",
        "# v3 <- v2[c(-1,-length(v))]\n",
        "\n",
        "# mean(v3)\n",
        "# median(v3)\n",
        "\n",
        "\n",
        "math_print <- function(v){\n",
        "  v <- sort(v)\n",
        "  v2 <- v[c(-1,-length(v))]\n",
        "  cat(\"Srednia to:\", mean(v2), \", mediana to:\", median(v2))\n",
        "\n",
        "}\n",
        "# math_print(v)\n",
        "# cat(\"Srednia to: \", mean, \", mediana to: \", median)\n",
        "\n",
        "\n",
        "\n",
        "mean_median2 <- function(vec) {\n",
        "  vec <- sort(vec)\n",
        "  mean_val <- mean(vec[vec != min(vec) & vec != max(vec)], na.rm = TRUE)\n",
        "  median_val <- median(vec[vec != min(vec) & vec != max(vec)], na.rm = TRUE)\n",
        "  cat(\"Srednia to:\", mean_val, \", mediana to:\", median_val, \"\\n\")\n",
        "}\n",
        "\n",
        "math_print(v)\n",
        "cat(\"\\n\")\n",
        "mean_median2(v)"
      ],
      "metadata": {
        "id": "QYz5RBsDiAO4",
        "colab": {
          "base_uri": "https://localhost:8080/"
        },
        "outputId": "d7883d8c-b6ca-4aca-9a7f-82407d9db09e"
      },
      "execution_count": 117,
      "outputs": [
        {
          "output_type": "stream",
          "name": "stdout",
          "text": [
            "Srednia to: 35.625 , mediana to: 38.5\n",
            "Srednia to: 35.625 , mediana to: 38.5 \n"
          ]
        }
      ]
    },
    {
      "cell_type": "markdown",
      "source": [
        "Zadanie 8: Napisz funkcje, ktora wyznaczy dla danego wektora wejsciowego x, pewna statystyke opisowa np. srednia, min, max - owa statystyka powinna byc przekazana do fukcji jako prametr. Fukcja powinna wyswietlac w konsoli tresc \"Wartosc [Nazwa przekazanej funkcji] to: xxx\"."
      ],
      "metadata": {
        "id": "OZmkHkH0iDaw"
      }
    },
    {
      "cell_type": "code",
      "source": [
        "v <- sample(1:100, 10, FALSE)\n",
        "\n",
        "stat <- function(v, stat_type){\n",
        "  stat_calc <- stat_type(v)\n",
        "\n",
        "  # można zamienić też na:\n",
        "  # deparse(substitute(stat_type))\n",
        "  # as.character(substitute(stat_type))\n",
        "  cat(\"Wartosść\", substitute(stat_type), \"to:\", stat_calc, \"\\n\")\n",
        "}\n",
        "\n",
        "stat(v, mean)\n",
        "stat(v, median)"
      ],
      "metadata": {
        "id": "2WO19S91iEuf",
        "colab": {
          "base_uri": "https://localhost:8080/"
        },
        "outputId": "074d5606-21ae-4b91-830f-9d22beb0568e"
      },
      "execution_count": 127,
      "outputs": [
        {
          "output_type": "stream",
          "name": "stdout",
          "text": [
            "Wartosść mean to: 67 \n",
            "Wartosść median to: 74.5 \n"
          ]
        }
      ]
    },
    {
      "cell_type": "markdown",
      "source": [
        "Zadanie 9:\n",
        "\n",
        "a) Stworz funkcje wskazujaca obserwacje odstajace z podanego wektora liczb rzeczywistych (x <-rcauchy(10)) wykorzystujaca regule kwartylow: Q1-1.5*(Q3-Q1) Q1+1.5*(Q3-Q1).\n",
        "\n",
        "b) Funkcja powinna zwracac obiekt z podanymi atrybutami zawierajacymi informacje:\n",
        "  a. jakie wartosci sa odstajace\n",
        "  b. jakie wartosci sa nieodstajace\n",
        "  c. indeksy wartosci odstajacych\n",
        "  d. indeksy wartosci nieodstajacych\n",
        "\n",
        "c) (wykorzystaj funkcje quantile, which, attr)."
      ],
      "metadata": {
        "id": "BaFbtL0WiEC_"
      }
    },
    {
      "cell_type": "code",
      "source": [
        "v <- sample(1:100, 10, FALSE)\n",
        "\n",
        "outliers <- function(v){\n",
        "  Q1 <- quantile(v, 0.25)\n",
        "  Q3 <- quantile(v, 0.75)\n",
        "\n",
        "  roznica_q <- Q3 - Q1\n",
        "  out <- v[v < (Q1 - 1.5 * roznica_q) | v > (Q3 + 1.5 * roznica_q)]\n",
        "  non_out <- v[v >= (Q1 - 1.5 * roznica_q) & v <= (Q3 + 1.5 * roznica_q)]\n",
        "\n",
        "  out_index <- which(v %in% out)\n",
        "  non_out_index <- which(v %in% non_out)\n",
        "\n",
        "  return(list(out = out, non_out = non_out, outl_index = out_index, non_out_index = non_out_index))\n",
        "}\n",
        "\n",
        "\n",
        "# outliers2 <- function(vec) {\n",
        "#   Q1 <- quantile(vec, 0.25)\n",
        "#   Q3 <- quantile(vec, 0.75)\n",
        "#   IQR <- Q3 - Q1\n",
        "#   outliers <- vec[vec < (Q1 - 1.5 * IQR) | vec > (Q3 + 1.5 * IQR)]\n",
        "#   non_outliers <- vec[vec >= (Q1 - 1.5 * IQR) & vec <= (Q3 + 1.5 * IQR)]\n",
        "#   outlier_indices <- which(vec %in% outliers)\n",
        "#   non_outlier_indices <- which(vec %in% non_outliers)\n",
        "#   return(list(outliers = outliers, non_outliers = non_outliers, outlier_indices = outlier_indices, non_outlier_indices = non_outlier_indices))\n",
        "# }\n",
        "\n",
        "outliers(v)\n",
        "# outliers2(v)"
      ],
      "metadata": {
        "id": "HRwbaPNeifqJ",
        "colab": {
          "base_uri": "https://localhost:8080/",
          "height": 149
        },
        "outputId": "6289758a-11ab-44fe-a8b3-db7a5a0389ff"
      },
      "execution_count": 138,
      "outputs": [
        {
          "output_type": "display_data",
          "data": {
            "text/html": [
              "<dl>\n",
              "\t<dt>$out</dt>\n",
              "\t\t<dd></dd>\n",
              "\t<dt>$non_out</dt>\n",
              "\t\t<dd><style>\n",
              ".list-inline {list-style: none; margin:0; padding: 0}\n",
              ".list-inline>li {display: inline-block}\n",
              ".list-inline>li:not(:last-child)::after {content: \"\\00b7\"; padding: 0 .5ex}\n",
              "</style>\n",
              "<ol class=list-inline><li>72</li><li>74</li><li>45</li><li>98</li><li>86</li><li>16</li><li>69</li><li>48</li><li>5</li><li>1</li></ol>\n",
              "</dd>\n",
              "\t<dt>$outl_index</dt>\n",
              "\t\t<dd></dd>\n",
              "\t<dt>$non_out_index</dt>\n",
              "\t\t<dd><style>\n",
              ".list-inline {list-style: none; margin:0; padding: 0}\n",
              ".list-inline>li {display: inline-block}\n",
              ".list-inline>li:not(:last-child)::after {content: \"\\00b7\"; padding: 0 .5ex}\n",
              "</style>\n",
              "<ol class=list-inline><li>1</li><li>2</li><li>3</li><li>4</li><li>5</li><li>6</li><li>7</li><li>8</li><li>9</li><li>10</li></ol>\n",
              "</dd>\n",
              "</dl>\n"
            ],
            "text/markdown": "$out\n:   \n$non_out\n:   1. 72\n2. 74\n3. 45\n4. 98\n5. 86\n6. 16\n7. 69\n8. 48\n9. 5\n10. 1\n\n\n\n$outl_index\n:   \n$non_out_index\n:   1. 1\n2. 2\n3. 3\n4. 4\n5. 5\n6. 6\n7. 7\n8. 8\n9. 9\n10. 10\n\n\n\n\n\n",
            "text/latex": "\\begin{description}\n\\item[\\$out] \n\\item[\\$non\\_out] \\begin{enumerate*}\n\\item 72\n\\item 74\n\\item 45\n\\item 98\n\\item 86\n\\item 16\n\\item 69\n\\item 48\n\\item 5\n\\item 1\n\\end{enumerate*}\n\n\\item[\\$outl\\_index] \n\\item[\\$non\\_out\\_index] \\begin{enumerate*}\n\\item 1\n\\item 2\n\\item 3\n\\item 4\n\\item 5\n\\item 6\n\\item 7\n\\item 8\n\\item 9\n\\item 10\n\\end{enumerate*}\n\n\\end{description}\n",
            "text/plain": [
              "$out\n",
              "integer(0)\n",
              "\n",
              "$non_out\n",
              " [1] 72 74 45 98 86 16 69 48  5  1\n",
              "\n",
              "$outl_index\n",
              "integer(0)\n",
              "\n",
              "$non_out_index\n",
              " [1]  1  2  3  4  5  6  7  8  9 10\n"
            ]
          },
          "metadata": {}
        }
      ]
    },
    {
      "cell_type": "markdown",
      "source": [
        "Zadanie 10:\n",
        "\n",
        "a) Stworz dwa wektory np. Nie_odstajace oraz Odstajace, ktore beda przechowywac wyniki zwracane przez funkcje stworzona w poprzednim kroku."
      ],
      "metadata": {
        "id": "93lI1-LiigHw"
      }
    },
    {
      "cell_type": "code",
      "source": [
        "# Wyżej jest już wynik"
      ],
      "metadata": {
        "id": "UO3k3TcGigKo"
      },
      "execution_count": 139,
      "outputs": []
    },
    {
      "cell_type": "markdown",
      "source": [
        "Zadanie 11:\n",
        "\n",
        "a) Wysymuluj 30 liczb calkowitych z przedzialu od 10 do 20. Poczatkowa wartosc generatora liczb pseudolosowych powinna zostac ustalona na 444.\n",
        "\n",
        "b) Stworz nastepnie poprzez prealokacje wektor liczb calkowitych o wartosciach domyslnych. \n",
        "   Dlugosc tego wektora ustalona jest jako dlugosc wysymulowanego wektora z punktu powyzej.\n",
        "\n",
        "c) Za pomoca petli for wstaw nastepnie elementy wektora losowego (pkt. a) do wektora z pkt. b. \n",
        "\n",
        "   Petla powinna byc wykonana w dwoch wersjach: operujac na indeksach obydwu wektorow oraz na rzeczywistych wartosciach jednego z nich. W ostatnim kroku kazda petla powinna wyswietlac (nie uzywajac funckji print()) caly wektor (pkt. b) oraz informacje o jego typie (wiersz ponizej). "
      ],
      "metadata": {
        "id": "fD4LswW4igNg"
      }
    },
    {
      "cell_type": "code",
      "source": [
        "set.seed(444)\n",
        "\n",
        "x <- sample(10:20, 30, replace = TRUE)\n",
        "x\n",
        "\n",
        "default <- integer(length(x))\n",
        "default\n",
        "\n",
        "for(i in 1:length(x)){\n",
        "  default[i] <- x[i]\n",
        "}\n",
        "\n",
        "cat(default, \"\\n\")\n",
        "cat(\"Typ wektora:\", typeof(default), \"\\n\")\n",
        "\n",
        "default2 <- integer(length(x))\n",
        "\n",
        "for (el in x) {\n",
        "  default2 <- c(default2, el)\n",
        "}\n",
        "\n",
        "cat(default2, \"\\n\")\n",
        "cat(\"Typ wektora:\", typeof(default2), \"\\n\")"
      ],
      "metadata": {
        "id": "jxx3KIfLigQU",
        "colab": {
          "base_uri": "https://localhost:8080/",
          "height": 121
        },
        "outputId": "dd1b3c64-c038-4764-de0e-40a2c7d15902"
      },
      "execution_count": 167,
      "outputs": [
        {
          "output_type": "display_data",
          "data": {
            "text/html": [
              "<style>\n",
              ".list-inline {list-style: none; margin:0; padding: 0}\n",
              ".list-inline>li {display: inline-block}\n",
              ".list-inline>li:not(:last-child)::after {content: \"\\00b7\"; padding: 0 .5ex}\n",
              "</style>\n",
              "<ol class=list-inline><li>15</li><li>12</li><li>12</li><li>10</li><li>12</li><li>19</li><li>17</li><li>17</li><li>20</li><li>17</li><li>10</li><li>16</li><li>10</li><li>20</li><li>19</li><li>17</li><li>19</li><li>12</li><li>16</li><li>16</li><li>12</li><li>20</li><li>17</li><li>19</li><li>19</li><li>18</li><li>13</li><li>13</li><li>15</li><li>11</li></ol>\n"
            ],
            "text/markdown": "1. 15\n2. 12\n3. 12\n4. 10\n5. 12\n6. 19\n7. 17\n8. 17\n9. 20\n10. 17\n11. 10\n12. 16\n13. 10\n14. 20\n15. 19\n16. 17\n17. 19\n18. 12\n19. 16\n20. 16\n21. 12\n22. 20\n23. 17\n24. 19\n25. 19\n26. 18\n27. 13\n28. 13\n29. 15\n30. 11\n\n\n",
            "text/latex": "\\begin{enumerate*}\n\\item 15\n\\item 12\n\\item 12\n\\item 10\n\\item 12\n\\item 19\n\\item 17\n\\item 17\n\\item 20\n\\item 17\n\\item 10\n\\item 16\n\\item 10\n\\item 20\n\\item 19\n\\item 17\n\\item 19\n\\item 12\n\\item 16\n\\item 16\n\\item 12\n\\item 20\n\\item 17\n\\item 19\n\\item 19\n\\item 18\n\\item 13\n\\item 13\n\\item 15\n\\item 11\n\\end{enumerate*}\n",
            "text/plain": [
              " [1] 15 12 12 10 12 19 17 17 20 17 10 16 10 20 19 17 19 12 16 16 12 20 17 19 19\n",
              "[26] 18 13 13 15 11"
            ]
          },
          "metadata": {}
        },
        {
          "output_type": "display_data",
          "data": {
            "text/html": [
              "<style>\n",
              ".list-inline {list-style: none; margin:0; padding: 0}\n",
              ".list-inline>li {display: inline-block}\n",
              ".list-inline>li:not(:last-child)::after {content: \"\\00b7\"; padding: 0 .5ex}\n",
              "</style>\n",
              "<ol class=list-inline><li>0</li><li>0</li><li>0</li><li>0</li><li>0</li><li>0</li><li>0</li><li>0</li><li>0</li><li>0</li><li>0</li><li>0</li><li>0</li><li>0</li><li>0</li><li>0</li><li>0</li><li>0</li><li>0</li><li>0</li><li>0</li><li>0</li><li>0</li><li>0</li><li>0</li><li>0</li><li>0</li><li>0</li><li>0</li><li>0</li></ol>\n"
            ],
            "text/markdown": "1. 0\n2. 0\n3. 0\n4. 0\n5. 0\n6. 0\n7. 0\n8. 0\n9. 0\n10. 0\n11. 0\n12. 0\n13. 0\n14. 0\n15. 0\n16. 0\n17. 0\n18. 0\n19. 0\n20. 0\n21. 0\n22. 0\n23. 0\n24. 0\n25. 0\n26. 0\n27. 0\n28. 0\n29. 0\n30. 0\n\n\n",
            "text/latex": "\\begin{enumerate*}\n\\item 0\n\\item 0\n\\item 0\n\\item 0\n\\item 0\n\\item 0\n\\item 0\n\\item 0\n\\item 0\n\\item 0\n\\item 0\n\\item 0\n\\item 0\n\\item 0\n\\item 0\n\\item 0\n\\item 0\n\\item 0\n\\item 0\n\\item 0\n\\item 0\n\\item 0\n\\item 0\n\\item 0\n\\item 0\n\\item 0\n\\item 0\n\\item 0\n\\item 0\n\\item 0\n\\end{enumerate*}\n",
            "text/plain": [
              " [1] 0 0 0 0 0 0 0 0 0 0 0 0 0 0 0 0 0 0 0 0 0 0 0 0 0 0 0 0 0 0"
            ]
          },
          "metadata": {}
        },
        {
          "output_type": "stream",
          "name": "stdout",
          "text": [
            "15 12 12 10 12 19 17 17 20 17 10 16 10 20 19 17 19 12 16 16 12 20 17 19 19 18 13 13 15 11 \n",
            "Typ wektora: integer \n",
            "0 0 0 0 0 0 0 0 0 0 0 0 0 0 0 0 0 0 0 0 0 0 0 0 0 0 0 0 0 0 15 12 12 10 12 19 17 17 20 17 10 16 10 20 19 17 19 12 16 16 12 20 17 19 19 18 13 13 15 11 \n",
            "Typ wektora: integer \n"
          ]
        }
      ]
    },
    {
      "cell_type": "markdown",
      "source": [
        "Zadanie 12:\n",
        "\n",
        "a) Stworz wektor zawierajacy liczby od 1 do 9,\n",
        "\n",
        "b) Stworz liste o dlugosci odpowiadajacej dlugosci wektora z pkt. a.\n",
        "\n",
        "c) Za pomoca petli for iterujacej w ramch wartosci zawartych w wektorze z pkt. a, wstaw w kolejne elementy listy podzbiór wektora z pkt a, tak aby\n",
        "  pierwszy element listy zawieral pierwszy element, drugi element listy zawieral pierwszy oraz drugi element,..., \n",
        "  dziewiaty element listy zawieral wszystkie elementy. Stworzy sie swojego rodzaju piramida."
      ],
      "metadata": {
        "id": "Hus2VUxXigUq"
      }
    },
    {
      "cell_type": "code",
      "source": [
        "v <- c(1:9)\n",
        "\n",
        "lista <- vector(mode = \"list\", length(v))\n",
        "\n",
        "for(i in v){\n",
        "  lista[[i]] <- v[1:i]\n",
        "}\n",
        "\n",
        "lista"
      ],
      "metadata": {
        "id": "RLdMudwRigXF",
        "colab": {
          "base_uri": "https://localhost:8080/",
          "height": 201
        },
        "outputId": "5cff1252-276c-49b5-826e-433f55b60ed0"
      },
      "execution_count": 180,
      "outputs": [
        {
          "output_type": "display_data",
          "data": {
            "text/html": [
              "<ol>\n",
              "\t<li>1</li>\n",
              "\t<li><style>\n",
              ".list-inline {list-style: none; margin:0; padding: 0}\n",
              ".list-inline>li {display: inline-block}\n",
              ".list-inline>li:not(:last-child)::after {content: \"\\00b7\"; padding: 0 .5ex}\n",
              "</style>\n",
              "<ol class=list-inline><li>1</li><li>2</li></ol>\n",
              "</li>\n",
              "\t<li><style>\n",
              ".list-inline {list-style: none; margin:0; padding: 0}\n",
              ".list-inline>li {display: inline-block}\n",
              ".list-inline>li:not(:last-child)::after {content: \"\\00b7\"; padding: 0 .5ex}\n",
              "</style>\n",
              "<ol class=list-inline><li>1</li><li>2</li><li>3</li></ol>\n",
              "</li>\n",
              "\t<li><style>\n",
              ".list-inline {list-style: none; margin:0; padding: 0}\n",
              ".list-inline>li {display: inline-block}\n",
              ".list-inline>li:not(:last-child)::after {content: \"\\00b7\"; padding: 0 .5ex}\n",
              "</style>\n",
              "<ol class=list-inline><li>1</li><li>2</li><li>3</li><li>4</li></ol>\n",
              "</li>\n",
              "\t<li><style>\n",
              ".list-inline {list-style: none; margin:0; padding: 0}\n",
              ".list-inline>li {display: inline-block}\n",
              ".list-inline>li:not(:last-child)::after {content: \"\\00b7\"; padding: 0 .5ex}\n",
              "</style>\n",
              "<ol class=list-inline><li>1</li><li>2</li><li>3</li><li>4</li><li>5</li></ol>\n",
              "</li>\n",
              "\t<li><style>\n",
              ".list-inline {list-style: none; margin:0; padding: 0}\n",
              ".list-inline>li {display: inline-block}\n",
              ".list-inline>li:not(:last-child)::after {content: \"\\00b7\"; padding: 0 .5ex}\n",
              "</style>\n",
              "<ol class=list-inline><li>1</li><li>2</li><li>3</li><li>4</li><li>5</li><li>6</li></ol>\n",
              "</li>\n",
              "\t<li><style>\n",
              ".list-inline {list-style: none; margin:0; padding: 0}\n",
              ".list-inline>li {display: inline-block}\n",
              ".list-inline>li:not(:last-child)::after {content: \"\\00b7\"; padding: 0 .5ex}\n",
              "</style>\n",
              "<ol class=list-inline><li>1</li><li>2</li><li>3</li><li>4</li><li>5</li><li>6</li><li>7</li></ol>\n",
              "</li>\n",
              "\t<li><style>\n",
              ".list-inline {list-style: none; margin:0; padding: 0}\n",
              ".list-inline>li {display: inline-block}\n",
              ".list-inline>li:not(:last-child)::after {content: \"\\00b7\"; padding: 0 .5ex}\n",
              "</style>\n",
              "<ol class=list-inline><li>1</li><li>2</li><li>3</li><li>4</li><li>5</li><li>6</li><li>7</li><li>8</li></ol>\n",
              "</li>\n",
              "\t<li><style>\n",
              ".list-inline {list-style: none; margin:0; padding: 0}\n",
              ".list-inline>li {display: inline-block}\n",
              ".list-inline>li:not(:last-child)::after {content: \"\\00b7\"; padding: 0 .5ex}\n",
              "</style>\n",
              "<ol class=list-inline><li>1</li><li>2</li><li>3</li><li>4</li><li>5</li><li>6</li><li>7</li><li>8</li><li>9</li></ol>\n",
              "</li>\n",
              "</ol>\n"
            ],
            "text/markdown": "1. 1\n2. 1. 1\n2. 2\n\n\n\n3. 1. 1\n2. 2\n3. 3\n\n\n\n4. 1. 1\n2. 2\n3. 3\n4. 4\n\n\n\n5. 1. 1\n2. 2\n3. 3\n4. 4\n5. 5\n\n\n\n6. 1. 1\n2. 2\n3. 3\n4. 4\n5. 5\n6. 6\n\n\n\n7. 1. 1\n2. 2\n3. 3\n4. 4\n5. 5\n6. 6\n7. 7\n\n\n\n8. 1. 1\n2. 2\n3. 3\n4. 4\n5. 5\n6. 6\n7. 7\n8. 8\n\n\n\n9. 1. 1\n2. 2\n3. 3\n4. 4\n5. 5\n6. 6\n7. 7\n8. 8\n9. 9\n\n\n\n\n\n",
            "text/latex": "\\begin{enumerate}\n\\item 1\n\\item \\begin{enumerate*}\n\\item 1\n\\item 2\n\\end{enumerate*}\n\n\\item \\begin{enumerate*}\n\\item 1\n\\item 2\n\\item 3\n\\end{enumerate*}\n\n\\item \\begin{enumerate*}\n\\item 1\n\\item 2\n\\item 3\n\\item 4\n\\end{enumerate*}\n\n\\item \\begin{enumerate*}\n\\item 1\n\\item 2\n\\item 3\n\\item 4\n\\item 5\n\\end{enumerate*}\n\n\\item \\begin{enumerate*}\n\\item 1\n\\item 2\n\\item 3\n\\item 4\n\\item 5\n\\item 6\n\\end{enumerate*}\n\n\\item \\begin{enumerate*}\n\\item 1\n\\item 2\n\\item 3\n\\item 4\n\\item 5\n\\item 6\n\\item 7\n\\end{enumerate*}\n\n\\item \\begin{enumerate*}\n\\item 1\n\\item 2\n\\item 3\n\\item 4\n\\item 5\n\\item 6\n\\item 7\n\\item 8\n\\end{enumerate*}\n\n\\item \\begin{enumerate*}\n\\item 1\n\\item 2\n\\item 3\n\\item 4\n\\item 5\n\\item 6\n\\item 7\n\\item 8\n\\item 9\n\\end{enumerate*}\n\n\\end{enumerate}\n",
            "text/plain": [
              "[[1]]\n",
              "[1] 1\n",
              "\n",
              "[[2]]\n",
              "[1] 1 2\n",
              "\n",
              "[[3]]\n",
              "[1] 1 2 3\n",
              "\n",
              "[[4]]\n",
              "[1] 1 2 3 4\n",
              "\n",
              "[[5]]\n",
              "[1] 1 2 3 4 5\n",
              "\n",
              "[[6]]\n",
              "[1] 1 2 3 4 5 6\n",
              "\n",
              "[[7]]\n",
              "[1] 1 2 3 4 5 6 7\n",
              "\n",
              "[[8]]\n",
              "[1] 1 2 3 4 5 6 7 8\n",
              "\n",
              "[[9]]\n",
              "[1] 1 2 3 4 5 6 7 8 9\n"
            ]
          },
          "metadata": {}
        }
      ]
    },
    {
      "cell_type": "markdown",
      "source": [
        "Zadanie 13:\n",
        "\n",
        "a) Wykonaj powyzsze zadanie nie wykorzystujac petli."
      ],
      "metadata": {
        "id": "-mJEOC-wigZt"
      }
    },
    {
      "cell_type": "code",
      "source": [
        "lista1 <- lapply(1:length(v), function(i) v[1:i])\n",
        "lista1"
      ],
      "metadata": {
        "id": "Jtbl1IDPjBKo",
        "colab": {
          "base_uri": "https://localhost:8080/",
          "height": 201
        },
        "outputId": "fd0abc06-fd1b-4f7f-a81e-296b8d3cbf75"
      },
      "execution_count": 186,
      "outputs": [
        {
          "output_type": "display_data",
          "data": {
            "text/html": [
              "<ol>\n",
              "\t<li>1</li>\n",
              "\t<li><style>\n",
              ".list-inline {list-style: none; margin:0; padding: 0}\n",
              ".list-inline>li {display: inline-block}\n",
              ".list-inline>li:not(:last-child)::after {content: \"\\00b7\"; padding: 0 .5ex}\n",
              "</style>\n",
              "<ol class=list-inline><li>1</li><li>2</li></ol>\n",
              "</li>\n",
              "\t<li><style>\n",
              ".list-inline {list-style: none; margin:0; padding: 0}\n",
              ".list-inline>li {display: inline-block}\n",
              ".list-inline>li:not(:last-child)::after {content: \"\\00b7\"; padding: 0 .5ex}\n",
              "</style>\n",
              "<ol class=list-inline><li>1</li><li>2</li><li>3</li></ol>\n",
              "</li>\n",
              "\t<li><style>\n",
              ".list-inline {list-style: none; margin:0; padding: 0}\n",
              ".list-inline>li {display: inline-block}\n",
              ".list-inline>li:not(:last-child)::after {content: \"\\00b7\"; padding: 0 .5ex}\n",
              "</style>\n",
              "<ol class=list-inline><li>1</li><li>2</li><li>3</li><li>4</li></ol>\n",
              "</li>\n",
              "\t<li><style>\n",
              ".list-inline {list-style: none; margin:0; padding: 0}\n",
              ".list-inline>li {display: inline-block}\n",
              ".list-inline>li:not(:last-child)::after {content: \"\\00b7\"; padding: 0 .5ex}\n",
              "</style>\n",
              "<ol class=list-inline><li>1</li><li>2</li><li>3</li><li>4</li><li>5</li></ol>\n",
              "</li>\n",
              "\t<li><style>\n",
              ".list-inline {list-style: none; margin:0; padding: 0}\n",
              ".list-inline>li {display: inline-block}\n",
              ".list-inline>li:not(:last-child)::after {content: \"\\00b7\"; padding: 0 .5ex}\n",
              "</style>\n",
              "<ol class=list-inline><li>1</li><li>2</li><li>3</li><li>4</li><li>5</li><li>6</li></ol>\n",
              "</li>\n",
              "\t<li><style>\n",
              ".list-inline {list-style: none; margin:0; padding: 0}\n",
              ".list-inline>li {display: inline-block}\n",
              ".list-inline>li:not(:last-child)::after {content: \"\\00b7\"; padding: 0 .5ex}\n",
              "</style>\n",
              "<ol class=list-inline><li>1</li><li>2</li><li>3</li><li>4</li><li>5</li><li>6</li><li>7</li></ol>\n",
              "</li>\n",
              "\t<li><style>\n",
              ".list-inline {list-style: none; margin:0; padding: 0}\n",
              ".list-inline>li {display: inline-block}\n",
              ".list-inline>li:not(:last-child)::after {content: \"\\00b7\"; padding: 0 .5ex}\n",
              "</style>\n",
              "<ol class=list-inline><li>1</li><li>2</li><li>3</li><li>4</li><li>5</li><li>6</li><li>7</li><li>8</li></ol>\n",
              "</li>\n",
              "\t<li><style>\n",
              ".list-inline {list-style: none; margin:0; padding: 0}\n",
              ".list-inline>li {display: inline-block}\n",
              ".list-inline>li:not(:last-child)::after {content: \"\\00b7\"; padding: 0 .5ex}\n",
              "</style>\n",
              "<ol class=list-inline><li>1</li><li>2</li><li>3</li><li>4</li><li>5</li><li>6</li><li>7</li><li>8</li><li>9</li></ol>\n",
              "</li>\n",
              "</ol>\n"
            ],
            "text/markdown": "1. 1\n2. 1. 1\n2. 2\n\n\n\n3. 1. 1\n2. 2\n3. 3\n\n\n\n4. 1. 1\n2. 2\n3. 3\n4. 4\n\n\n\n5. 1. 1\n2. 2\n3. 3\n4. 4\n5. 5\n\n\n\n6. 1. 1\n2. 2\n3. 3\n4. 4\n5. 5\n6. 6\n\n\n\n7. 1. 1\n2. 2\n3. 3\n4. 4\n5. 5\n6. 6\n7. 7\n\n\n\n8. 1. 1\n2. 2\n3. 3\n4. 4\n5. 5\n6. 6\n7. 7\n8. 8\n\n\n\n9. 1. 1\n2. 2\n3. 3\n4. 4\n5. 5\n6. 6\n7. 7\n8. 8\n9. 9\n\n\n\n\n\n",
            "text/latex": "\\begin{enumerate}\n\\item 1\n\\item \\begin{enumerate*}\n\\item 1\n\\item 2\n\\end{enumerate*}\n\n\\item \\begin{enumerate*}\n\\item 1\n\\item 2\n\\item 3\n\\end{enumerate*}\n\n\\item \\begin{enumerate*}\n\\item 1\n\\item 2\n\\item 3\n\\item 4\n\\end{enumerate*}\n\n\\item \\begin{enumerate*}\n\\item 1\n\\item 2\n\\item 3\n\\item 4\n\\item 5\n\\end{enumerate*}\n\n\\item \\begin{enumerate*}\n\\item 1\n\\item 2\n\\item 3\n\\item 4\n\\item 5\n\\item 6\n\\end{enumerate*}\n\n\\item \\begin{enumerate*}\n\\item 1\n\\item 2\n\\item 3\n\\item 4\n\\item 5\n\\item 6\n\\item 7\n\\end{enumerate*}\n\n\\item \\begin{enumerate*}\n\\item 1\n\\item 2\n\\item 3\n\\item 4\n\\item 5\n\\item 6\n\\item 7\n\\item 8\n\\end{enumerate*}\n\n\\item \\begin{enumerate*}\n\\item 1\n\\item 2\n\\item 3\n\\item 4\n\\item 5\n\\item 6\n\\item 7\n\\item 8\n\\item 9\n\\end{enumerate*}\n\n\\end{enumerate}\n",
            "text/plain": [
              "[[1]]\n",
              "[1] 1\n",
              "\n",
              "[[2]]\n",
              "[1] 1 2\n",
              "\n",
              "[[3]]\n",
              "[1] 1 2 3\n",
              "\n",
              "[[4]]\n",
              "[1] 1 2 3 4\n",
              "\n",
              "[[5]]\n",
              "[1] 1 2 3 4 5\n",
              "\n",
              "[[6]]\n",
              "[1] 1 2 3 4 5 6\n",
              "\n",
              "[[7]]\n",
              "[1] 1 2 3 4 5 6 7\n",
              "\n",
              "[[8]]\n",
              "[1] 1 2 3 4 5 6 7 8\n",
              "\n",
              "[[9]]\n",
              "[1] 1 2 3 4 5 6 7 8 9\n"
            ]
          },
          "metadata": {}
        }
      ]
    }
  ]
}